{
 "cells": [
  {
   "cell_type": "markdown",
   "id": "0d9efc48-2543-4fd6-b61f-3637068987ac",
   "metadata": {},
   "source": [
    "# Doc2Vec"
   ]
  },
  {
   "cell_type": "code",
   "execution_count": 26,
   "id": "b96e56e3-013f-4a21-880a-544f6dfacde0",
   "metadata": {},
   "outputs": [],
   "source": [
    "reference = \"제품의 가격이 낮아지고, 품질이 올라간다(좋아진다, 높아진다). 또 제품의 다양성이 증가하고, 소비자들은 더 좋은 혜택을 받을 수 있다.\"\n",
    "sample = \"제품질이 향상되고 합리적인 가격에 상품이 팔릴것이다.\""
   ]
  },
  {
   "cell_type": "code",
   "execution_count": 27,
   "id": "d53ffa64-ec99-4b2c-a78c-ea68a6022d7c",
   "metadata": {},
   "outputs": [],
   "source": [
    "# https://github.com/huggingface/tokenizers\n",
    "from transformers import AutoTokenizer\n",
    "\n",
    "model_name = 'klue/bert-base'\n",
    "tokenizer = AutoTokenizer.from_pretrained(model_name)"
   ]
  },
  {
   "cell_type": "code",
   "execution_count": 28,
   "id": "833f9453-29a3-4fa7-b59d-10cc6b0054df",
   "metadata": {},
   "outputs": [],
   "source": [
    "reference_tok = tokenizer.tokenize(reference)\n",
    "sample_tok = tokenizer.tokenize(sample)"
   ]
  },
  {
   "cell_type": "code",
   "execution_count": 30,
   "id": "e707f657-1797-4365-8ffc-b1fa7ad12e4d",
   "metadata": {},
   "outputs": [
    {
     "name": "stdout",
     "output_type": "stream",
     "text": [
      "['제품', '##의', '가격', '##이', '낮', '##아지', '##고', ',', '품질', '##이', '올라간다', '(', '좋아', '##진다', ',', '높', '##아', '##진다', ')', '.', '또', '제품', '##의', '다양', '##성이', '증가', '##하고', ',', '소비자', '##들', '##은', '더', '좋', '##은', '혜택', '##을', '받', '##을', '수', '있', '##다', '.'] ['제품', '##질', '##이', '향상', '##되', '##고', '합리', '##적인', '가격', '##에', '상품', '##이', '팔릴', '##것', '##이다', '.']\n",
      "[TaggedDocument(words='제품', tags=[0]), TaggedDocument(words='##질', tags=[1]), TaggedDocument(words='##이', tags=[2]), TaggedDocument(words='향상', tags=[3]), TaggedDocument(words='##되', tags=[4]), TaggedDocument(words='##고', tags=[5]), TaggedDocument(words='합리', tags=[6]), TaggedDocument(words='##적인', tags=[7]), TaggedDocument(words='가격', tags=[8]), TaggedDocument(words='##에', tags=[9]), TaggedDocument(words='상품', tags=[10]), TaggedDocument(words='##이', tags=[11]), TaggedDocument(words='팔릴', tags=[12]), TaggedDocument(words='##것', tags=[13]), TaggedDocument(words='##이다', tags=[14]), TaggedDocument(words='.', tags=[15])]\n",
      "[(9, 0.9214627146720886), (11, 0.7811041474342346), (6, 0.6798831224441528), (14, 0.6046692728996277), (0, 0.5481845736503601), (12, 0.5005683898925781), (3, 0.19517508149147034), (1, 0.11780554056167603), (2, 0.11760585010051727), (4, -0.038497328758239746)]\n"
     ]
    }
   ],
   "source": [
    "from gensim.models.doc2vec import Doc2Vec, TaggedDocument\n",
    "\n",
    "print(reference_tok, sample_tok)\n",
    "documents = [TaggedDocument(doc, [i]) for i, doc in enumerate(sample_tok)]\n",
    "print(documents)\n",
    "model = Doc2Vec(documents, vector_size=5, window=2, min_count=1, workers=4)\n",
    "inferred = model.infer_vector(reference_tok)\n",
    "sims = model.docvecs.most_similar(positive=[inferred])\n",
    "print(sims)\n"
   ]
  },
  {
   "cell_type": "code",
   "execution_count": null,
   "id": "2d538b3a-4e28-4fa9-a4fc-3a4b1263c914",
   "metadata": {},
   "outputs": [],
   "source": []
  }
 ],
 "metadata": {
  "kernelspec": {
   "display_name": "Python 3 (ipykernel)",
   "language": "python",
   "name": "python3"
  },
  "language_info": {
   "codemirror_mode": {
    "name": "ipython",
    "version": 3
   },
   "file_extension": ".py",
   "mimetype": "text/x-python",
   "name": "python",
   "nbconvert_exporter": "python",
   "pygments_lexer": "ipython3",
   "version": "3.8.5"
  }
 },
 "nbformat": 4,
 "nbformat_minor": 5
}
