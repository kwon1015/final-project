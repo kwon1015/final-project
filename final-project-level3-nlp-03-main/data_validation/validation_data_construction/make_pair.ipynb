{
 "cells": [
  {
   "cell_type": "code",
   "execution_count": 3,
   "id": "02c0fce6-f744-4f5e-bf6f-7b0312ec632a",
   "metadata": {},
   "outputs": [],
   "source": [
    "import pandas as pd"
   ]
  },
  {
   "cell_type": "code",
   "execution_count": 57,
   "id": "2c477e1b-4f05-4c1a-b682-fbe5c374d9c7",
   "metadata": {},
   "outputs": [
    {
     "data": {
      "text/html": [
       "<div>\n",
       "<style scoped>\n",
       "    .dataframe tbody tr th:only-of-type {\n",
       "        vertical-align: middle;\n",
       "    }\n",
       "\n",
       "    .dataframe tbody tr th {\n",
       "        vertical-align: top;\n",
       "    }\n",
       "\n",
       "    .dataframe thead th {\n",
       "        text-align: right;\n",
       "    }\n",
       "</style>\n",
       "<table border=\"1\" class=\"dataframe\">\n",
       "  <thead>\n",
       "    <tr style=\"text-align: right;\">\n",
       "      <th></th>\n",
       "      <th>question_num</th>\n",
       "      <th>right_answers</th>\n",
       "    </tr>\n",
       "  </thead>\n",
       "  <tbody>\n",
       "    <tr>\n",
       "      <th>0</th>\n",
       "      <td>q34</td>\n",
       "      <td>한 기관이 국가의 중요한 일을 마음대로 처리할 수 없도록 서로 견제하고 균형을 이루...</td>\n",
       "    </tr>\n",
       "    <tr>\n",
       "      <th>1</th>\n",
       "      <td>q34</td>\n",
       "      <td>권력이 한 곳으로 집중되지 않도록 서로 견제하고 균형을 이루게 하여 국민의 자유와 ...</td>\n",
       "    </tr>\n",
       "    <tr>\n",
       "      <th>2</th>\n",
       "      <td>q35</td>\n",
       "      <td>비커에 들어있는 물의 온도를 높인다. 물의 양을 더 늘린다.</td>\n",
       "    </tr>\n",
       "    <tr>\n",
       "      <th>3</th>\n",
       "      <td>q35</td>\n",
       "      <td>비커에 있는 물을 뜨거운 물로 바꾼다. 물을 더 넣는다.</td>\n",
       "    </tr>\n",
       "    <tr>\n",
       "      <th>4</th>\n",
       "      <td>q35</td>\n",
       "      <td>비커에 들어있는 물의 온도를 높인다. 물을 더 넣는다.</td>\n",
       "    </tr>\n",
       "    <tr>\n",
       "      <th>5</th>\n",
       "      <td>q35</td>\n",
       "      <td>비커에 있는 물을 뜨거운 물로 바꾼다. 물의 양을 더 늘린다.</td>\n",
       "    </tr>\n",
       "    <tr>\n",
       "      <th>6</th>\n",
       "      <td>q38</td>\n",
       "      <td>압력이 동일할 때, 기체의 온도가 낮아지면 부피가 감소한다. 플라스틱 내 기체의 온...</td>\n",
       "    </tr>\n",
       "    <tr>\n",
       "      <th>7</th>\n",
       "      <td>q38</td>\n",
       "      <td>압력이 동일할 때, 기체의 온도가 낮아지면 부피가 감소한다. 플라스틱 내 기체의 온...</td>\n",
       "    </tr>\n",
       "    <tr>\n",
       "      <th>8</th>\n",
       "      <td>q40</td>\n",
       "      <td>나무 재질보다 금속 재질의 열의 이동 속도가 더 빠르기 때문이다.</td>\n",
       "    </tr>\n",
       "    <tr>\n",
       "      <th>9</th>\n",
       "      <td>q40</td>\n",
       "      <td>나무 재질보다 금속 재질이 더 빨리 열을 이동시키기 때문이다.</td>\n",
       "    </tr>\n",
       "    <tr>\n",
       "      <th>10</th>\n",
       "      <td>q40</td>\n",
       "      <td>나무 재질보다 금속 재질이 열 전달이 더 잘 되기 때문이다.</td>\n",
       "    </tr>\n",
       "    <tr>\n",
       "      <th>11</th>\n",
       "      <td>q41</td>\n",
       "      <td>비닐 봉지 안의 산소는 줄어들고 이산화탄소는 늘어났다.</td>\n",
       "    </tr>\n",
       "    <tr>\n",
       "      <th>12</th>\n",
       "      <td>q41</td>\n",
       "      <td>비닐 봉지 안의 산소는 적어지고 이산화탄소는 많아졌다.</td>\n",
       "    </tr>\n",
       "    <tr>\n",
       "      <th>13</th>\n",
       "      <td>q41</td>\n",
       "      <td>인간은 산소를 들이쉬고 이산화탄소를 내보내기 때문에 비닐 봉지 안의 산소는 적어지고...</td>\n",
       "    </tr>\n",
       "    <tr>\n",
       "      <th>14</th>\n",
       "      <td>q41</td>\n",
       "      <td>인간은 산소를 흡수하고 이산화탄소를 배출하기 때문에 비닐 봉지 안의 산소는 적어지고...</td>\n",
       "    </tr>\n",
       "    <tr>\n",
       "      <th>15</th>\n",
       "      <td>q43</td>\n",
       "      <td>계속 사용하는 데 어려움이 없고, 공해가 없기 때문이다.</td>\n",
       "    </tr>\n",
       "    <tr>\n",
       "      <th>16</th>\n",
       "      <td>q43</td>\n",
       "      <td>화석에너지는 없어질 수 있지만 태양에너지는 고갈되지 않고, 친환경적이기 때문이다.</td>\n",
       "    </tr>\n",
       "    <tr>\n",
       "      <th>17</th>\n",
       "      <td>q43</td>\n",
       "      <td>화석에너지는 없어질 수 있지만 태양에너지는 고갈되지 않고, 오염 물질의 배출이 없기...</td>\n",
       "    </tr>\n",
       "    <tr>\n",
       "      <th>18</th>\n",
       "      <td>q43</td>\n",
       "      <td>화석에너지는 유한하지만 태양에너지는 무한하고, 오염 물질의 배출이 없기 때문이다.</td>\n",
       "    </tr>\n",
       "    <tr>\n",
       "      <th>19</th>\n",
       "      <td>q45</td>\n",
       "      <td>바람은 고기압에서 저기압으로, 또는 공기의 온도가 낮은 곳에서 높은 곳으로 부는데,...</td>\n",
       "    </tr>\n",
       "    <tr>\n",
       "      <th>20</th>\n",
       "      <td>q45</td>\n",
       "      <td>바람은 고기압에서 저기압으로, 또는 공기의 온도가 낮은 곳에서 높은 곳으로 부는데,...</td>\n",
       "    </tr>\n",
       "    <tr>\n",
       "      <th>21</th>\n",
       "      <td>q45</td>\n",
       "      <td>모래와 바다의 비열이 달라서 온도의 차이가 생기고, 이로 인해 기압차이가 생겨서 바...</td>\n",
       "    </tr>\n",
       "    <tr>\n",
       "      <th>22</th>\n",
       "      <td>q45</td>\n",
       "      <td>모래와 바다의 비열이 달라서 온도의 차이가 생기고, 이로 인해 고기압에서 저기압으로...</td>\n",
       "    </tr>\n",
       "    <tr>\n",
       "      <th>23</th>\n",
       "      <td>q47</td>\n",
       "      <td>햇빛이 너무 밝아서 (강해서) 별이 잘 보이지 않는다.</td>\n",
       "    </tr>\n",
       "    <tr>\n",
       "      <th>24</th>\n",
       "      <td>q47</td>\n",
       "      <td>태양빛이 너무 밝아서 (강해서) 별이 잘 보이지 않는다.</td>\n",
       "    </tr>\n",
       "    <tr>\n",
       "      <th>25</th>\n",
       "      <td>q47</td>\n",
       "      <td>해의 빛이 너무 밝아서 별이 잘 보이지 않는다.</td>\n",
       "    </tr>\n",
       "    <tr>\n",
       "      <th>26</th>\n",
       "      <td>q47</td>\n",
       "      <td>별이 비추는 밝기보다 해가 비추는 밝기가 더 밝아서</td>\n",
       "    </tr>\n",
       "    <tr>\n",
       "      <th>27</th>\n",
       "      <td>q49</td>\n",
       "      <td>햇빛이 볼록렌즈를 통과하면서 렌즈의 가운데 쪽으로 꺾여 나아가서 한 곳에 모이게 되...</td>\n",
       "    </tr>\n",
       "    <tr>\n",
       "      <th>28</th>\n",
       "      <td>q49</td>\n",
       "      <td>햇빛이 렌즈의 가운데 쪽으로 굴절해서 한 곳에 모이게 되고, 햇빛이 모이는 곳이 뜨...</td>\n",
       "    </tr>\n",
       "    <tr>\n",
       "      <th>29</th>\n",
       "      <td>q49</td>\n",
       "      <td>볼록렌즈가 햇빛을 굴절시켜서 한 곳에 모으게 되고, 햇빛이 모이는 곳이 뜨거워진다.</td>\n",
       "    </tr>\n",
       "    <tr>\n",
       "      <th>30</th>\n",
       "      <td>q54</td>\n",
       "      <td>생산자는 생산자를 먹는 소비자의 먹이가 되고, 소비자는 그 다음 단계 소비자의 먹이...</td>\n",
       "    </tr>\n",
       "    <tr>\n",
       "      <th>31</th>\n",
       "      <td>q54</td>\n",
       "      <td>생산자가 없어진다면 생산자를 먹는 소비자는 먹이가 없어서 죽게 되고, 그 다음 단계...</td>\n",
       "    </tr>\n",
       "    <tr>\n",
       "      <th>32</th>\n",
       "      <td>q55</td>\n",
       "      <td>분해자가 없어진다면 죽은 생물과 생물의 배출물이 분해되지 않아서 우리 주변이 죽은 ...</td>\n",
       "    </tr>\n",
       "    <tr>\n",
       "      <th>33</th>\n",
       "      <td>q55</td>\n",
       "      <td>분해자가 없어진다면 생물의 사체와 배출물이 분해되지 않아서 우리 주변이 사체와 생물...</td>\n",
       "    </tr>\n",
       "    <tr>\n",
       "      <th>34</th>\n",
       "      <td>q63</td>\n",
       "      <td>심폐소생술은 심장이 마비된 상태에서도 혈액을 순환시켜 우리 몸과 뇌에 계속 산소를 ...</td>\n",
       "    </tr>\n",
       "    <tr>\n",
       "      <th>35</th>\n",
       "      <td>q61</td>\n",
       "      <td>파리지옥은 동물과 달리 식물처럼 세포벽을 가지고, 광합성을 하고, 엽록소를 가지고,...</td>\n",
       "    </tr>\n",
       "    <tr>\n",
       "      <th>36</th>\n",
       "      <td>q61</td>\n",
       "      <td>파리지옥은 식물처럼 세포벽을 가지고, 스스로 햇빛으로 양분을 얻고, 엽록소를 가지고...</td>\n",
       "    </tr>\n",
       "    <tr>\n",
       "      <th>37</th>\n",
       "      <td>q60</td>\n",
       "      <td>소라가 사는 환경에 맞게 진화하였기 때문이다.</td>\n",
       "    </tr>\n",
       "    <tr>\n",
       "      <th>38</th>\n",
       "      <td>q60</td>\n",
       "      <td>소라가 사는 환경에 따라 각각 다르게 진화하였기 때문이다.</td>\n",
       "    </tr>\n",
       "    <tr>\n",
       "      <th>39</th>\n",
       "      <td>q60</td>\n",
       "      <td>물살이 세지 않은 곳은 떠내려 갈 걱정이 없어서 뿔이 없고, 물살이 센 곳은 물살에...</td>\n",
       "    </tr>\n",
       "  </tbody>\n",
       "</table>\n",
       "</div>"
      ],
      "text/plain": [
       "   question_num                                      right_answers\n",
       "0           q34  한 기관이 국가의 중요한 일을 마음대로 처리할 수 없도록 서로 견제하고 균형을 이루...\n",
       "1           q34  권력이 한 곳으로 집중되지 않도록 서로 견제하고 균형을 이루게 하여 국민의 자유와 ...\n",
       "2           q35                 비커에 들어있는 물의 온도를 높인다. 물의 양을 더 늘린다. \n",
       "3           q35                    비커에 있는 물을 뜨거운 물로 바꾼다. 물을 더 넣는다.\n",
       "4           q35                     비커에 들어있는 물의 온도를 높인다. 물을 더 넣는다.\n",
       "5           q35                비커에 있는 물을 뜨거운 물로 바꾼다. 물의 양을 더 늘린다. \n",
       "6           q38  압력이 동일할 때, 기체의 온도가 낮아지면 부피가 감소한다. 플라스틱 내 기체의 온...\n",
       "7           q38  압력이 동일할 때, 기체의 온도가 낮아지면 부피가 감소한다. 플라스틱 내 기체의 온...\n",
       "8           q40             나무 재질보다 금속 재질의 열의 이동 속도가 더 빠르기 때문이다.  \n",
       "9           q40                나무 재질보다 금속 재질이 더 빨리 열을 이동시키기 때문이다. \n",
       "10          q40                 나무 재질보다 금속 재질이 열 전달이 더 잘 되기 때문이다. \n",
       "11          q41                    비닐 봉지 안의 산소는 줄어들고 이산화탄소는 늘어났다. \n",
       "12          q41                    비닐 봉지 안의 산소는 적어지고 이산화탄소는 많아졌다. \n",
       "13          q41  인간은 산소를 들이쉬고 이산화탄소를 내보내기 때문에 비닐 봉지 안의 산소는 적어지고...\n",
       "14          q41  인간은 산소를 흡수하고 이산화탄소를 배출하기 때문에 비닐 봉지 안의 산소는 적어지고...\n",
       "15          q43                   계속 사용하는 데 어려움이 없고, 공해가 없기 때문이다. \n",
       "16          q43     화석에너지는 없어질 수 있지만 태양에너지는 고갈되지 않고, 친환경적이기 때문이다. \n",
       "17          q43  화석에너지는 없어질 수 있지만 태양에너지는 고갈되지 않고, 오염 물질의 배출이 없기...\n",
       "18          q43      화석에너지는 유한하지만 태양에너지는 무한하고, 오염 물질의 배출이 없기 때문이다.\n",
       "19          q45  바람은 고기압에서 저기압으로, 또는 공기의 온도가 낮은 곳에서 높은 곳으로 부는데,...\n",
       "20          q45  바람은 고기압에서 저기압으로, 또는 공기의 온도가 낮은 곳에서 높은 곳으로 부는데,...\n",
       "21          q45  모래와 바다의 비열이 달라서 온도의 차이가 생기고, 이로 인해 기압차이가 생겨서 바...\n",
       "22          q45  모래와 바다의 비열이 달라서 온도의 차이가 생기고, 이로 인해 고기압에서 저기압으로...\n",
       "23          q47                    햇빛이 너무 밝아서 (강해서) 별이 잘 보이지 않는다. \n",
       "24          q47                   태양빛이 너무 밝아서 (강해서) 별이 잘 보이지 않는다. \n",
       "25          q47                        해의 빛이 너무 밝아서 별이 잘 보이지 않는다. \n",
       "26          q47                       별이 비추는 밝기보다 해가 비추는 밝기가 더 밝아서\n",
       "27          q49  햇빛이 볼록렌즈를 통과하면서 렌즈의 가운데 쪽으로 꺾여 나아가서 한 곳에 모이게 되...\n",
       "28          q49  햇빛이 렌즈의 가운데 쪽으로 굴절해서 한 곳에 모이게 되고, 햇빛이 모이는 곳이 뜨...\n",
       "29          q49    볼록렌즈가 햇빛을 굴절시켜서 한 곳에 모으게 되고, 햇빛이 모이는 곳이 뜨거워진다. \n",
       "30          q54  생산자는 생산자를 먹는 소비자의 먹이가 되고, 소비자는 그 다음 단계 소비자의 먹이...\n",
       "31          q54  생산자가 없어진다면 생산자를 먹는 소비자는 먹이가 없어서 죽게 되고, 그 다음 단계...\n",
       "32          q55  분해자가 없어진다면 죽은 생물과 생물의 배출물이 분해되지 않아서 우리 주변이 죽은 ...\n",
       "33          q55  분해자가 없어진다면 생물의 사체와 배출물이 분해되지 않아서 우리 주변이 사체와 생물...\n",
       "34          q63  심폐소생술은 심장이 마비된 상태에서도 혈액을 순환시켜 우리 몸과 뇌에 계속 산소를 ...\n",
       "35          q61  파리지옥은 동물과 달리 식물처럼 세포벽을 가지고, 광합성을 하고, 엽록소를 가지고,...\n",
       "36          q61  파리지옥은 식물처럼 세포벽을 가지고, 스스로 햇빛으로 양분을 얻고, 엽록소를 가지고...\n",
       "37          q60                          소라가 사는 환경에 맞게 진화하였기 때문이다.\n",
       "38          q60                   소라가 사는 환경에 따라 각각 다르게 진화하였기 때문이다.\n",
       "39          q60  물살이 세지 않은 곳은 떠내려 갈 걱정이 없어서 뿔이 없고, 물살이 센 곳은 물살에..."
      ]
     },
     "execution_count": 57,
     "metadata": {},
     "output_type": "execute_result"
    }
   ],
   "source": [
    "df_right_answers = pd.read_csv('./validation_right_answers.csv')\n",
    "df_right_answers"
   ]
  },
  {
   "cell_type": "code",
   "execution_count": 7,
   "id": "30e5aa8a-243b-4b46-a63d-a81218373353",
   "metadata": {},
   "outputs": [
    {
     "data": {
      "text/plain": [
       "['q60.csv',\n",
       " 'q34.csv',\n",
       " 'q55.csv',\n",
       " 'q43.csv',\n",
       " 'q61.csv',\n",
       " 'q41.csv',\n",
       " 'q36.csv',\n",
       " 'q45.csv',\n",
       " 'q63.csv',\n",
       " 'q54.csv',\n",
       " 'q38.csv',\n",
       " 'q47.csv',\n",
       " 'q35.csv',\n",
       " 'q49.csv',\n",
       " 'q40.csv']"
      ]
     },
     "execution_count": 7,
     "metadata": {},
     "output_type": "execute_result"
    }
   ],
   "source": [
    "import os\n",
    "wai_path = '/opt/ml/StudentScoring/01.data/wai_20200904/for_valid/using_data'\n",
    "wai_questions = os.listdir(wai_path)\n",
    "wai_questions = [p for p in wai_questions if 'csv' in p]\n",
    "wai_questions"
   ]
  },
  {
   "cell_type": "markdown",
   "id": "4ad575f0-d896-4c96-b067-b37c21d3cb0a",
   "metadata": {},
   "source": [
    "## 테스트용 문장"
   ]
  },
  {
   "cell_type": "code",
   "execution_count": 10,
   "id": "c92f5fd6-e44c-4746-b0dc-912db09e50da",
   "metadata": {},
   "outputs": [],
   "source": [
    "sentences = ['너는 참 예쁘구나', '너는 참 사랑스럽구나', '너는 참 못났구나', '너는 참 나쁘구나']"
   ]
  },
  {
   "cell_type": "markdown",
   "id": "faec4325-ce1b-4132-8ad4-7ba0ebbda89f",
   "metadata": {
    "tags": []
   },
   "source": [
    "## Sentence Embedding"
   ]
  },
  {
   "cell_type": "code",
   "execution_count": 22,
   "id": "ba502aca-c6a7-45eb-9714-ed4387fecb7a",
   "metadata": {},
   "outputs": [],
   "source": [
    "# https://wikidocs.net/154530\n",
    "import numpy as np\n",
    "import pandas as pd\n",
    "import urllib.request\n",
    "from sentence_transformers import SentenceTransformer"
   ]
  },
  {
   "cell_type": "code",
   "execution_count": 13,
   "id": "fe6192a4-e10d-4dc1-9f30-83a7ca22016a",
   "metadata": {},
   "outputs": [],
   "source": [
    "model_ml = SentenceTransformer('sentence-transformers/xlm-r-100langs-bert-base-nli-stsb-mean-tokens')"
   ]
  },
  {
   "cell_type": "code",
   "execution_count": 28,
   "id": "417c0d89-6fd9-49f0-9e66-3a5a74bc24a1",
   "metadata": {},
   "outputs": [
    {
     "data": {
      "text/plain": [
       "(['너는 참 예쁘구나', '너는 참 사랑스럽구나', '너는 참 못났구나', '너는 참 나쁘구나'],\n",
       " array([[-0.1287086 , -0.02811835,  0.879453  , ..., -0.40577456,\n",
       "         -0.3194304 ,  0.1735195 ],\n",
       "        [-0.2623553 ,  0.04253777,  1.0976198 , ..., -0.1310997 ,\n",
       "         -0.21474743,  0.4360824 ],\n",
       "        [ 0.06056026,  0.1608885 ,  1.1564652 , ..., -0.06672192,\n",
       "          0.24701433,  0.21146426],\n",
       "        [ 0.0590344 ,  0.12109799,  1.2082796 , ..., -0.29343066,\n",
       "          0.34940052,  0.0908965 ]], dtype=float32))"
      ]
     },
     "execution_count": 28,
     "metadata": {},
     "output_type": "execute_result"
    }
   ],
   "source": [
    "embeddings = model.encode(sentences)\n",
    "sentences, embeddings"
   ]
  },
  {
   "cell_type": "code",
   "execution_count": 47,
   "id": "b9e9fdfa-89bc-44cc-873b-59070f93b8ea",
   "metadata": {},
   "outputs": [],
   "source": [
    "sbert_kor = SentenceTransformer('sentence-transformers/xlm-r-large-en-ko-nli-ststb')"
   ]
  },
  {
   "cell_type": "code",
   "execution_count": 48,
   "id": "24580b86-2a6a-4f4d-b1cd-dc652dccdd59",
   "metadata": {},
   "outputs": [
    {
     "data": {
      "text/plain": [
       "array([[ 0.43456814, -0.5334838 ,  0.04149259, ..., -0.18561189,\n",
       "         0.49876946,  0.47049928],\n",
       "       [ 0.5292009 , -0.45321432,  0.27575874, ..., -0.15363352,\n",
       "         0.7143036 ,  0.38537854],\n",
       "       [ 0.05546076, -0.17381573,  0.0845404 , ..., -0.7681372 ,\n",
       "        -0.35638833, -0.7203065 ],\n",
       "       [ 0.18660851, -0.24864994,  0.09831558, ..., -0.89694345,\n",
       "        -0.46790797, -0.8269488 ]], dtype=float32)"
      ]
     },
     "execution_count": 48,
     "metadata": {},
     "output_type": "execute_result"
    }
   ],
   "source": [
    "embeddings_kor = sbert_kor.encode(sentences)\n",
    "embeddings_kor"
   ]
  },
  {
   "cell_type": "markdown",
   "id": "a5c6b5d5-02c4-4e3e-9ece-68cfb9b67ede",
   "metadata": {
    "tags": []
   },
   "source": [
    "## 유사도 구하는 함수"
   ]
  },
  {
   "cell_type": "code",
   "execution_count": 45,
   "id": "cec15144-20e5-4349-868f-9c7adeaf347c",
   "metadata": {},
   "outputs": [],
   "source": [
    "from numpy import dot\n",
    "from numpy.linalg import norm"
   ]
  },
  {
   "cell_type": "code",
   "execution_count": 46,
   "id": "c51fafb3-6e5a-480a-8c9e-7bf790b75438",
   "metadata": {},
   "outputs": [],
   "source": [
    "pairs = []\n",
    "for i, emb in enumerate(embeddings_kor):\n",
    "    for j in range(i+1, len(embeddings_kor)):\n",
    "        pairs.append((sentences[i], sentences[j],emb, embeddings_kor[j]))\n",
    "#pairs[0]"
   ]
  },
  {
   "cell_type": "code",
   "execution_count": 75,
   "id": "492f9016-1809-4779-9fdc-418869260d5d",
   "metadata": {},
   "outputs": [],
   "source": [
    "def get_similarity(ans, right_ans, use=\"cosine\"):\n",
    "    # Cosine Similarity\n",
    "    if use == \"cosine\":\n",
    "        return dot(ans, right_ans)/(norm(ans)*norm(right_ans))\n",
    "        \n",
    "    # Euclidean\n",
    "    if use == \"euclidean\":\n",
    "        if norm(ans-right_ans)==norm(ans-right_ans):\n",
    "            return norm(ans-right_ans)\n",
    "        else:\n",
    "            return -1\n",
    "    \n",
    "    \n",
    "    # Pearson\n",
    "    if use == \"pearson\":\n",
    "        return dot((ans - np.mean(ans)), (right_ans - np.mean(right_ans))) / ((norm(ans - np.mean(ans))) * (norm(right_ans - np.mean(right_ans))))\n",
    "        "
   ]
  },
  {
   "cell_type": "code",
   "execution_count": 76,
   "id": "329ab40a-db2a-4b7e-9df9-ad6ac1600c6f",
   "metadata": {},
   "outputs": [
    {
     "name": "stdout",
     "output_type": "stream",
     "text": [
      "너는 참 예쁘구나  //  너는 참 사랑스럽구나 0.9464261\n",
      "너는 참 예쁘구나  //  너는 참 못났구나 0.43680674\n",
      "너는 참 예쁘구나  //  너는 참 나쁘구나 0.35499015\n",
      "너는 참 사랑스럽구나  //  너는 참 못났구나 0.41887155\n",
      "너는 참 사랑스럽구나  //  너는 참 나쁘구나 0.3449721\n",
      "너는 참 못났구나  //  너는 참 나쁘구나 0.96374714\n"
     ]
    }
   ],
   "source": [
    "for (sent1,sent2, ans, r_ans) in pairs:\n",
    "    print(sent1,\" // \", sent2, get_similarity(ans, r_ans))"
   ]
  },
  {
   "cell_type": "markdown",
   "id": "9755a51d-e386-46dd-b86e-17a5c25c03b4",
   "metadata": {},
   "source": [
    "## Process"
   ]
  },
  {
   "cell_type": "code",
   "execution_count": 72,
   "id": "1f6bb02a-0f31-4e59-a28b-0e1c7298631c",
   "metadata": {},
   "outputs": [],
   "source": [
    "#df_right_answers['question_num']"
   ]
  },
  {
   "cell_type": "code",
   "execution_count": 73,
   "id": "10a50347-8cdb-4cff-aacf-e36cd233af14",
   "metadata": {},
   "outputs": [
    {
     "data": {
      "text/plain": [
       "37                            소라가 사는 환경에 맞게 진화하였기 때문이다.\n",
       "38                     소라가 사는 환경에 따라 각각 다르게 진화하였기 때문이다.\n",
       "39    물살이 세지 않은 곳은 떠내려 갈 걱정이 없어서 뿔이 없고, 물살이 센 곳은 물살에...\n",
       "Name: right_answers, dtype: object"
      ]
     },
     "execution_count": 73,
     "metadata": {},
     "output_type": "execute_result"
    }
   ],
   "source": [
    "df_right_answers[df_right_answers['question_num']=='q60']['right_answers']"
   ]
  },
  {
   "cell_type": "code",
   "execution_count": 79,
   "id": "23691c5b-9804-43e8-abea-b7250be4c802",
   "metadata": {},
   "outputs": [
    {
     "name": "stdout",
     "output_type": "stream",
     "text": [
      " 소라를 관찰하면 소라 껍데기의 모양이 조금씩 다릅니다 물살이 센 곳에 사는 소라는 껍데기에 뿔이 발달하여 물에 쉽게 떠내려가지 않지만 물살이 세지 않은 곳에 사는 소라는 껍데기에 뿔이 없습니다 그 이유는 무엇일까요?\n",
      "전처리 시간 : 0.002 초\n",
      "\n",
      "모범답안 embedding 시간 : 0.035 초\n",
      "\n"
     ]
    },
    {
     "name": "stderr",
     "output_type": "stream",
     "text": [
      "100%|██████████| 830/830 [00:26<00:00, 31.30it/s]\n"
     ]
    },
    {
     "name": "stdout",
     "output_type": "stream",
     "text": [
      "학생 답안 embedding & 유사도 검사 시간 : 26.524 초\n",
      "\n",
      "\n",
      " 위와 같이 국가의 힘과 역할을 국회 정부 법원으로 나누어 놓은 이유는 무엇일까요?\n",
      "전처리 시간 : 0.002 초\n",
      "\n",
      "모범답안 embedding 시간 : 0.033 초\n",
      "\n"
     ]
    },
    {
     "name": "stderr",
     "output_type": "stream",
     "text": [
      "100%|██████████| 1317/1317 [00:41<00:00, 31.64it/s]\n"
     ]
    },
    {
     "name": "stdout",
     "output_type": "stream",
     "text": [
      "학생 답안 embedding & 유사도 검사 시간 : 41.626 초\n",
      "\n",
      "\n",
      " 분해자버섯 곰팡이가 지구에서 사라지면 어떤 일이 생길까요?\n",
      "전처리 시간 : 0.002 초\n",
      "\n",
      "모범답안 embedding 시간 : 0.033 초\n",
      "\n"
     ]
    },
    {
     "name": "stderr",
     "output_type": "stream",
     "text": [
      "100%|██████████| 1135/1135 [00:36<00:00, 31.32it/s]\n"
     ]
    },
    {
     "name": "stdout",
     "output_type": "stream",
     "text": [
      "학생 답안 embedding & 유사도 검사 시간 : 36.247 초\n",
      "\n",
      "\n",
      " 태양광 발전이 석탄이나 석유와 같은 화석에너지에 비해 미래를 위한 지속 가능한 발전에 도움이 되는 이유는 무엇일까요?\n",
      "전처리 시간 : 0.002 초\n",
      "\n",
      "모범답안 embedding 시간 : 0.033 초\n",
      "\n"
     ]
    },
    {
     "name": "stderr",
     "output_type": "stream",
     "text": [
      "100%|██████████| 1320/1320 [00:41<00:00, 31.55it/s]\n"
     ]
    },
    {
     "name": "stdout",
     "output_type": "stream",
     "text": [
      "학생 답안 embedding & 유사도 검사 시간 : 41.835 초\n",
      "\n",
      "\n",
      " 식물원을 찾은 혜원이는 작은 벌레들을 잡아먹고 사는 식충식물이라는 것을 보게 되었습니다 특히 혜원이가 신기하게 생각한 것은 파리지옥이었습니다 파리지옥은 냄새로 곤충을 유인한 후 곤충이 잎에 닿으면 잎을 닫아 곤충을 분해하여 영양분을 흡수한다고 합니다 안내판을 읽은 혜원이는 의문이 생겼습니다 동물인 곤충을 잡아먹고 사는 파리지옥은 왜 식물원에 있는 것일까요? 도대체 식물원의 박사님들이 파리지옥을 왜 식물로 분류한 이유는 무엇일까요?\n",
      "전처리 시간 : 0.002 초\n",
      "\n",
      "모범답안 embedding 시간 : 0.033 초\n",
      "\n"
     ]
    },
    {
     "name": "stderr",
     "output_type": "stream",
     "text": [
      "100%|██████████| 826/826 [00:26<00:00, 30.74it/s]\n"
     ]
    },
    {
     "name": "stdout",
     "output_type": "stream",
     "text": [
      "학생 답안 embedding & 유사도 검사 시간 : 26.879 초\n",
      "\n",
      "\n",
      " 여러 번 호흡한 후 봉지 속 공기에는 어떤 변화가 생겼을까요?\n",
      "전처리 시간 : 0.002 초\n",
      "\n",
      "모범답안 embedding 시간 : 0.034 초\n",
      "\n"
     ]
    },
    {
     "name": "stderr",
     "output_type": "stream",
     "text": [
      "100%|██████████| 1324/1324 [00:42<00:00, 31.37it/s]\n"
     ]
    },
    {
     "name": "stdout",
     "output_type": "stream",
     "text": [
      "학생 답안 embedding & 유사도 검사 시간 : 42.210 초\n",
      "\n",
      "\n",
      " A B C 비커에 있는 소금물의 진하기를 비교하려면 맛보기 이외에 어떤 방법을 사용할 수 있을까요?\n",
      "전처리 시간 : 0.002 초\n",
      "\n",
      "모범답안 embedding 시간 : 0.008 초\n",
      "\n"
     ]
    },
    {
     "name": "stderr",
     "output_type": "stream",
     "text": [
      "100%|██████████| 1140/1140 [00:35<00:00, 32.23it/s]\n"
     ]
    },
    {
     "name": "stdout",
     "output_type": "stream",
     "text": [
      "학생 답안 embedding & 유사도 검사 시간 : 35.379 초\n",
      "\n",
      "\n",
      " 바닷가에서 바람이 생기는 이유는 무엇일까요?\n",
      "전처리 시간 : 0.002 초\n",
      "\n",
      "모범답안 embedding 시간 : 0.034 초\n",
      "\n"
     ]
    },
    {
     "name": "stderr",
     "output_type": "stream",
     "text": [
      "100%|██████████| 1315/1315 [00:41<00:00, 31.55it/s]\n"
     ]
    },
    {
     "name": "stdout",
     "output_type": "stream",
     "text": [
      "학생 답안 embedding & 유사도 검사 시간 : 41.681 초\n",
      "\n",
      "\n",
      " 급작스럽게 심장마비가 일어난 환자는 심각한 뇌손상을 입을 위험이 있습니다 이때 환자에게 그림과 같은 심폐소생술을 실시하면 뇌손상을 막을 수 있습니다 심폐소생술이 뇌손상을 막을 수 있는 까닭은 무엇일까요? 우리 몸의 혈액의 순환을 중심으로 그 이유를 설명해 봅시다\n",
      "전처리 시간 : 0.002 초\n",
      "\n",
      "모범답안 embedding 시간 : 0.034 초\n",
      "\n"
     ]
    },
    {
     "name": "stderr",
     "output_type": "stream",
     "text": [
      "100%|██████████| 829/829 [00:27<00:00, 29.89it/s]\n"
     ]
    },
    {
     "name": "stdout",
     "output_type": "stream",
     "text": [
      "학생 답안 embedding & 유사도 검사 시간 : 27.739 초\n",
      "\n",
      "\n",
      " 풀과 나무와 같은 생산자가 생태계에 있어야 하는 이유는 무엇일까요?\n",
      "전처리 시간 : 0.002 초\n",
      "\n",
      "모범답안 embedding 시간 : 0.043 초\n",
      "\n"
     ]
    },
    {
     "name": "stderr",
     "output_type": "stream",
     "text": [
      "100%|██████████| 1137/1137 [00:36<00:00, 31.51it/s]\n"
     ]
    },
    {
     "name": "stdout",
     "output_type": "stream",
     "text": [
      "학생 답안 embedding & 유사도 검사 시간 : 36.085 초\n",
      "\n",
      "\n",
      " 여름철 밖에 둔 플라스틱 병을 냉장고에 넣었을 때 찌그러지는 이유는 무엇일까요?\n",
      "전처리 시간 : 0.002 초\n",
      "\n",
      "모범답안 embedding 시간 : 0.034 초\n",
      "\n"
     ]
    },
    {
     "name": "stderr",
     "output_type": "stream",
     "text": [
      "100%|██████████| 1318/1318 [00:42<00:00, 31.05it/s]\n"
     ]
    },
    {
     "name": "stdout",
     "output_type": "stream",
     "text": [
      "학생 답안 embedding & 유사도 검사 시간 : 42.455 초\n",
      "\n",
      "\n",
      " 낮 시간 동안에도 별들이 하늘에 떠 있습니다 하지만 우리가 낮 시간에 별을 볼 수 없는 까닭은 무엇 때문일까요? \n",
      "전처리 시간 : 0.002 초\n",
      "\n",
      "모범답안 embedding 시간 : 0.034 초\n",
      "\n"
     ]
    },
    {
     "name": "stderr",
     "output_type": "stream",
     "text": [
      "100%|██████████| 1139/1139 [00:36<00:00, 30.88it/s]\n"
     ]
    },
    {
     "name": "stdout",
     "output_type": "stream",
     "text": [
      "학생 답안 embedding & 유사도 검사 시간 : 36.886 초\n",
      "\n",
      "\n",
      " C 비커에서 녹지 않은 소금을 다 녹이기 위해 할 수 있는 여러 가지 방법들을 설명해 보세요 \n",
      "전처리 시간 : 0.002 초\n",
      "\n",
      "모범답안 embedding 시간 : 0.033 초\n",
      "\n"
     ]
    },
    {
     "name": "stderr",
     "output_type": "stream",
     "text": [
      "100%|██████████| 1143/1143 [00:36<00:00, 31.01it/s]\n"
     ]
    },
    {
     "name": "stdout",
     "output_type": "stream",
     "text": [
      "학생 답안 embedding & 유사도 검사 시간 : 36.862 초\n",
      "\n",
      "\n",
      " 볼록 렌즈로 햇빛을 모을 경우 어떤 일이 생기는지 예상해 볼까요?\n",
      "전처리 시간 : 0.002 초\n",
      "\n",
      "모범답안 embedding 시간 : 0.033 초\n",
      "\n"
     ]
    },
    {
     "name": "stderr",
     "output_type": "stream",
     "text": [
      "100%|██████████| 1140/1140 [00:34<00:00, 32.66it/s]\n"
     ]
    },
    {
     "name": "stdout",
     "output_type": "stream",
     "text": [
      "학생 답안 embedding & 유사도 검사 시간 : 34.910 초\n",
      "\n",
      "\n",
      " 나무 국자는 뜨겁지 않았지만 금속 국자는 뜨거워진 이유는 무엇일까요?\n",
      "전처리 시간 : 0.002 초\n",
      "\n",
      "모범답안 embedding 시간 : 0.032 초\n",
      "\n"
     ]
    },
    {
     "name": "stderr",
     "output_type": "stream",
     "text": [
      "100%|██████████| 1320/1320 [00:41<00:00, 31.87it/s]\n"
     ]
    },
    {
     "name": "stdout",
     "output_type": "stream",
     "text": [
      "학생 답안 embedding & 유사도 검사 시간 : 41.418 초\n",
      "\n",
      "\n"
     ]
    }
   ],
   "source": [
    "import re\n",
    "import time\n",
    "from tqdm import tqdm\n",
    "\n",
    "for q in wai_questions:\n",
    "    q_pd = pd.read_csv(os.path.join('./using_data',q))\n",
    "    \n",
    "    start = time.time()  # 시작 시간 저장\n",
    "    \n",
    "    # 전처리\n",
    "    question = re.sub(r\"[^a-zA-Z가-힣\\s\\t\\?]\", \"\", q_pd.columns[1])\n",
    "    print(question)\n",
    "    \n",
    "    answers = list(q_pd[q_pd.columns[1]])\n",
    "    answers = [re.sub(r\"[^a-zA-Z가-힣\\s\\t\\.]\", \"\", ans) for ans in answers if ans==ans]\n",
    "    answers = [ans for ans in answers if ans!=\"\"]\n",
    "    \n",
    "    print(f\"전처리 시간 : {time.time() - start:.3f} 초\")  # 현재시각 - 시작시간 = 실행 시간\n",
    "    print()\n",
    "    start = time.time()\n",
    "    \n",
    "    # 한 답변씩 유사도 검사\n",
    "    right_answers = list(df_right_answers[df_right_answers['question_num']==q.split('.')[0]]['right_answers'])\n",
    "    right_answers_emb = sbert_kor.encode(right_answers)\n",
    "    \n",
    "    print(f\"모범답안 embedding 시간 : {time.time() - start:.3f} 초\")  # 현재시각 - 시작시간 = 실행 시간\n",
    "    print()\n",
    "    start = time.time()\n",
    "    \n",
    "    \n",
    "    similarity_cos = []\n",
    "    similarity_euclidean = []\n",
    "    similarity_pearson = []\n",
    "    similarity_total = []\n",
    "    for i in tqdm(range(len(answers))):\n",
    "        ans = answers[i]\n",
    "        ans_emb = sbert_kor.encode([ans])\n",
    "        for j in range(len(right_answers_emb)):\n",
    "            r_emb = right_answers_emb[j]\n",
    "            cos_sim = get_similarity(ans_emb[0], r_emb, use='cosine')\n",
    "            euclidean_sim = get_similarity(ans_emb[0], r_emb, use='euclidean')\n",
    "            pearson_sim = get_similarity(ans_emb[0], r_emb, use='pearson')\n",
    "            \n",
    "            similarity_cos.append((right_answers[j], ans, cos_sim))\n",
    "            similarity_euclidean.append((right_answers[j], ans, euclidean_sim))\n",
    "            similarity_pearson.append((right_answers[j], ans, pearson_sim))\n",
    "            similarity_total.append((right_answers[j], ans, cos_sim, euclidean_sim, pearson_sim))\n",
    "        \n",
    "    print(f\"학생 답안 embedding & 유사도 검사 시간 : {time.time() - start:.3f} 초\")  # 현재시각 - 시작시간 = 실행 시간\n",
    "    print()\n",
    "    start = time.time()\n",
    "    \n",
    "    \n",
    "    # similarity 기준 sort\n",
    "    similarity_cos_sorted = sorted(similarity_cos, key = lambda x : x[2], reverse=True)\n",
    "    similarity_euclidean_sorted = sorted(similarity_euclidean, key = lambda x : x[2])\n",
    "    similarity_pearson_sorted = sorted(similarity_pearson, key = lambda x : x[2], reverse=True)\n",
    "    similarity_total_sorted = sorted(similarity_total, key = lambda x : x[2], reverse=True)\n",
    "\n",
    "    # csv 저장\n",
    "    df_similarity_cos = pd.DataFrame({'right_ans': [x[0] for x in similarity_cos_sorted],\n",
    "                             'student_ans':[x[1] for x in similarity_cos_sorted],\n",
    "                             'similarity':[x[2] for x in similarity_cos_sorted]})\n",
    "    df_similarity_cos.to_csv(f\"./cosine_similarity/{q.split('.')[0]}_pair_with_similarity_cos.csv\")\n",
    "\n",
    "    df_similarity_euclidean = pd.DataFrame({'right_ans': [x[0] for x in similarity_euclidean_sorted],\n",
    "                             'student_ans':[x[1] for x in similarity_euclidean_sorted],\n",
    "                             'similarity':[x[2] for x in similarity_euclidean_sorted]})\n",
    "    df_similarity_euclidean.to_csv(f\"./euclidian_similarity/{q.split('.')[0]}_pair_with_similarity_eu.csv\")\n",
    "\n",
    "    df_similarity_pearson = pd.DataFrame({'right_ans': [x[0] for x in similarity_pearson_sorted],\n",
    "                             'student_ans':[x[1] for x in similarity_pearson_sorted],\n",
    "                             'similarity':[x[2] for x in similarity_pearson_sorted]})\n",
    "    df_similarity_pearson.to_csv(f\"./pearson_similarity/{q.split('.')[0]}_pair_with_similarity_pearson.csv\")\n",
    "\n",
    "    df_similarity_total = pd.DataFrame({'right_ans': [x[0] for x in similarity_total_sorted],\n",
    "                             'student_ans':[x[1] for x in similarity_total_sorted],\n",
    "                             'cos_similarity':[x[2] for x in similarity_total_sorted],\n",
    "                            'euclidean_similarity':[x[3] for x in similarity_total_sorted],\n",
    "                            'pearson_similarity':[x[4] for x in similarity_total_sorted]})\n",
    "    df_similarity_total.to_csv(f\"./whole_similarity/{q.split('.')[0]}_pair_with_similarity_total.csv\")\n",
    "    print()"
   ]
  },
  {
   "cell_type": "code",
   "execution_count": null,
   "id": "153b07ea-7009-42e6-be8b-ad87070bf657",
   "metadata": {},
   "outputs": [],
   "source": []
  }
 ],
 "metadata": {
  "kernelspec": {
   "display_name": "Python 3 (ipykernel)",
   "language": "python",
   "name": "python3"
  },
  "language_info": {
   "codemirror_mode": {
    "name": "ipython",
    "version": 3
   },
   "file_extension": ".py",
   "mimetype": "text/x-python",
   "name": "python",
   "nbconvert_exporter": "python",
   "pygments_lexer": "ipython3",
   "version": "3.8.5"
  }
 },
 "nbformat": 4,
 "nbformat_minor": 5
}
