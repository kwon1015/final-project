{
 "cells": [
  {
   "cell_type": "markdown",
   "id": "0276a98b-58ed-4a86-ae77-5d7fa7ed235c",
   "metadata": {},
   "source": [
    "# Pretrained SBERT(Sentence-transformer) 성능 평가  "
   ]
  },
  {
   "cell_type": "code",
   "execution_count": 7,
   "id": "02c0fce6-f744-4f5e-bf6f-7b0312ec632a",
   "metadata": {},
   "outputs": [],
   "source": [
    "import pandas as pd"
   ]
  },
  {
   "cell_type": "markdown",
   "id": "4ad575f0-d896-4c96-b067-b37c21d3cb0a",
   "metadata": {},
   "source": [
    "## 테스트용 문장"
   ]
  },
  {
   "cell_type": "code",
   "execution_count": 8,
   "id": "c92f5fd6-e44c-4746-b0dc-912db09e50da",
   "metadata": {},
   "outputs": [],
   "source": [
    "sentences = ['제품의 가격이 낮아지고, 품질이 좋아진다. 또한 제품의 다양성이 증가하므로 소비자들은 더 좋은 혜택을 받을 수 있다.', '빵을 더 낮은 값에 살 수 있고, 빵의 맛이 더 좋아져서 소비자들은 많은 혜택을 받는다.']"
   ]
  },
  {
   "cell_type": "markdown",
   "id": "faec4325-ce1b-4132-8ad4-7ba0ebbda89f",
   "metadata": {
    "tags": []
   },
   "source": [
    "## Sentence Embedding"
   ]
  },
  {
   "cell_type": "code",
   "execution_count": 22,
   "id": "3dbdb094-c1af-4be8-b787-d5c03f267501",
   "metadata": {},
   "outputs": [
    {
     "name": "stdout",
     "output_type": "stream",
     "text": [
      "Collecting GPUtil\n",
      "  Downloading GPUtil-1.4.0.tar.gz (5.5 kB)\n",
      "  Preparing metadata (setup.py) ... \u001b[?25ldone\n",
      "\u001b[?25hBuilding wheels for collected packages: GPUtil\n",
      "  Building wheel for GPUtil (setup.py) ... \u001b[?25ldone\n",
      "\u001b[?25h  Created wheel for GPUtil: filename=GPUtil-1.4.0-py3-none-any.whl size=7410 sha256=ad490e0693a2871a0db421ded416cb69ba190c1eaf6eafb660d7bb54eeb0416e\n",
      "  Stored in directory: /opt/ml/.cache/pip/wheels/ba/03/bb/7a97840eb54479b328672e15a536e49dc60da200fb21564d53\n",
      "Successfully built GPUtil\n",
      "Installing collected packages: GPUtil\n",
      "Successfully installed GPUtil-1.4.0\n",
      "\u001b[33mWARNING: Running pip as the 'root' user can result in broken permissions and conflicting behaviour with the system package manager. It is recommended to use a virtual environment instead: https://pip.pypa.io/warnings/venv\u001b[0m\u001b[33m\n",
      "\u001b[0m"
     ]
    }
   ],
   "source": [
    "!pip install GPUtil"
   ]
  },
  {
   "cell_type": "code",
   "execution_count": 24,
   "id": "4cc91fb6-227b-40a8-8d81-020cab716e80",
   "metadata": {},
   "outputs": [
    {
     "name": "stdout",
     "output_type": "stream",
     "text": [
      "| ID | GPU | MEM |\n",
      "------------------\n",
      "|  0 |  0% |  7% |\n"
     ]
    }
   ],
   "source": [
    "import GPUtil\n",
    "GPUtil.showUtilization()\n",
    "#출처: https://memesoo99.tistory.com/53 [미미로그:티스토리]"
   ]
  },
  {
   "cell_type": "code",
   "execution_count": 25,
   "id": "ba502aca-c6a7-45eb-9714-ed4387fecb7a",
   "metadata": {},
   "outputs": [],
   "source": [
    "# https://wikidocs.net/154530\n",
    "import numpy as np\n",
    "import pandas as pd\n",
    "import urllib.request\n",
    "import torch\n",
    "from sentence_transformers import SentenceTransformer"
   ]
  },
  {
   "cell_type": "code",
   "execution_count": 26,
   "id": "7efa426f-ea77-47ad-b482-c873610468f5",
   "metadata": {},
   "outputs": [],
   "source": [
    "torch.cuda.empty_cache() "
   ]
  },
  {
   "cell_type": "code",
   "execution_count": 17,
   "id": "fe6192a4-e10d-4dc1-9f30-83a7ca22016a",
   "metadata": {},
   "outputs": [
    {
     "data": {
      "application/vnd.jupyter.widget-view+json": {
       "model_id": "99478fe81e3344798e9b376b590f8691",
       "version_major": 2,
       "version_minor": 0
      },
      "text/plain": [
       "Downloading:   0%|          | 0.00/574 [00:00<?, ?B/s]"
      ]
     },
     "metadata": {},
     "output_type": "display_data"
    },
    {
     "data": {
      "application/vnd.jupyter.widget-view+json": {
       "model_id": "4d1eb92739814b14ac24ee25600b08d3",
       "version_major": 2,
       "version_minor": 0
      },
      "text/plain": [
       "Downloading:   0%|          | 0.00/190 [00:00<?, ?B/s]"
      ]
     },
     "metadata": {},
     "output_type": "display_data"
    },
    {
     "data": {
      "application/vnd.jupyter.widget-view+json": {
       "model_id": "de319746758644ab94dd2970074ae3c3",
       "version_major": 2,
       "version_minor": 0
      },
      "text/plain": [
       "Downloading:   0%|          | 0.00/4.06k [00:00<?, ?B/s]"
      ]
     },
     "metadata": {},
     "output_type": "display_data"
    },
    {
     "data": {
      "application/vnd.jupyter.widget-view+json": {
       "model_id": "b1b58cb6bdca4eb0b34664d179f6e52b",
       "version_major": 2,
       "version_minor": 0
      },
      "text/plain": [
       "Downloading:   0%|          | 0.00/731 [00:00<?, ?B/s]"
      ]
     },
     "metadata": {},
     "output_type": "display_data"
    },
    {
     "data": {
      "application/vnd.jupyter.widget-view+json": {
       "model_id": "eebccf2c8f2849f9aef435aeaa1e96d7",
       "version_major": 2,
       "version_minor": 0
      },
      "text/plain": [
       "Downloading:   0%|          | 0.00/122 [00:00<?, ?B/s]"
      ]
     },
     "metadata": {},
     "output_type": "display_data"
    },
    {
     "data": {
      "application/vnd.jupyter.widget-view+json": {
       "model_id": "13bd1690c6c349e8997c1d2aa8147e74",
       "version_major": 2,
       "version_minor": 0
      },
      "text/plain": [
       "Downloading:   0%|          | 0.00/229 [00:00<?, ?B/s]"
      ]
     },
     "metadata": {},
     "output_type": "display_data"
    },
    {
     "data": {
      "application/vnd.jupyter.widget-view+json": {
       "model_id": "433fc17dcbbc4034ac185635310fa413",
       "version_major": 2,
       "version_minor": 0
      },
      "text/plain": [
       "Downloading:   0%|          | 0.00/1.11G [00:00<?, ?B/s]"
      ]
     },
     "metadata": {},
     "output_type": "display_data"
    },
    {
     "data": {
      "application/vnd.jupyter.widget-view+json": {
       "model_id": "b1a0e50c3a7f4e0c8bbee13a4cdbe393",
       "version_major": 2,
       "version_minor": 0
      },
      "text/plain": [
       "Downloading:   0%|          | 0.00/53.0 [00:00<?, ?B/s]"
      ]
     },
     "metadata": {},
     "output_type": "display_data"
    },
    {
     "data": {
      "application/vnd.jupyter.widget-view+json": {
       "model_id": "e2258774fdc14585a67fa293deb67b11",
       "version_major": 2,
       "version_minor": 0
      },
      "text/plain": [
       "Downloading:   0%|          | 0.00/5.07M [00:00<?, ?B/s]"
      ]
     },
     "metadata": {},
     "output_type": "display_data"
    },
    {
     "data": {
      "application/vnd.jupyter.widget-view+json": {
       "model_id": "41cd491ac63a49dab97cca65c3baef73",
       "version_major": 2,
       "version_minor": 0
      },
      "text/plain": [
       "Downloading:   0%|          | 0.00/150 [00:00<?, ?B/s]"
      ]
     },
     "metadata": {},
     "output_type": "display_data"
    },
    {
     "data": {
      "application/vnd.jupyter.widget-view+json": {
       "model_id": "f653fba8b13e485bae992b6d2af07547",
       "version_major": 2,
       "version_minor": 0
      },
      "text/plain": [
       "Downloading:   0%|          | 0.00/9.10M [00:00<?, ?B/s]"
      ]
     },
     "metadata": {},
     "output_type": "display_data"
    },
    {
     "data": {
      "application/vnd.jupyter.widget-view+json": {
       "model_id": "b1540d487ebb43f093deaba7ab67d6b4",
       "version_major": 2,
       "version_minor": 0
      },
      "text/plain": [
       "Downloading:   0%|          | 0.00/527 [00:00<?, ?B/s]"
      ]
     },
     "metadata": {},
     "output_type": "display_data"
    }
   ],
   "source": [
    "# GPU 캐시 데이터 삭제\n",
    "model_ml = SentenceTransformer('sentence-transformers/xlm-r-100langs-bert-base-nli-stsb-mean-tokens')"
   ]
  },
  {
   "cell_type": "code",
   "execution_count": 27,
   "id": "417c0d89-6fd9-49f0-9e66-3a5a74bc24a1",
   "metadata": {},
   "outputs": [
    {
     "data": {
      "text/plain": [
       "(['제품의 가격이 낮아지고, 품질이 좋아진다. 또한 제품의 다양성이 증가하므로 소비자들은 더 좋은 혜택을 받을 수 있다.',\n",
       "  '빵을 더 낮은 값에 살 수 있고, 빵의 맛이 더 좋아져서 소비자들은 많은 혜택을 받는다.'],\n",
       " array([[-0.4455608 , -0.16664696,  0.6133387 , ...,  0.20600976,\n",
       "         -0.26139683,  0.02431984],\n",
       "        [-0.23032437,  0.08570942, -0.559556  , ...,  0.04270079,\n",
       "          0.0989245 ,  0.14554915]], dtype=float32))"
      ]
     },
     "execution_count": 27,
     "metadata": {},
     "output_type": "execute_result"
    }
   ],
   "source": [
    "with torch.no_grad():\n",
    "    embeddings = model_ml.encode(sentences)\n",
    "sentences, embeddings"
   ]
  },
  {
   "cell_type": "code",
   "execution_count": 28,
   "id": "b9e9fdfa-89bc-44cc-873b-59070f93b8ea",
   "metadata": {},
   "outputs": [
    {
     "data": {
      "application/vnd.jupyter.widget-view+json": {
       "model_id": "9238a05e2911461abee3a6e91d272ad8",
       "version_major": 2,
       "version_minor": 0
      },
      "text/plain": [
       "Downloading:   0%|          | 0.00/795 [00:00<?, ?B/s]"
      ]
     },
     "metadata": {},
     "output_type": "display_data"
    },
    {
     "data": {
      "application/vnd.jupyter.widget-view+json": {
       "model_id": "72c3bdef44a44366aba91ebc2a7cae8b",
       "version_major": 2,
       "version_minor": 0
      },
      "text/plain": [
       "Downloading:   0%|          | 0.00/191 [00:00<?, ?B/s]"
      ]
     },
     "metadata": {},
     "output_type": "display_data"
    },
    {
     "data": {
      "application/vnd.jupyter.widget-view+json": {
       "model_id": "e0ee95dc65714ae8a225c510af13fdd0",
       "version_major": 2,
       "version_minor": 0
      },
      "text/plain": [
       "Downloading:   0%|          | 0.00/3.97k [00:00<?, ?B/s]"
      ]
     },
     "metadata": {},
     "output_type": "display_data"
    },
    {
     "data": {
      "application/vnd.jupyter.widget-view+json": {
       "model_id": "b99d3c573c82429e973a598b91600d96",
       "version_major": 2,
       "version_minor": 0
      },
      "text/plain": [
       "Downloading:   0%|          | 0.00/733 [00:00<?, ?B/s]"
      ]
     },
     "metadata": {},
     "output_type": "display_data"
    },
    {
     "data": {
      "application/vnd.jupyter.widget-view+json": {
       "model_id": "8adebc2167254bfaa6eee08b793e35ea",
       "version_major": 2,
       "version_minor": 0
      },
      "text/plain": [
       "Downloading:   0%|          | 0.00/122 [00:00<?, ?B/s]"
      ]
     },
     "metadata": {},
     "output_type": "display_data"
    },
    {
     "data": {
      "application/vnd.jupyter.widget-view+json": {
       "model_id": "ac9a670b02324e7ea93abe621c10f400",
       "version_major": 2,
       "version_minor": 0
      },
      "text/plain": [
       "Downloading:   0%|          | 0.00/229 [00:00<?, ?B/s]"
      ]
     },
     "metadata": {},
     "output_type": "display_data"
    },
    {
     "data": {
      "application/vnd.jupyter.widget-view+json": {
       "model_id": "46f260eb595f45e799cba20306ed590c",
       "version_major": 2,
       "version_minor": 0
      },
      "text/plain": [
       "Downloading:   0%|          | 0.00/2.24G [00:00<?, ?B/s]"
      ]
     },
     "metadata": {},
     "output_type": "display_data"
    },
    {
     "data": {
      "application/vnd.jupyter.widget-view+json": {
       "model_id": "0ca7b6d981c14cdc81bb3136a1aca43e",
       "version_major": 2,
       "version_minor": 0
      },
      "text/plain": [
       "Downloading:   0%|          | 0.00/53.0 [00:00<?, ?B/s]"
      ]
     },
     "metadata": {},
     "output_type": "display_data"
    },
    {
     "data": {
      "application/vnd.jupyter.widget-view+json": {
       "model_id": "0b9efbc9bbdc42bcba18b90b58c34403",
       "version_major": 2,
       "version_minor": 0
      },
      "text/plain": [
       "Downloading:   0%|          | 0.00/5.07M [00:00<?, ?B/s]"
      ]
     },
     "metadata": {},
     "output_type": "display_data"
    },
    {
     "data": {
      "application/vnd.jupyter.widget-view+json": {
       "model_id": "a289ff73a700499396582ad298db8355",
       "version_major": 2,
       "version_minor": 0
      },
      "text/plain": [
       "Downloading:   0%|          | 0.00/150 [00:00<?, ?B/s]"
      ]
     },
     "metadata": {},
     "output_type": "display_data"
    },
    {
     "data": {
      "application/vnd.jupyter.widget-view+json": {
       "model_id": "7aad78bbd2eb43c78665d382d7f0717f",
       "version_major": 2,
       "version_minor": 0
      },
      "text/plain": [
       "Downloading:   0%|          | 0.00/9.10M [00:00<?, ?B/s]"
      ]
     },
     "metadata": {},
     "output_type": "display_data"
    },
    {
     "data": {
      "application/vnd.jupyter.widget-view+json": {
       "model_id": "7675e2f71fe542bebb0ccdbaa2b3c1bd",
       "version_major": 2,
       "version_minor": 0
      },
      "text/plain": [
       "Downloading:   0%|          | 0.00/502 [00:00<?, ?B/s]"
      ]
     },
     "metadata": {},
     "output_type": "display_data"
    }
   ],
   "source": [
    "sbert_kor = SentenceTransformer('sentence-transformers/xlm-r-large-en-ko-nli-ststb')"
   ]
  },
  {
   "cell_type": "code",
   "execution_count": 29,
   "id": "24580b86-2a6a-4f4d-b1cd-dc652dccdd59",
   "metadata": {},
   "outputs": [
    {
     "data": {
      "text/plain": [
       "array([[ 0.8155513 , -0.2932835 , -0.21726272, ..., -0.5781419 ,\n",
       "         0.59006685,  0.7541549 ],\n",
       "       [ 1.102073  , -0.7120398 , -0.17424865, ..., -0.96989685,\n",
       "         0.5883625 ,  0.66033745]], dtype=float32)"
      ]
     },
     "execution_count": 29,
     "metadata": {},
     "output_type": "execute_result"
    }
   ],
   "source": [
    "with torch.no_grad():\n",
    "    embeddings_kor = sbert_kor.encode(sentences)\n",
    "embeddings_kor"
   ]
  },
  {
   "cell_type": "markdown",
   "id": "a5c6b5d5-02c4-4e3e-9ece-68cfb9b67ede",
   "metadata": {
    "tags": []
   },
   "source": [
    "## 유사도 구하는 함수"
   ]
  },
  {
   "cell_type": "code",
   "execution_count": 30,
   "id": "cec15144-20e5-4349-868f-9c7adeaf347c",
   "metadata": {},
   "outputs": [],
   "source": [
    "from numpy import dot\n",
    "from numpy.linalg import norm"
   ]
  },
  {
   "cell_type": "code",
   "execution_count": 31,
   "id": "c51fafb3-6e5a-480a-8c9e-7bf790b75438",
   "metadata": {},
   "outputs": [],
   "source": [
    "pairs = []\n",
    "for i, emb in enumerate(embeddings_kor):\n",
    "    for j in range(i+1, len(embeddings_kor)):\n",
    "        pairs.append((sentences[i], sentences[j],emb, embeddings_kor[j]))\n",
    "#pairs[0]"
   ]
  },
  {
   "cell_type": "code",
   "execution_count": 32,
   "id": "492f9016-1809-4779-9fdc-418869260d5d",
   "metadata": {},
   "outputs": [],
   "source": [
    "def get_similarity(ans, right_ans, use=\"cosine\"):\n",
    "    # Cosine Similarity\n",
    "    if use == \"cosine\":\n",
    "        return dot(ans, right_ans)/(norm(ans)*norm(right_ans))\n",
    "        \n",
    "    # Euclidean\n",
    "    if use == \"euclidean\":\n",
    "        if norm(ans-right_ans)==norm(ans-right_ans):\n",
    "            return norm(ans-right_ans)\n",
    "        else:\n",
    "            return -1\n",
    "    \n",
    "    \n",
    "    # Pearson\n",
    "    if use == \"pearson\":\n",
    "        return dot((ans - np.mean(ans)), (right_ans - np.mean(right_ans))) / ((norm(ans - np.mean(ans))) * (norm(right_ans - np.mean(right_ans))))\n",
    "        "
   ]
  },
  {
   "cell_type": "code",
   "execution_count": 33,
   "id": "329ab40a-db2a-4b7e-9df9-ad6ac1600c6f",
   "metadata": {},
   "outputs": [
    {
     "name": "stdout",
     "output_type": "stream",
     "text": [
      "제품의 가격이 낮아지고, 품질이 좋아진다. 또한 제품의 다양성이 증가하므로 소비자들은 더 좋은 혜택을 받을 수 있다.  //  빵을 더 낮은 값에 살 수 있고, 빵의 맛이 더 좋아져서 소비자들은 많은 혜택을 받는다. 0.81775975\n"
     ]
    }
   ],
   "source": [
    "for (sent1,sent2, ans, r_ans) in pairs:\n",
    "    print(sent1,\" // \", sent2, get_similarity(ans, r_ans))"
   ]
  },
  {
   "cell_type": "markdown",
   "id": "9755a51d-e386-46dd-b86e-17a5c25c03b4",
   "metadata": {},
   "source": [
    "## Process"
   ]
  },
  {
   "cell_type": "markdown",
   "id": "b32ff432-f8db-4d5c-845a-25dd0dd85fb7",
   "metadata": {},
   "source": [
    "### 데이터 1 : validation_v1"
   ]
  },
  {
   "cell_type": "code",
   "execution_count": 36,
   "id": "153b07ea-7009-42e6-be8b-ad87070bf657",
   "metadata": {},
   "outputs": [
    {
     "data": {
      "text/html": [
       "<div>\n",
       "<style scoped>\n",
       "    .dataframe tbody tr th:only-of-type {\n",
       "        vertical-align: middle;\n",
       "    }\n",
       "\n",
       "    .dataframe tbody tr th {\n",
       "        vertical-align: top;\n",
       "    }\n",
       "\n",
       "    .dataframe thead th {\n",
       "        text-align: right;\n",
       "    }\n",
       "</style>\n",
       "<table border=\"1\" class=\"dataframe\">\n",
       "  <thead>\n",
       "    <tr style=\"text-align: right;\">\n",
       "      <th></th>\n",
       "      <th>right_ans</th>\n",
       "      <th>student_ans</th>\n",
       "      <th>Label</th>\n",
       "    </tr>\n",
       "  </thead>\n",
       "  <tbody>\n",
       "    <tr>\n",
       "      <th>0</th>\n",
       "      <td>제품의 가격이 낮아지고, 품질이 좋아진다. 또 제품의 다양성이 증가하고, 소비자들은...</td>\n",
       "      <td>제품의 가격이 낮아지고, 품질이 좋아진다. 또 제품의 다양성이 증가하고, 소비자들은...</td>\n",
       "      <td>1</td>\n",
       "    </tr>\n",
       "    <tr>\n",
       "      <th>1</th>\n",
       "      <td>제품의 가격이 낮아지고, 품질이 좋아진다. 또 제품의 다양성이 증가하고, 소비자들은...</td>\n",
       "      <td>제품의 가격이 높아지고, 품질이 나빠진다. 또 제품의 다양성이 감소하고, 소비자들은...</td>\n",
       "      <td>0</td>\n",
       "    </tr>\n",
       "    <tr>\n",
       "      <th>2</th>\n",
       "      <td>제품의 가격이 낮아지고, 품질이 좋아진다. 또 제품의 다양성이 증가하고, 소비자들은...</td>\n",
       "      <td>제품의 가격이 높아지고, 품질이 좋아진다. 또 제품의 다양성이 증가하고, 소비자들은...</td>\n",
       "      <td>0</td>\n",
       "    </tr>\n",
       "    <tr>\n",
       "      <th>3</th>\n",
       "      <td>제품의 가격이 낮아지고, 품질이 좋아진다. 또 제품의 다양성이 증가하고, 소비자들은...</td>\n",
       "      <td>제품의 가격이 높아지고, 품질이 나빠진다. 또 제품의 다양성이 증가하고, 소비자들은...</td>\n",
       "      <td>0</td>\n",
       "    </tr>\n",
       "    <tr>\n",
       "      <th>4</th>\n",
       "      <td>제품의 가격이 낮아지고, 품질이 좋아진다. 또 제품의 다양성이 증가하고, 소비자들은...</td>\n",
       "      <td>제과점이 서로 경쟁하면서 가격을 내리거나 품질을 좋게하여 소비자를 모을것인데 그렇게...</td>\n",
       "      <td>1</td>\n",
       "    </tr>\n",
       "    <tr>\n",
       "      <th>...</th>\n",
       "      <td>...</td>\n",
       "      <td>...</td>\n",
       "      <td>...</td>\n",
       "    </tr>\n",
       "    <tr>\n",
       "      <th>105</th>\n",
       "      <td>금속은 열전도율이 높은 재질이기 때문에 뜨거운 물에서 차가운 금속 국자로 열이 이동...</td>\n",
       "      <td>온도 변화가 갑자기 심해져서</td>\n",
       "      <td>0</td>\n",
       "    </tr>\n",
       "    <tr>\n",
       "      <th>106</th>\n",
       "      <td>금속은 열전도율이 높은 재질이기 때문에 뜨거운 물에서 차가운 금속 국자로 열이 이동...</td>\n",
       "      <td>열이 뜨거운 물에서 국자로 옮겨지는데 금속이여서 더 빨리 옮겨진다.</td>\n",
       "      <td>1</td>\n",
       "    </tr>\n",
       "    <tr>\n",
       "      <th>107</th>\n",
       "      <td>금속은 열전도율이 높은 재질이기 때문에 뜨거운 물에서 차가운 금속 국자로 열이 이동...</td>\n",
       "      <td>맨처음 열이 뜨거운 물에 있다가 금속을 넣게 되면 열의이동으로 인해 열이 금속 국자...</td>\n",
       "      <td>1</td>\n",
       "    </tr>\n",
       "    <tr>\n",
       "      <th>108</th>\n",
       "      <td>금속은 열전도율이 높은 재질이기 때문에 뜨거운 물에서 차가운 금속 국자로 열이 이동...</td>\n",
       "      <td>열이 국자로 전도되었기 때문이다.</td>\n",
       "      <td>1</td>\n",
       "    </tr>\n",
       "    <tr>\n",
       "      <th>109</th>\n",
       "      <td>금속은 열전도율이 높은 재질이기 때문에 뜨거운 물에서 차가운 금속 국자로 열이 이동...</td>\n",
       "      <td>뜨거운 국자에있던 열이 차가운 물으로 이동했기때문에</td>\n",
       "      <td>0</td>\n",
       "    </tr>\n",
       "  </tbody>\n",
       "</table>\n",
       "<p>110 rows × 3 columns</p>\n",
       "</div>"
      ],
      "text/plain": [
       "                                             right_ans  \\\n",
       "0    제품의 가격이 낮아지고, 품질이 좋아진다. 또 제품의 다양성이 증가하고, 소비자들은...   \n",
       "1    제품의 가격이 낮아지고, 품질이 좋아진다. 또 제품의 다양성이 증가하고, 소비자들은...   \n",
       "2    제품의 가격이 낮아지고, 품질이 좋아진다. 또 제품의 다양성이 증가하고, 소비자들은...   \n",
       "3    제품의 가격이 낮아지고, 품질이 좋아진다. 또 제품의 다양성이 증가하고, 소비자들은...   \n",
       "4    제품의 가격이 낮아지고, 품질이 좋아진다. 또 제품의 다양성이 증가하고, 소비자들은...   \n",
       "..                                                 ...   \n",
       "105  금속은 열전도율이 높은 재질이기 때문에 뜨거운 물에서 차가운 금속 국자로 열이 이동...   \n",
       "106  금속은 열전도율이 높은 재질이기 때문에 뜨거운 물에서 차가운 금속 국자로 열이 이동...   \n",
       "107  금속은 열전도율이 높은 재질이기 때문에 뜨거운 물에서 차가운 금속 국자로 열이 이동...   \n",
       "108  금속은 열전도율이 높은 재질이기 때문에 뜨거운 물에서 차가운 금속 국자로 열이 이동...   \n",
       "109  금속은 열전도율이 높은 재질이기 때문에 뜨거운 물에서 차가운 금속 국자로 열이 이동...   \n",
       "\n",
       "                                           student_ans  Label  \n",
       "0    제품의 가격이 낮아지고, 품질이 좋아진다. 또 제품의 다양성이 증가하고, 소비자들은...      1  \n",
       "1    제품의 가격이 높아지고, 품질이 나빠진다. 또 제품의 다양성이 감소하고, 소비자들은...      0  \n",
       "2    제품의 가격이 높아지고, 품질이 좋아진다. 또 제품의 다양성이 증가하고, 소비자들은...      0  \n",
       "3    제품의 가격이 높아지고, 품질이 나빠진다. 또 제품의 다양성이 증가하고, 소비자들은...      0  \n",
       "4    제과점이 서로 경쟁하면서 가격을 내리거나 품질을 좋게하여 소비자를 모을것인데 그렇게...      1  \n",
       "..                                                 ...    ...  \n",
       "105                                    온도 변화가 갑자기 심해져서      0  \n",
       "106              열이 뜨거운 물에서 국자로 옮겨지는데 금속이여서 더 빨리 옮겨진다.      1  \n",
       "107  맨처음 열이 뜨거운 물에 있다가 금속을 넣게 되면 열의이동으로 인해 열이 금속 국자...      1  \n",
       "108                                 열이 국자로 전도되었기 때문이다.      1  \n",
       "109                       뜨거운 국자에있던 열이 차가운 물으로 이동했기때문에      0  \n",
       "\n",
       "[110 rows x 3 columns]"
      ]
     },
     "execution_count": 36,
     "metadata": {},
     "output_type": "execute_result"
    }
   ],
   "source": [
    "df_valid_v1 = pd.read_csv('./validation_v1.csv')\n",
    "df_valid_v1"
   ]
  },
  {
   "cell_type": "code",
   "execution_count": 37,
   "id": "c13f0e26-9424-476d-b35b-b08c957c1e24",
   "metadata": {},
   "outputs": [
    {
     "data": {
      "text/plain": [
       "<pandas.core.indexing._iLocIndexer at 0x7f54027237c0>"
      ]
     },
     "execution_count": 37,
     "metadata": {},
     "output_type": "execute_result"
    }
   ],
   "source": [
    "df_valid_v1.iloc"
   ]
  },
  {
   "cell_type": "code",
   "execution_count": null,
   "id": "3b8ea027-7a74-46c0-800b-cf60f548b717",
   "metadata": {},
   "outputs": [],
   "source": [
    "prediction = []\n",
    "for data in df_valid_v1.iloc:\n",
    "    right_ans = data['right_ans']\n",
    "    student_ans = data['student_ans']\n",
    "    label = data['Label']\n",
    "    #print(right_ans, '//', student_ans, '//', label)\n",
    "    \n",
    "    right_ans_emb = sbert_kor.encode([right_ans])\n",
    "    stu_ans_emb = sbert_kor.encode([student_ans])\n",
    "    \n",
    "    sim = get_similarity(right_ans_emb[0], stu_ans_emb[0], use=\"cosine\")\n",
    "    prediction.append(sim)"
   ]
  },
  {
   "cell_type": "code",
   "execution_count": 39,
   "id": "f154af82-e3de-4f8b-8b91-890306e72971",
   "metadata": {},
   "outputs": [
    {
     "data": {
      "text/html": [
       "<div>\n",
       "<style scoped>\n",
       "    .dataframe tbody tr th:only-of-type {\n",
       "        vertical-align: middle;\n",
       "    }\n",
       "\n",
       "    .dataframe tbody tr th {\n",
       "        vertical-align: top;\n",
       "    }\n",
       "\n",
       "    .dataframe thead th {\n",
       "        text-align: right;\n",
       "    }\n",
       "</style>\n",
       "<table border=\"1\" class=\"dataframe\">\n",
       "  <thead>\n",
       "    <tr style=\"text-align: right;\">\n",
       "      <th></th>\n",
       "      <th>right_ans</th>\n",
       "      <th>student_ans</th>\n",
       "      <th>Label</th>\n",
       "      <th>predict(cosine_sim)</th>\n",
       "    </tr>\n",
       "  </thead>\n",
       "  <tbody>\n",
       "    <tr>\n",
       "      <th>0</th>\n",
       "      <td>제품의 가격이 낮아지고, 품질이 좋아진다. 또 제품의 다양성이 증가하고, 소비자들은...</td>\n",
       "      <td>제품의 가격이 낮아지고, 품질이 좋아진다. 또 제품의 다양성이 증가하고, 소비자들은...</td>\n",
       "      <td>1</td>\n",
       "      <td>1.000000</td>\n",
       "    </tr>\n",
       "    <tr>\n",
       "      <th>1</th>\n",
       "      <td>제품의 가격이 낮아지고, 품질이 좋아진다. 또 제품의 다양성이 증가하고, 소비자들은...</td>\n",
       "      <td>제품의 가격이 높아지고, 품질이 나빠진다. 또 제품의 다양성이 감소하고, 소비자들은...</td>\n",
       "      <td>0</td>\n",
       "      <td>0.595253</td>\n",
       "    </tr>\n",
       "    <tr>\n",
       "      <th>2</th>\n",
       "      <td>제품의 가격이 낮아지고, 품질이 좋아진다. 또 제품의 다양성이 증가하고, 소비자들은...</td>\n",
       "      <td>제품의 가격이 높아지고, 품질이 좋아진다. 또 제품의 다양성이 증가하고, 소비자들은...</td>\n",
       "      <td>0</td>\n",
       "      <td>0.803344</td>\n",
       "    </tr>\n",
       "    <tr>\n",
       "      <th>3</th>\n",
       "      <td>제품의 가격이 낮아지고, 품질이 좋아진다. 또 제품의 다양성이 증가하고, 소비자들은...</td>\n",
       "      <td>제품의 가격이 높아지고, 품질이 나빠진다. 또 제품의 다양성이 증가하고, 소비자들은...</td>\n",
       "      <td>0</td>\n",
       "      <td>0.734047</td>\n",
       "    </tr>\n",
       "    <tr>\n",
       "      <th>4</th>\n",
       "      <td>제품의 가격이 낮아지고, 품질이 좋아진다. 또 제품의 다양성이 증가하고, 소비자들은...</td>\n",
       "      <td>제과점이 서로 경쟁하면서 가격을 내리거나 품질을 좋게하여 소비자를 모을것인데 그렇게...</td>\n",
       "      <td>1</td>\n",
       "      <td>0.650092</td>\n",
       "    </tr>\n",
       "    <tr>\n",
       "      <th>...</th>\n",
       "      <td>...</td>\n",
       "      <td>...</td>\n",
       "      <td>...</td>\n",
       "      <td>...</td>\n",
       "    </tr>\n",
       "    <tr>\n",
       "      <th>105</th>\n",
       "      <td>금속은 열전도율이 높은 재질이기 때문에 뜨거운 물에서 차가운 금속 국자로 열이 이동...</td>\n",
       "      <td>온도 변화가 갑자기 심해져서</td>\n",
       "      <td>0</td>\n",
       "      <td>0.526407</td>\n",
       "    </tr>\n",
       "    <tr>\n",
       "      <th>106</th>\n",
       "      <td>금속은 열전도율이 높은 재질이기 때문에 뜨거운 물에서 차가운 금속 국자로 열이 이동...</td>\n",
       "      <td>열이 뜨거운 물에서 국자로 옮겨지는데 금속이여서 더 빨리 옮겨진다.</td>\n",
       "      <td>1</td>\n",
       "      <td>0.910641</td>\n",
       "    </tr>\n",
       "    <tr>\n",
       "      <th>107</th>\n",
       "      <td>금속은 열전도율이 높은 재질이기 때문에 뜨거운 물에서 차가운 금속 국자로 열이 이동...</td>\n",
       "      <td>맨처음 열이 뜨거운 물에 있다가 금속을 넣게 되면 열의이동으로 인해 열이 금속 국자...</td>\n",
       "      <td>1</td>\n",
       "      <td>0.888514</td>\n",
       "    </tr>\n",
       "    <tr>\n",
       "      <th>108</th>\n",
       "      <td>금속은 열전도율이 높은 재질이기 때문에 뜨거운 물에서 차가운 금속 국자로 열이 이동...</td>\n",
       "      <td>열이 국자로 전도되었기 때문이다.</td>\n",
       "      <td>1</td>\n",
       "      <td>0.646318</td>\n",
       "    </tr>\n",
       "    <tr>\n",
       "      <th>109</th>\n",
       "      <td>금속은 열전도율이 높은 재질이기 때문에 뜨거운 물에서 차가운 금속 국자로 열이 이동...</td>\n",
       "      <td>뜨거운 국자에있던 열이 차가운 물으로 이동했기때문에</td>\n",
       "      <td>0</td>\n",
       "      <td>0.718339</td>\n",
       "    </tr>\n",
       "  </tbody>\n",
       "</table>\n",
       "<p>110 rows × 4 columns</p>\n",
       "</div>"
      ],
      "text/plain": [
       "                                             right_ans  \\\n",
       "0    제품의 가격이 낮아지고, 품질이 좋아진다. 또 제품의 다양성이 증가하고, 소비자들은...   \n",
       "1    제품의 가격이 낮아지고, 품질이 좋아진다. 또 제품의 다양성이 증가하고, 소비자들은...   \n",
       "2    제품의 가격이 낮아지고, 품질이 좋아진다. 또 제품의 다양성이 증가하고, 소비자들은...   \n",
       "3    제품의 가격이 낮아지고, 품질이 좋아진다. 또 제품의 다양성이 증가하고, 소비자들은...   \n",
       "4    제품의 가격이 낮아지고, 품질이 좋아진다. 또 제품의 다양성이 증가하고, 소비자들은...   \n",
       "..                                                 ...   \n",
       "105  금속은 열전도율이 높은 재질이기 때문에 뜨거운 물에서 차가운 금속 국자로 열이 이동...   \n",
       "106  금속은 열전도율이 높은 재질이기 때문에 뜨거운 물에서 차가운 금속 국자로 열이 이동...   \n",
       "107  금속은 열전도율이 높은 재질이기 때문에 뜨거운 물에서 차가운 금속 국자로 열이 이동...   \n",
       "108  금속은 열전도율이 높은 재질이기 때문에 뜨거운 물에서 차가운 금속 국자로 열이 이동...   \n",
       "109  금속은 열전도율이 높은 재질이기 때문에 뜨거운 물에서 차가운 금속 국자로 열이 이동...   \n",
       "\n",
       "                                           student_ans  Label  \\\n",
       "0    제품의 가격이 낮아지고, 품질이 좋아진다. 또 제품의 다양성이 증가하고, 소비자들은...      1   \n",
       "1    제품의 가격이 높아지고, 품질이 나빠진다. 또 제품의 다양성이 감소하고, 소비자들은...      0   \n",
       "2    제품의 가격이 높아지고, 품질이 좋아진다. 또 제품의 다양성이 증가하고, 소비자들은...      0   \n",
       "3    제품의 가격이 높아지고, 품질이 나빠진다. 또 제품의 다양성이 증가하고, 소비자들은...      0   \n",
       "4    제과점이 서로 경쟁하면서 가격을 내리거나 품질을 좋게하여 소비자를 모을것인데 그렇게...      1   \n",
       "..                                                 ...    ...   \n",
       "105                                    온도 변화가 갑자기 심해져서      0   \n",
       "106              열이 뜨거운 물에서 국자로 옮겨지는데 금속이여서 더 빨리 옮겨진다.      1   \n",
       "107  맨처음 열이 뜨거운 물에 있다가 금속을 넣게 되면 열의이동으로 인해 열이 금속 국자...      1   \n",
       "108                                 열이 국자로 전도되었기 때문이다.      1   \n",
       "109                       뜨거운 국자에있던 열이 차가운 물으로 이동했기때문에      0   \n",
       "\n",
       "     predict(cosine_sim)  \n",
       "0               1.000000  \n",
       "1               0.595253  \n",
       "2               0.803344  \n",
       "3               0.734047  \n",
       "4               0.650092  \n",
       "..                   ...  \n",
       "105             0.526407  \n",
       "106             0.910641  \n",
       "107             0.888514  \n",
       "108             0.646318  \n",
       "109             0.718339  \n",
       "\n",
       "[110 rows x 4 columns]"
      ]
     },
     "execution_count": 39,
     "metadata": {},
     "output_type": "execute_result"
    }
   ],
   "source": [
    "df_valid_v1['predict(cosine_sim)'] = prediction\n",
    "df_valid_v1"
   ]
  },
  {
   "cell_type": "code",
   "execution_count": 40,
   "id": "bdf4ac9c-ce92-4436-9d98-f31af0558d64",
   "metadata": {},
   "outputs": [],
   "source": [
    "def threshhold_num(n = 0.6):\n",
    "    def threshold(pred):\n",
    "        if pred > n:\n",
    "            return 1\n",
    "        elif pred <=n:\n",
    "            return 0\n",
    "    return threshold"
   ]
  },
  {
   "cell_type": "code",
   "execution_count": 41,
   "id": "287efe30-8230-4f7f-af25-61706d428d14",
   "metadata": {},
   "outputs": [],
   "source": [
    "df_valid_v1['>0.6'] = df_valid_v1['predict(cosine_sim)'].apply(threshhold_num(0.6))"
   ]
  },
  {
   "cell_type": "code",
   "execution_count": 42,
   "id": "08e2c39a-72a1-43b3-a568-3bd689142dcf",
   "metadata": {},
   "outputs": [],
   "source": [
    "df_valid_v1['>0.7'] = df_valid_v1['predict(cosine_sim)'].apply(threshhold_num(0.7))"
   ]
  },
  {
   "cell_type": "code",
   "execution_count": 43,
   "id": "b2500be3-8084-41a9-bae7-073bc44509fe",
   "metadata": {},
   "outputs": [],
   "source": [
    "df_valid_v1['>0.8'] = df_valid_v1['predict(cosine_sim)'].apply(threshhold_num(0.8))"
   ]
  },
  {
   "cell_type": "code",
   "execution_count": 44,
   "id": "203164b3-8452-4483-8150-954067e3f483",
   "metadata": {},
   "outputs": [],
   "source": [
    "df_valid_v1['>0.9'] = df_valid_v1['predict(cosine_sim)'].apply(threshhold_num(0.9))"
   ]
  },
  {
   "cell_type": "code",
   "execution_count": 45,
   "id": "69cf138c-83a1-4ae2-b8d2-9341d3a9d34c",
   "metadata": {},
   "outputs": [
    {
     "data": {
      "text/html": [
       "<div>\n",
       "<style scoped>\n",
       "    .dataframe tbody tr th:only-of-type {\n",
       "        vertical-align: middle;\n",
       "    }\n",
       "\n",
       "    .dataframe tbody tr th {\n",
       "        vertical-align: top;\n",
       "    }\n",
       "\n",
       "    .dataframe thead th {\n",
       "        text-align: right;\n",
       "    }\n",
       "</style>\n",
       "<table border=\"1\" class=\"dataframe\">\n",
       "  <thead>\n",
       "    <tr style=\"text-align: right;\">\n",
       "      <th></th>\n",
       "      <th>right_ans</th>\n",
       "      <th>student_ans</th>\n",
       "      <th>Label</th>\n",
       "      <th>predict(cosine_sim)</th>\n",
       "      <th>&gt;0.6</th>\n",
       "      <th>&gt;0.7</th>\n",
       "      <th>&gt;0.8</th>\n",
       "      <th>&gt;0.9</th>\n",
       "    </tr>\n",
       "  </thead>\n",
       "  <tbody>\n",
       "    <tr>\n",
       "      <th>0</th>\n",
       "      <td>제품의 가격이 낮아지고, 품질이 좋아진다. 또 제품의 다양성이 증가하고, 소비자들은...</td>\n",
       "      <td>제품의 가격이 낮아지고, 품질이 좋아진다. 또 제품의 다양성이 증가하고, 소비자들은...</td>\n",
       "      <td>1</td>\n",
       "      <td>1.000000</td>\n",
       "      <td>1</td>\n",
       "      <td>1</td>\n",
       "      <td>1</td>\n",
       "      <td>1</td>\n",
       "    </tr>\n",
       "    <tr>\n",
       "      <th>1</th>\n",
       "      <td>제품의 가격이 낮아지고, 품질이 좋아진다. 또 제품의 다양성이 증가하고, 소비자들은...</td>\n",
       "      <td>제품의 가격이 높아지고, 품질이 나빠진다. 또 제품의 다양성이 감소하고, 소비자들은...</td>\n",
       "      <td>0</td>\n",
       "      <td>0.595253</td>\n",
       "      <td>0</td>\n",
       "      <td>0</td>\n",
       "      <td>0</td>\n",
       "      <td>0</td>\n",
       "    </tr>\n",
       "    <tr>\n",
       "      <th>2</th>\n",
       "      <td>제품의 가격이 낮아지고, 품질이 좋아진다. 또 제품의 다양성이 증가하고, 소비자들은...</td>\n",
       "      <td>제품의 가격이 높아지고, 품질이 좋아진다. 또 제품의 다양성이 증가하고, 소비자들은...</td>\n",
       "      <td>0</td>\n",
       "      <td>0.803344</td>\n",
       "      <td>1</td>\n",
       "      <td>1</td>\n",
       "      <td>1</td>\n",
       "      <td>0</td>\n",
       "    </tr>\n",
       "    <tr>\n",
       "      <th>3</th>\n",
       "      <td>제품의 가격이 낮아지고, 품질이 좋아진다. 또 제품의 다양성이 증가하고, 소비자들은...</td>\n",
       "      <td>제품의 가격이 높아지고, 품질이 나빠진다. 또 제품의 다양성이 증가하고, 소비자들은...</td>\n",
       "      <td>0</td>\n",
       "      <td>0.734047</td>\n",
       "      <td>1</td>\n",
       "      <td>1</td>\n",
       "      <td>0</td>\n",
       "      <td>0</td>\n",
       "    </tr>\n",
       "    <tr>\n",
       "      <th>4</th>\n",
       "      <td>제품의 가격이 낮아지고, 품질이 좋아진다. 또 제품의 다양성이 증가하고, 소비자들은...</td>\n",
       "      <td>제과점이 서로 경쟁하면서 가격을 내리거나 품질을 좋게하여 소비자를 모을것인데 그렇게...</td>\n",
       "      <td>1</td>\n",
       "      <td>0.650092</td>\n",
       "      <td>1</td>\n",
       "      <td>0</td>\n",
       "      <td>0</td>\n",
       "      <td>0</td>\n",
       "    </tr>\n",
       "    <tr>\n",
       "      <th>...</th>\n",
       "      <td>...</td>\n",
       "      <td>...</td>\n",
       "      <td>...</td>\n",
       "      <td>...</td>\n",
       "      <td>...</td>\n",
       "      <td>...</td>\n",
       "      <td>...</td>\n",
       "      <td>...</td>\n",
       "    </tr>\n",
       "    <tr>\n",
       "      <th>105</th>\n",
       "      <td>금속은 열전도율이 높은 재질이기 때문에 뜨거운 물에서 차가운 금속 국자로 열이 이동...</td>\n",
       "      <td>온도 변화가 갑자기 심해져서</td>\n",
       "      <td>0</td>\n",
       "      <td>0.526407</td>\n",
       "      <td>0</td>\n",
       "      <td>0</td>\n",
       "      <td>0</td>\n",
       "      <td>0</td>\n",
       "    </tr>\n",
       "    <tr>\n",
       "      <th>106</th>\n",
       "      <td>금속은 열전도율이 높은 재질이기 때문에 뜨거운 물에서 차가운 금속 국자로 열이 이동...</td>\n",
       "      <td>열이 뜨거운 물에서 국자로 옮겨지는데 금속이여서 더 빨리 옮겨진다.</td>\n",
       "      <td>1</td>\n",
       "      <td>0.910641</td>\n",
       "      <td>1</td>\n",
       "      <td>1</td>\n",
       "      <td>1</td>\n",
       "      <td>1</td>\n",
       "    </tr>\n",
       "    <tr>\n",
       "      <th>107</th>\n",
       "      <td>금속은 열전도율이 높은 재질이기 때문에 뜨거운 물에서 차가운 금속 국자로 열이 이동...</td>\n",
       "      <td>맨처음 열이 뜨거운 물에 있다가 금속을 넣게 되면 열의이동으로 인해 열이 금속 국자...</td>\n",
       "      <td>1</td>\n",
       "      <td>0.888514</td>\n",
       "      <td>1</td>\n",
       "      <td>1</td>\n",
       "      <td>1</td>\n",
       "      <td>0</td>\n",
       "    </tr>\n",
       "    <tr>\n",
       "      <th>108</th>\n",
       "      <td>금속은 열전도율이 높은 재질이기 때문에 뜨거운 물에서 차가운 금속 국자로 열이 이동...</td>\n",
       "      <td>열이 국자로 전도되었기 때문이다.</td>\n",
       "      <td>1</td>\n",
       "      <td>0.646318</td>\n",
       "      <td>1</td>\n",
       "      <td>0</td>\n",
       "      <td>0</td>\n",
       "      <td>0</td>\n",
       "    </tr>\n",
       "    <tr>\n",
       "      <th>109</th>\n",
       "      <td>금속은 열전도율이 높은 재질이기 때문에 뜨거운 물에서 차가운 금속 국자로 열이 이동...</td>\n",
       "      <td>뜨거운 국자에있던 열이 차가운 물으로 이동했기때문에</td>\n",
       "      <td>0</td>\n",
       "      <td>0.718339</td>\n",
       "      <td>1</td>\n",
       "      <td>1</td>\n",
       "      <td>0</td>\n",
       "      <td>0</td>\n",
       "    </tr>\n",
       "  </tbody>\n",
       "</table>\n",
       "<p>110 rows × 8 columns</p>\n",
       "</div>"
      ],
      "text/plain": [
       "                                             right_ans  \\\n",
       "0    제품의 가격이 낮아지고, 품질이 좋아진다. 또 제품의 다양성이 증가하고, 소비자들은...   \n",
       "1    제품의 가격이 낮아지고, 품질이 좋아진다. 또 제품의 다양성이 증가하고, 소비자들은...   \n",
       "2    제품의 가격이 낮아지고, 품질이 좋아진다. 또 제품의 다양성이 증가하고, 소비자들은...   \n",
       "3    제품의 가격이 낮아지고, 품질이 좋아진다. 또 제품의 다양성이 증가하고, 소비자들은...   \n",
       "4    제품의 가격이 낮아지고, 품질이 좋아진다. 또 제품의 다양성이 증가하고, 소비자들은...   \n",
       "..                                                 ...   \n",
       "105  금속은 열전도율이 높은 재질이기 때문에 뜨거운 물에서 차가운 금속 국자로 열이 이동...   \n",
       "106  금속은 열전도율이 높은 재질이기 때문에 뜨거운 물에서 차가운 금속 국자로 열이 이동...   \n",
       "107  금속은 열전도율이 높은 재질이기 때문에 뜨거운 물에서 차가운 금속 국자로 열이 이동...   \n",
       "108  금속은 열전도율이 높은 재질이기 때문에 뜨거운 물에서 차가운 금속 국자로 열이 이동...   \n",
       "109  금속은 열전도율이 높은 재질이기 때문에 뜨거운 물에서 차가운 금속 국자로 열이 이동...   \n",
       "\n",
       "                                           student_ans  Label  \\\n",
       "0    제품의 가격이 낮아지고, 품질이 좋아진다. 또 제품의 다양성이 증가하고, 소비자들은...      1   \n",
       "1    제품의 가격이 높아지고, 품질이 나빠진다. 또 제품의 다양성이 감소하고, 소비자들은...      0   \n",
       "2    제품의 가격이 높아지고, 품질이 좋아진다. 또 제품의 다양성이 증가하고, 소비자들은...      0   \n",
       "3    제품의 가격이 높아지고, 품질이 나빠진다. 또 제품의 다양성이 증가하고, 소비자들은...      0   \n",
       "4    제과점이 서로 경쟁하면서 가격을 내리거나 품질을 좋게하여 소비자를 모을것인데 그렇게...      1   \n",
       "..                                                 ...    ...   \n",
       "105                                    온도 변화가 갑자기 심해져서      0   \n",
       "106              열이 뜨거운 물에서 국자로 옮겨지는데 금속이여서 더 빨리 옮겨진다.      1   \n",
       "107  맨처음 열이 뜨거운 물에 있다가 금속을 넣게 되면 열의이동으로 인해 열이 금속 국자...      1   \n",
       "108                                 열이 국자로 전도되었기 때문이다.      1   \n",
       "109                       뜨거운 국자에있던 열이 차가운 물으로 이동했기때문에      0   \n",
       "\n",
       "     predict(cosine_sim)  >0.6  >0.7  >0.8  >0.9  \n",
       "0               1.000000     1     1     1     1  \n",
       "1               0.595253     0     0     0     0  \n",
       "2               0.803344     1     1     1     0  \n",
       "3               0.734047     1     1     0     0  \n",
       "4               0.650092     1     0     0     0  \n",
       "..                   ...   ...   ...   ...   ...  \n",
       "105             0.526407     0     0     0     0  \n",
       "106             0.910641     1     1     1     1  \n",
       "107             0.888514     1     1     1     0  \n",
       "108             0.646318     1     0     0     0  \n",
       "109             0.718339     1     1     0     0  \n",
       "\n",
       "[110 rows x 8 columns]"
      ]
     },
     "execution_count": 45,
     "metadata": {},
     "output_type": "execute_result"
    }
   ],
   "source": [
    "df_valid_v1"
   ]
  },
  {
   "cell_type": "code",
   "execution_count": 46,
   "id": "187e9075-df84-473f-8be9-23b05cf27a7b",
   "metadata": {},
   "outputs": [],
   "source": [
    "df_valid_v1.to_csv('./SBERT_valid_v1_prediction.csv')"
   ]
  },
  {
   "cell_type": "markdown",
   "id": "86487718-5983-4dfa-ba9c-e561d2291d72",
   "metadata": {},
   "source": [
    "## Process 함수화"
   ]
  },
  {
   "cell_type": "code",
   "execution_count": 60,
   "id": "295c32cf-4d97-44cd-915a-d23465367c8e",
   "metadata": {},
   "outputs": [],
   "source": [
    "def process( path, model_name='sentence-transformers/xlm-r-100langs-bert-base-nli-stsb-mean-tokens'):\n",
    "    model = SentenceTransformer(model_name)\n",
    "    df = pd.read_csv(path)\n",
    "    \n",
    "    prediction = []\n",
    "    for data in df.iloc:\n",
    "        right_ans = data['sent_a']\n",
    "        student_ans = data['sent_b']\n",
    "        label = data['labels']\n",
    "        #print(right_ans, '//', student_ans, '//', label)\n",
    "\n",
    "        right_ans_emb = model.encode([right_ans])\n",
    "        stu_ans_emb = model.encode([student_ans])\n",
    "\n",
    "        sim = get_similarity(right_ans_emb[0], stu_ans_emb[0], use=\"cosine\")\n",
    "        prediction.append(sim)\n",
    "        \n",
    "    df['predict(cosine_sim)'] = prediction\n",
    "\n",
    "    def threshhold_num(n = 0.6):\n",
    "        def threshold(pred):\n",
    "            if pred > n:\n",
    "                return 1\n",
    "            elif pred <=n:\n",
    "                return 0\n",
    "        return threshold\n",
    "    \n",
    "    df['>0.6'] = df['predict(cosine_sim)'].apply(threshhold_num(0.6))\n",
    "    df['>0.7'] = df['predict(cosine_sim)'].apply(threshhold_num(0.7))\n",
    "    df['>0.8'] = df['predict(cosine_sim)'].apply(threshhold_num(0.8))\n",
    "    df['>0.9'] = df['predict(cosine_sim)'].apply(threshhold_num(0.9))\n",
    "    \n",
    "    dataset = path.split('/')[-1]\n",
    "    df.to_csv(f'./results/{model_name.split(\"/\")[1]}_{dataset.split(\".\")[0]}_prediction.csv')"
   ]
  },
  {
   "cell_type": "markdown",
   "id": "1fc7901a-6fe3-4c13-b7ac-5068cfb2e7d3",
   "metadata": {},
   "source": [
    "### 데이터 2: validation_short_v1.csv"
   ]
  },
  {
   "cell_type": "code",
   "execution_count": 51,
   "id": "9570a1b1-fb0a-4bf5-90c3-68860cd80af5",
   "metadata": {},
   "outputs": [],
   "source": [
    "process('./validation_short_v1.csv')"
   ]
  },
  {
   "cell_type": "markdown",
   "id": "33d4f83c-73ec-444f-978c-47965e8e7872",
   "metadata": {},
   "source": [
    "### 데이터 3: validation_short_v2.csv"
   ]
  },
  {
   "cell_type": "code",
   "execution_count": 53,
   "id": "08e351bc-8805-4e4f-8372-b1da5e227c4c",
   "metadata": {},
   "outputs": [],
   "source": [
    "process('./validation_short_v2.csv')"
   ]
  },
  {
   "cell_type": "markdown",
   "id": "3a154667-e849-41fb-96b3-7a65152136ba",
   "metadata": {},
   "source": [
    "### 데이터 4 : validation_short_wrong_v3.csv"
   ]
  },
  {
   "cell_type": "code",
   "execution_count": 54,
   "id": "010d975f-2f43-4bad-be6c-b29fc702c69f",
   "metadata": {},
   "outputs": [],
   "source": [
    "process('./validation_short_wrong_v3.csv')"
   ]
  },
  {
   "cell_type": "markdown",
   "id": "ff5e490f-5a06-4f2f-977e-f13e075620cc",
   "metadata": {},
   "source": [
    "### 모델 tence-transformers/all-mpnet-base-v2"
   ]
  },
  {
   "cell_type": "code",
   "execution_count": 66,
   "id": "a5362bad-b456-4b3b-b83a-28a053703677",
   "metadata": {},
   "outputs": [],
   "source": [
    "process('./validation_v1.csv', 'sentence-transformers/all-mpnet-base-v2')"
   ]
  },
  {
   "cell_type": "code",
   "execution_count": 68,
   "id": "1ee49ca5-c133-4d07-93d1-4e0980ede48a",
   "metadata": {},
   "outputs": [],
   "source": [
    "process('./validation_short_v1.csv', 'sentence-transformers/all-mpnet-base-v2')"
   ]
  },
  {
   "cell_type": "code",
   "execution_count": 62,
   "id": "0de2cb35-cf3d-4595-8c64-afa111d0749a",
   "metadata": {},
   "outputs": [],
   "source": [
    "process('./validation_short_v2.csv', 'sentence-transformers/all-mpnet-base-v2')"
   ]
  },
  {
   "cell_type": "code",
   "execution_count": 63,
   "id": "89c24711-6069-4c99-81a0-7e2946a51d4b",
   "metadata": {},
   "outputs": [],
   "source": [
    "process('./validation_short_wrong_v3.csv', 'sentence-transformers/all-mpnet-base-v2')"
   ]
  },
  {
   "cell_type": "markdown",
   "id": "835b0ce0-681c-4b15-a24f-ab642b823852",
   "metadata": {},
   "source": [
    "### 'sentence-transformers/paraphrase-multilingual-mpnet-base-v2'"
   ]
  },
  {
   "cell_type": "code",
   "execution_count": 67,
   "id": "bf426c03-87aa-40d1-967e-63a88b4f113c",
   "metadata": {},
   "outputs": [],
   "source": [
    "process('./validation_v1.csv','sentence-transformers/paraphrase-multilingual-mpnet-base-v2')"
   ]
  },
  {
   "cell_type": "code",
   "execution_count": 69,
   "id": "0afc1b11-7cb3-42a0-8466-515ac83b117a",
   "metadata": {},
   "outputs": [],
   "source": [
    "process('./validation_short_v1.csv', 'sentence-transformers/paraphrase-multilingual-mpnet-base-v2')"
   ]
  },
  {
   "cell_type": "code",
   "execution_count": 70,
   "id": "c52b361e-3791-4e6c-b429-e3bf5822aa41",
   "metadata": {},
   "outputs": [],
   "source": [
    "process('./validation_short_v2.csv', 'sentence-transformers/paraphrase-multilingual-mpnet-base-v2')"
   ]
  },
  {
   "cell_type": "markdown",
   "id": "14099c33-8285-4a91-bad0-41f5a4aa7e20",
   "metadata": {},
   "source": [
    "### xlm-r-100langs-bert-base-nli-stsb-mean-tokens'"
   ]
  },
  {
   "cell_type": "code",
   "execution_count": 71,
   "id": "63511d42-65c8-4fd6-84e9-9273d69ac477",
   "metadata": {},
   "outputs": [],
   "source": [
    "process('./validation_v1.csv','sentence-transformers/xlm-r-100langs-bert-base-nli-stsb-mean-tokens')"
   ]
  },
  {
   "cell_type": "markdown",
   "id": "34b8c07b-1c05-4d79-bc9f-e7c0ed316004",
   "metadata": {},
   "source": [
    "### 'sentence-transformers/all-MiniLM-L6-v2'"
   ]
  },
  {
   "cell_type": "code",
   "execution_count": 73,
   "id": "cad606e3-5984-42d0-93df-12ad6073e851",
   "metadata": {},
   "outputs": [
    {
     "data": {
      "application/vnd.jupyter.widget-view+json": {
       "model_id": "bad4323f99a14e3c974cc162980a949e",
       "version_major": 2,
       "version_minor": 0
      },
      "text/plain": [
       "Downloading:   0%|          | 0.00/1.18k [00:00<?, ?B/s]"
      ]
     },
     "metadata": {},
     "output_type": "display_data"
    },
    {
     "data": {
      "application/vnd.jupyter.widget-view+json": {
       "model_id": "8d526b7794dc4bf999b6577f4ba4e982",
       "version_major": 2,
       "version_minor": 0
      },
      "text/plain": [
       "Downloading:   0%|          | 0.00/190 [00:00<?, ?B/s]"
      ]
     },
     "metadata": {},
     "output_type": "display_data"
    },
    {
     "data": {
      "application/vnd.jupyter.widget-view+json": {
       "model_id": "687fd4f579bc475197092060c740fda0",
       "version_major": 2,
       "version_minor": 0
      },
      "text/plain": [
       "Downloading:   0%|          | 0.00/10.2k [00:00<?, ?B/s]"
      ]
     },
     "metadata": {},
     "output_type": "display_data"
    },
    {
     "data": {
      "application/vnd.jupyter.widget-view+json": {
       "model_id": "67e4e58c3a514fba90ebc651f0ea87b7",
       "version_major": 2,
       "version_minor": 0
      },
      "text/plain": [
       "Downloading:   0%|          | 0.00/612 [00:00<?, ?B/s]"
      ]
     },
     "metadata": {},
     "output_type": "display_data"
    },
    {
     "data": {
      "application/vnd.jupyter.widget-view+json": {
       "model_id": "bd51c8a55b9240f1b4dd6e87430e510a",
       "version_major": 2,
       "version_minor": 0
      },
      "text/plain": [
       "Downloading:   0%|          | 0.00/116 [00:00<?, ?B/s]"
      ]
     },
     "metadata": {},
     "output_type": "display_data"
    },
    {
     "data": {
      "application/vnd.jupyter.widget-view+json": {
       "model_id": "2d5308a9867e4a1d9839377b9a6f66f6",
       "version_major": 2,
       "version_minor": 0
      },
      "text/plain": [
       "Downloading:   0%|          | 0.00/39.3k [00:00<?, ?B/s]"
      ]
     },
     "metadata": {},
     "output_type": "display_data"
    },
    {
     "data": {
      "application/vnd.jupyter.widget-view+json": {
       "model_id": "ac7ae973d6a24e97a6c1739d7da89945",
       "version_major": 2,
       "version_minor": 0
      },
      "text/plain": [
       "Downloading:   0%|          | 0.00/349 [00:00<?, ?B/s]"
      ]
     },
     "metadata": {},
     "output_type": "display_data"
    },
    {
     "data": {
      "application/vnd.jupyter.widget-view+json": {
       "model_id": "e207b68e44884f81925ada3708cf4b0e",
       "version_major": 2,
       "version_minor": 0
      },
      "text/plain": [
       "Downloading:   0%|          | 0.00/90.9M [00:00<?, ?B/s]"
      ]
     },
     "metadata": {},
     "output_type": "display_data"
    },
    {
     "data": {
      "application/vnd.jupyter.widget-view+json": {
       "model_id": "44daf6f4e83446ceb02369dc4980ef83",
       "version_major": 2,
       "version_minor": 0
      },
      "text/plain": [
       "Downloading:   0%|          | 0.00/53.0 [00:00<?, ?B/s]"
      ]
     },
     "metadata": {},
     "output_type": "display_data"
    },
    {
     "data": {
      "application/vnd.jupyter.widget-view+json": {
       "model_id": "07deff141fdd4ed2bcd7e8938673904a",
       "version_major": 2,
       "version_minor": 0
      },
      "text/plain": [
       "Downloading:   0%|          | 0.00/112 [00:00<?, ?B/s]"
      ]
     },
     "metadata": {},
     "output_type": "display_data"
    },
    {
     "data": {
      "application/vnd.jupyter.widget-view+json": {
       "model_id": "ca6bfc27aaba4c4cbc0e688d8a6ec9cc",
       "version_major": 2,
       "version_minor": 0
      },
      "text/plain": [
       "Downloading:   0%|          | 0.00/466k [00:00<?, ?B/s]"
      ]
     },
     "metadata": {},
     "output_type": "display_data"
    },
    {
     "data": {
      "application/vnd.jupyter.widget-view+json": {
       "model_id": "e16f6f49c1124da98447ad1fbae7bb99",
       "version_major": 2,
       "version_minor": 0
      },
      "text/plain": [
       "Downloading:   0%|          | 0.00/350 [00:00<?, ?B/s]"
      ]
     },
     "metadata": {},
     "output_type": "display_data"
    },
    {
     "data": {
      "application/vnd.jupyter.widget-view+json": {
       "model_id": "4792e64d270b4943b9e26c84797a13cd",
       "version_major": 2,
       "version_minor": 0
      },
      "text/plain": [
       "Downloading:   0%|          | 0.00/13.2k [00:00<?, ?B/s]"
      ]
     },
     "metadata": {},
     "output_type": "display_data"
    },
    {
     "data": {
      "application/vnd.jupyter.widget-view+json": {
       "model_id": "b97885af9f924c9fbc5cdf9b3e19076b",
       "version_major": 2,
       "version_minor": 0
      },
      "text/plain": [
       "Downloading:   0%|          | 0.00/232k [00:00<?, ?B/s]"
      ]
     },
     "metadata": {},
     "output_type": "display_data"
    }
   ],
   "source": [
    "process('./validation_v1.csv','sentence-transformers/all-MiniLM-L6-v2')"
   ]
  },
  {
   "cell_type": "markdown",
   "id": "2729ba4d-18d6-4bce-bb6b-eb95ce2ef9be",
   "metadata": {},
   "source": [
    "### average_word_embeddings_komninos"
   ]
  },
  {
   "cell_type": "code",
   "execution_count": null,
   "id": "aa81ffa7-8046-422a-be2c-0ad5836978d6",
   "metadata": {},
   "outputs": [],
   "source": [
    "process('./validation_v1.csv','sentence-transformers/average_word_embeddings_komninos')"
   ]
  },
  {
   "cell_type": "code",
   "execution_count": null,
   "id": "456a400e-0d07-4c4a-95e1-a58192ea92d7",
   "metadata": {},
   "outputs": [],
   "source": []
  }
 ],
 "metadata": {
  "kernelspec": {
   "display_name": "Python 3 (ipykernel)",
   "language": "python",
   "name": "python3"
  },
  "language_info": {
   "codemirror_mode": {
    "name": "ipython",
    "version": 3
   },
   "file_extension": ".py",
   "mimetype": "text/x-python",
   "name": "python",
   "nbconvert_exporter": "python",
   "pygments_lexer": "ipython3",
   "version": "3.8.5"
  }
 },
 "nbformat": 4,
 "nbformat_minor": 5
}
