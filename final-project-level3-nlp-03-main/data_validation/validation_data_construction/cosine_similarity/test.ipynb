{
 "cells": [
  {
   "cell_type": "code",
   "execution_count": 1,
   "id": "1435dac1-ef0b-4d50-b5d4-0d427d24ec80",
   "metadata": {},
   "outputs": [
    {
     "name": "stderr",
     "output_type": "stream",
     "text": [
      "2022-06-03 18:35:09.107198: I tensorflow/stream_executor/platform/default/dso_loader.cc:53] Successfully opened dynamic library libcudart.so.11.0\n"
     ]
    }
   ],
   "source": [
    "# https://wikidocs.net/154530\n",
    "import numpy as np\n",
    "import pandas as pd\n",
    "import urllib.request\n",
    "from sentence_transformers import SentenceTransformer"
   ]
  },
  {
   "cell_type": "code",
   "execution_count": 2,
   "id": "9ccf70c1-8c39-43c8-8d0a-120e7b9e1598",
   "metadata": {},
   "outputs": [],
   "source": [
    "sbert_kor = SentenceTransformer('sentence-transformers/xlm-r-large-en-ko-nli-ststb')"
   ]
  },
  {
   "cell_type": "code",
   "execution_count": 13,
   "id": "669030f6-f2a8-4749-9da5-7e07c6349f21",
   "metadata": {},
   "outputs": [],
   "source": [
    "sentences = ['높다', '낮다', '감소', '증가']\n",
    "embeddings_kor = sbert_kor.encode(sentences)"
   ]
  },
  {
   "cell_type": "code",
   "execution_count": 14,
   "id": "5a8f6b35-4f59-4753-945f-3b762a4d8074",
   "metadata": {},
   "outputs": [],
   "source": [
    "from numpy import dot\n",
    "from numpy.linalg import norm"
   ]
  },
  {
   "cell_type": "code",
   "execution_count": 15,
   "id": "9802d2fb-05ab-4b45-be96-6ade0e99e478",
   "metadata": {},
   "outputs": [],
   "source": [
    "def get_similarity(ans, right_ans, use=\"cosine\"):\n",
    "    # Cosine Similarity\n",
    "    if use == \"cosine\":\n",
    "        return dot(ans, right_ans)/(norm(ans)*norm(right_ans))\n",
    "        \n",
    "    # Euclidean\n",
    "    if use == \"euclidean\":\n",
    "        if norm(ans-right_ans)==norm(ans-right_ans):\n",
    "            return norm(ans-right_ans)\n",
    "        else:\n",
    "            return -1\n",
    "    \n",
    "    \n",
    "    # Pearson\n",
    "    if use == \"pearson\":\n",
    "        return dot((ans - np.mean(ans)), (right_ans - np.mean(right_ans))) / ((norm(ans - np.mean(ans))) * (norm(right_ans - np.mean(right_ans))))\n",
    "        "
   ]
  },
  {
   "cell_type": "code",
   "execution_count": 16,
   "id": "dcdb3682-f82a-44bd-a9c5-135abdfc10f4",
   "metadata": {},
   "outputs": [],
   "source": [
    "pairs = []\n",
    "for i, emb in enumerate(embeddings_kor):\n",
    "    for j in range(i+1, len(embeddings_kor)):\n",
    "        pairs.append((sentences[i], sentences[j],emb, embeddings_kor[j]))\n",
    "#pairs[0]"
   ]
  },
  {
   "cell_type": "code",
   "execution_count": 17,
   "id": "1133c089-bb73-41ca-bcdc-726311350b6a",
   "metadata": {},
   "outputs": [
    {
     "name": "stdout",
     "output_type": "stream",
     "text": [
      "높다  //  낮다 0.17289333\n",
      "높다  //  감소 0.089852326\n",
      "높다  //  증가 0.8431429\n",
      "낮다  //  감소 0.75305104\n",
      "낮다  //  증가 0.105136\n",
      "감소  //  증가 0.08927932\n"
     ]
    }
   ],
   "source": [
    "for (sent1,sent2, ans, r_ans) in pairs:\n",
    "    print(sent1,\" // \", sent2, get_similarity(ans, r_ans))"
   ]
  },
  {
   "cell_type": "code",
   "execution_count": 18,
   "id": "dc2cf39f-7207-44a8-8301-41dbed23d94c",
   "metadata": {},
   "outputs": [],
   "source": [
    "from sklearn.manifold import TSNE\n",
    "from sklearn.datasets import load_digits"
   ]
  },
  {
   "cell_type": "code",
   "execution_count": 20,
   "id": "a37729cf-e4c3-430a-af09-764ae9346d9c",
   "metadata": {},
   "outputs": [],
   "source": [
    "# 2차원으로 차원 축소\n",
    "n_components = 2\n",
    "\n",
    "# t-sne 모델 생성\n",
    "model = TSNE(n_components=n_components)\n",
    "\n",
    "tsne_np = model.fit_transform(embeddings_kor)"
   ]
  },
  {
   "cell_type": "code",
   "execution_count": 21,
   "id": "8fecd08e-87a6-4dc2-a523-d83a86d16879",
   "metadata": {},
   "outputs": [
    {
     "name": "stdout",
     "output_type": "stream",
     "text": [
      "[[-176.73305   -86.87126 ]\n",
      " [-249.0828    -85.216545]\n",
      " [-250.73784  -157.56627 ]\n",
      " [-178.38751  -159.22095 ]]\n"
     ]
    }
   ],
   "source": [
    "# 학습한 결과 2차원 공간 값 출력\n",
    "print(tsne_np)"
   ]
  },
  {
   "cell_type": "code",
   "execution_count": 22,
   "id": "82535530-7dbf-48ef-ae4c-d596ae20ea79",
   "metadata": {},
   "outputs": [],
   "source": [
    "# numpy array -> DataFrame 변환\n",
    "tsne_df = pd.DataFrame(tsne_np, columns = ['component 0', 'component 1'])"
   ]
  },
  {
   "cell_type": "code",
   "execution_count": 27,
   "id": "21662e01-6af7-49b3-b760-e6e92c53dc77",
   "metadata": {},
   "outputs": [
    {
     "name": "stderr",
     "output_type": "stream",
     "text": [
      "No handles with labels found to put in legend.\n"
     ]
    },
    {
     "data": {
      "image/png": "[encoded data removed]",
      "text/plain": [
       "<Figure size 432x288 with 1 Axes>"
      ]
     },
     "metadata": {
      "needs_background": "light"
     },
     "output_type": "display_data"
    }
   ],
   "source": [
    "import matplotlib.pyplot as plt\n",
    "\n",
    "# class target 정보 불러오기 \n",
    "tsne_df['target'] = sentences\n",
    "\n",
    "# target 별 분리\n",
    "tsne_df_0 = tsne_df[tsne_df['target'] == '높다']\n",
    "tsne_df_1 = tsne_df[tsne_df['target'] == '낮다']\n",
    "tsne_df_2 = tsne_df[tsne_df['target'] == '감소']\n",
    "tsne_df_3 = tsne_df[tsne_df['target'] == '증가']\n",
    "\n",
    "# target 별 시각화\n",
    "plt.scatter(tsne_df_0['component 0'], tsne_df_0['component 1'], color = 'pink')\n",
    "plt.scatter(tsne_df_1['component 0'], tsne_df_1['component 1'], color = 'purple')\n",
    "plt.scatter(tsne_df_2['component 0'], tsne_df_2['component 1'], color = 'red')\n",
    "plt.scatter(tsne_df_3['component 0'], tsne_df_3['component 1'], color = 'green')\n",
    "\n",
    "\n",
    "plt.xlabel('component 0')\n",
    "plt.ylabel('component 1')\n",
    "plt.legend()\n",
    "plt.show()"
   ]
  },
  {
   "cell_type": "code",
   "execution_count": null,
   "id": "7c90f3f9-86bd-4119-9b4c-3a33cf44d97e",
   "metadata": {},
   "outputs": [],
   "source": []
  }
 ],
 "metadata": {
  "kernelspec": {
   "display_name": "Python 3 (ipykernel)",
   "language": "python",
   "name": "python3"
  },
  "language_info": {
   "codemirror_mode": {
    "name": "ipython",
    "version": 3
   },
   "file_extension": ".py",
   "mimetype": "text/x-python",
   "name": "python",
   "nbconvert_exporter": "python",
   "pygments_lexer": "ipython3",
   "version": "3.8.5"
  }
 },
 "nbformat": 4,
 "nbformat_minor": 5
}
