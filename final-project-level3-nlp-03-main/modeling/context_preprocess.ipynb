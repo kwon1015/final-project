{
 "cells": [
  {
   "cell_type": "markdown",
   "metadata": {},
   "source": [
    "### 문장 전처리\n",
    "\n",
    "문장 전처리를 위한 코드입니다. 차례대로 구현되어 있으므로 따라서 보시면 됩니다.\n",
    "\n",
    "하나로 묶은 파일은 contexts_preprocess.py를 참고해주시면 됩니다."
   ]
  },
  {
   "cell_type": "code",
   "execution_count": null,
   "metadata": {},
   "outputs": [],
   "source": [
    "# 필요한 객체 import\n",
    "import pandas as pd\n",
    "from konlpy.tag import Okt\n",
    "from preprocessing import preprocess_data, tokenizing_data, get_label\n",
    "from utils import seed_fix\n",
    "import pandas as pd\n",
    "import numpy as np\n",
    "import random\n",
    "import pickle\n",
    "\n",
    "import re\n",
    "# 초기화 및 모델 학습\n",
    "from gensim.models import word2vec\n",
    "# 띄어쓰기\n",
    "from pykospacing import Spacing\n",
    "# 마춤뻡 검사기\n",
    "from hanspell import spell_checker\n",
    "\n",
    "from soynlp.normalizer import *"
   ]
  },
  {
   "cell_type": "markdown",
   "metadata": {},
   "source": [
    "가장 먼저 nan 값 처리를 위한 조치입니다.\n",
    "\n",
    "nan 값은 type이 float로 나오게 되어서 아래와 같은 식으로 조치를 해주었습니다"
   ]
  },
  {
   "cell_type": "code",
   "execution_count": null,
   "metadata": {},
   "outputs": [],
   "source": [
    "for word in contexts:\n",
    "    if type(word) == float:\n",
    "        contexts.remove(word)"
   ]
  },
  {
   "cell_type": "markdown",
   "metadata": {},
   "source": [
    "두번째로는 중복 문자에 대한 처리입니다.\n",
    "\n",
    "두 글자 이상 반복되는 글자는 제거해주었습니다\n",
    "\n",
    "- ex) ㅋㅋㅋㅋㅋ, ㅠㅜㅠㅠㅠ 등"
   ]
  },
  {
   "cell_type": "code",
   "execution_count": null,
   "metadata": {},
   "outputs": [],
   "source": [
    "def remove_repeat_char(contexts):\n",
    "    preprocessed_text = []\n",
    "    for text in contexts:\n",
    "        text = repeat_normalize(text, num_repeats=2).strip()\n",
    "        if text:\n",
    "            preprocessed_text.append(text)\n",
    "\n",
    "    return preprocessed_text"
   ]
  },
  {
   "cell_type": "markdown",
   "metadata": {},
   "source": [
    "ㅠ, ㅋ 과 같은 한 글자씩만 등장하는 단어 혹은 특수 문자를 모두 제거"
   ]
  },
  {
   "cell_type": "code",
   "execution_count": null,
   "metadata": {},
   "outputs": [],
   "source": [
    "# 한국어 정규식 확인 + ㅏ, ㅋ 이런 거 제거\n",
    "def regular_check(contexts):\n",
    "    preprocessed_text = []\n",
    "    for text in contexts:\n",
    "        text = re.sub('[ㄱ-ㅎㅏ-ㅣ]', '', text)\n",
    "        text = re.sub('[-=+,#/\\?:^$.@*\\\"※~&%ㆍ!』\\\\‘|\\(\\)\\[\\]\\<\\>`\\'…》]','', text)\n",
    "        if text:\n",
    "            preprocessed_text.append(text)\n",
    "\n",
    "    return preprocessed_text"
   ]
  },
  {
   "cell_type": "markdown",
   "metadata": {},
   "source": [
    "특수문자 통일"
   ]
  },
  {
   "cell_type": "code",
   "execution_count": null,
   "metadata": {},
   "outputs": [],
   "source": [
    "def clean_punc(texts):\n",
    "    punct_mapping = {\"‘\": \"'\", \"₹\": \"e\", \"´\": \"'\", \"°\": \"\", \"€\": \"e\", \"™\": \"tm\", \"√\": \" sqrt \", \"×\": \"x\", \"²\": \"2\", \"—\": \"-\", \"–\": \"-\", \"’\": \"'\", \"_\": \"-\", \"`\": \"'\", '“': '\"', '”': '\"', '“': '\"', \"£\": \"e\", '∞': 'infinity', 'θ': 'theta', '÷': '/', 'α': 'alpha', '•': '.', 'à': 'a', '−': '-', 'β': 'beta', '∅': '', '³': '3', 'π': 'pi', }\n",
    "\n",
    "    preprocessed_text = []\n",
    "    for text in texts:\n",
    "        for p in punct_mapping:\n",
    "            text = text.replace(p, punct_mapping[p])\n",
    "        text = text.strip()\n",
    "        if text:\n",
    "            preprocessed_text.append(text)\n",
    "    return preprocessed_text"
   ]
  },
  {
   "cell_type": "markdown",
   "metadata": {},
   "source": [
    "띄어쓰기 1회만 되도록 + 양쪽 공백strip 처리"
   ]
  },
  {
   "cell_type": "code",
   "execution_count": null,
   "metadata": {},
   "outputs": [],
   "source": [
    "def remove_repeated_spacing(texts):\n",
    "    \"\"\"\n",
    "    두 개 이상의 연속된 공백을 하나로 치환합니다.\n",
    "    ``오늘은    날씨가   좋다.`` -> ``오늘은 날씨가 좋다.``\n",
    "    \"\"\"\n",
    "    preprocessed_text = []\n",
    "    for text in texts:\n",
    "        text = re.sub(r\"\\s+\", \" \", text).strip()\n",
    "        if text:\n",
    "            preprocessed_text.append(text)\n",
    "    return preprocessed_text"
   ]
  },
  {
   "cell_type": "markdown",
   "metadata": {},
   "source": [
    "spacing 라이브러리를 통한 띄어쓰기"
   ]
  },
  {
   "cell_type": "code",
   "execution_count": null,
   "metadata": {},
   "outputs": [],
   "source": [
    "def spacing_sent(texts):\n",
    "    \"\"\"\n",
    "    띄어쓰기를 보정합니다.\n",
    "    \"\"\"\n",
    "    preprocessed_text = []\n",
    "    spacing = Spacing()\n",
    "    for text in texts:\n",
    "        text = spacing(text)\n",
    "        if text:\n",
    "            preprocessed_text.append(text)\n",
    "    return preprocessed_text"
   ]
  },
  {
   "cell_type": "markdown",
   "metadata": {},
   "source": [
    "마춤뻡 검사기를 통한 처리"
   ]
  },
  {
   "cell_type": "code",
   "execution_count": null,
   "metadata": {},
   "outputs": [],
   "source": [
    "def spell_check_sent(texts):\n",
    "    \"\"\"\n",
    "    맞춤법을 보정합니다.\n",
    "    \"\"\"\n",
    "    preprocessed_text = []\n",
    "    for text in texts:\n",
    "        try:\n",
    "            spelled_sent = spell_checker.check(text)\n",
    "            checked_sent = spelled_sent.checked \n",
    "            if checked_sent:\n",
    "                preprocessed_text.append(checked_sent)\n",
    "        except:\n",
    "            preprocessed_text.append(text)\n",
    "    return preprocessed_text"
   ]
  }
 ],
 "metadata": {
  "language_info": {
   "name": "python"
  },
  "orig_nbformat": 4
 },
 "nbformat": 4,
 "nbformat_minor": 2
}
