{
 "cells": [
  {
   "cell_type": "code",
   "execution_count": 1,
   "id": "0df20a4b-7f9d-48c9-9918-e1d80a5c52f5",
   "metadata": {},
   "outputs": [],
   "source": [
    "import pandas as pd"
   ]
  },
  {
   "cell_type": "code",
   "execution_count": null,
   "id": "209e27e8-8476-4f3c-911f-770e2d8a9fdc",
   "metadata": {},
   "outputs": [
    {
     "ename": "FileNotFoundError",
     "evalue": "[Errno 2] No such file or directory: 'train_data'",
     "output_type": "error",
     "traceback": [
      "\u001b[0;31m---------------------------------------------------------------------------\u001b[0m",
      "\u001b[0;31mFileNotFoundError\u001b[0m                         Traceback (most recent call last)",
      "Input \u001b[0;32mIn [2]\u001b[0m, in \u001b[0;36m<cell line: 4>\u001b[0;34m()\u001b[0m\n\u001b[1;32m      1\u001b[0m \u001b[38;5;66;03m# data = pd.read_csv('train_data', sep='\\t')\u001b[39;00m\n\u001b[1;32m      2\u001b[0m \u001b[38;5;66;03m# label = pd.read_csv('train_label.csv',sep='\\t')\u001b[39;00m\n\u001b[1;32m      3\u001b[0m data \u001b[38;5;241m=\u001b[39m {\u001b[38;5;124m'\u001b[39m\u001b[38;5;124msent_a\u001b[39m\u001b[38;5;124m'\u001b[39m:[], \u001b[38;5;124m'\u001b[39m\u001b[38;5;124msent_b\u001b[39m\u001b[38;5;124m'\u001b[39m:[], \u001b[38;5;124m'\u001b[39m\u001b[38;5;124mlabels\u001b[39m\u001b[38;5;124m'\u001b[39m:[]}\n\u001b[0;32m----> 4\u001b[0m \u001b[38;5;28;01mwith\u001b[39;00m \u001b[38;5;28;43mopen\u001b[39;49m\u001b[43m(\u001b[49m\u001b[38;5;124;43m'\u001b[39;49m\u001b[38;5;124;43mtrain_data\u001b[39;49m\u001b[38;5;124;43m'\u001b[39;49m\u001b[43m,\u001b[49m\u001b[43m \u001b[49m\u001b[38;5;124;43m'\u001b[39;49m\u001b[38;5;124;43mr\u001b[39;49m\u001b[38;5;124;43m'\u001b[39;49m\u001b[43m)\u001b[49m \u001b[38;5;28;01mas\u001b[39;00m f:\n\u001b[1;32m      5\u001b[0m     cnt \u001b[38;5;241m=\u001b[39m \u001b[38;5;241m0\u001b[39m\n\u001b[1;32m      6\u001b[0m     test \u001b[38;5;241m=\u001b[39m []\n",
      "\u001b[0;31mFileNotFoundError\u001b[0m: [Errno 2] No such file or directory: 'train_data'"
     ]
    }
   ],
   "source": [
    "# data = pd.read_csv('train_data', sep='\\t')\n",
    "# label = pd.read_csv('train_label.csv',sep='\\t')\n",
    "data = {'sent_a':[], 'sent_b':[], 'labels':[]}\n",
    "with open('train_data', 'r') as f:\n",
    "    cnt = 0\n",
    "    test = []\n",
    "    for idx, line in enumerate(f):\n",
    "    # line = f.readline()\n",
    "        try:\n",
    "            a, b = line.split('\\t')\n",
    "        except:\n",
    "            cnt += 1\n",
    "            test.append(idx)\n",
    "            continue\n",
    "        data['sent_a'].append(a)\n",
    "        data['sent_b'].append(b.rstrip())\n",
    "        if cnt ==20:\n",
    "            break\n",
    "        \n",
    "    "
   ]
  },
  {
   "cell_type": "code",
   "execution_count": 65,
   "id": "3f188cb1-7c10-44eb-be25-48a360a6a901",
   "metadata": {},
   "outputs": [],
   "source": [
    "with open('train_label', 'r') as f:\n",
    "    cnt = 0\n",
    "    test = []\n",
    "    for idx, line in enumerate(f):\n",
    "        if idx == 6929:\n",
    "            continue\n",
    "        data['labels'].append(int(line))"
   ]
  },
  {
   "cell_type": "code",
   "execution_count": 66,
   "id": "f4646a10-b45a-4032-8f9b-6b7fca73bf87",
   "metadata": {},
   "outputs": [
    {
     "data": {
      "text/plain": [
       "[]"
      ]
     },
     "execution_count": 66,
     "metadata": {},
     "output_type": "execute_result"
    }
   ],
   "source": [
    "test"
   ]
  },
  {
   "cell_type": "code",
   "execution_count": 67,
   "id": "a6b1856a-cc70-4b85-8937-55ac129158ea",
   "metadata": {},
   "outputs": [
    {
     "data": {
      "text/plain": [
       "61220"
      ]
     },
     "execution_count": 67,
     "metadata": {},
     "output_type": "execute_result"
    }
   ],
   "source": [
    "len(data['sent_b'])"
   ]
  },
  {
   "cell_type": "code",
   "execution_count": 68,
   "id": "5f27519f-10ef-4050-a222-f9c0d804356b",
   "metadata": {},
   "outputs": [
    {
     "data": {
      "text/plain": [
       "61220"
      ]
     },
     "execution_count": 68,
     "metadata": {},
     "output_type": "execute_result"
    }
   ],
   "source": [
    "len(data['labels'])"
   ]
  },
  {
   "cell_type": "code",
   "execution_count": 69,
   "id": "87885c1d-259f-401b-b6f7-099e49f59dae",
   "metadata": {},
   "outputs": [],
   "source": [
    "df = pd.DataFrame(data)\n",
    "df.to_csv('../../kor-sentence.csv')"
   ]
  },
  {
   "cell_type": "code",
   "execution_count": 3,
   "id": "72b16d3e-f84c-4b0b-9b8e-df2bf0660ddf",
   "metadata": {},
   "outputs": [],
   "source": [
    "kor_sentence = pd.read_csv('/opt/ml/projects/final-project-level3-nlp-03/data/train/kor-sentence.csv')"
   ]
  },
  {
   "cell_type": "code",
   "execution_count": 4,
   "id": "f1ec4a15-809f-4661-a35e-291622ad7abd",
   "metadata": {},
   "outputs": [
    {
     "data": {
      "text/html": [
       "<div>\n",
       "<style scoped>\n",
       "    .dataframe tbody tr th:only-of-type {\n",
       "        vertical-align: middle;\n",
       "    }\n",
       "\n",
       "    .dataframe tbody tr th {\n",
       "        vertical-align: top;\n",
       "    }\n",
       "\n",
       "    .dataframe thead th {\n",
       "        text-align: right;\n",
       "    }\n",
       "</style>\n",
       "<table border=\"1\" class=\"dataframe\">\n",
       "  <thead>\n",
       "    <tr style=\"text-align: right;\">\n",
       "      <th></th>\n",
       "      <th>Unnamed: 0</th>\n",
       "      <th>sent_a</th>\n",
       "      <th>sent_b</th>\n",
       "      <th>labels</th>\n",
       "    </tr>\n",
       "  </thead>\n",
       "  <tbody>\n",
       "    <tr>\n",
       "      <th>0</th>\n",
       "      <td>0</td>\n",
       "      <td>우표의 가장자리는 왜 울퉁불퉁 하나요??</td>\n",
       "      <td>우표는 왜 네모모양일까요?</td>\n",
       "      <td>0</td>\n",
       "    </tr>\n",
       "    <tr>\n",
       "      <th>1</th>\n",
       "      <td>1</td>\n",
       "      <td>MSG(화학 조미료)는 무엇으로 만들죠?</td>\n",
       "      <td>김치볶음밥을 만들때 조미료는 뭐가들어가야 하나요..??</td>\n",
       "      <td>0</td>\n",
       "    </tr>\n",
       "    <tr>\n",
       "      <th>2</th>\n",
       "      <td>2</td>\n",
       "      <td>일본버스요!!</td>\n",
       "      <td>일본 버스이용</td>\n",
       "      <td>1</td>\n",
       "    </tr>\n",
       "    <tr>\n",
       "      <th>3</th>\n",
       "      <td>3</td>\n",
       "      <td>젠스타일이 무엇인가요?</td>\n",
       "      <td>레트로 스타일이 무엇인가요?</td>\n",
       "      <td>0</td>\n",
       "    </tr>\n",
       "    <tr>\n",
       "      <th>4</th>\n",
       "      <td>4</td>\n",
       "      <td>잡곡밥</td>\n",
       "      <td>쿠쿠 잡곡밥</td>\n",
       "      <td>0</td>\n",
       "    </tr>\n",
       "    <tr>\n",
       "      <th>...</th>\n",
       "      <td>...</td>\n",
       "      <td>...</td>\n",
       "      <td>...</td>\n",
       "      <td>...</td>\n",
       "    </tr>\n",
       "    <tr>\n",
       "      <th>61215</th>\n",
       "      <td>61215</td>\n",
       "      <td>컴퓨터 청소 방법</td>\n",
       "      <td>컴퓨터 청소하는 방법</td>\n",
       "      <td>1</td>\n",
       "    </tr>\n",
       "    <tr>\n",
       "      <th>61216</th>\n",
       "      <td>61216</td>\n",
       "      <td>네번째 손가락은 왜 혼자 안 펴질까?</td>\n",
       "      <td>손가락이 갈라지는데 왜 그런걸까요????</td>\n",
       "      <td>0</td>\n",
       "    </tr>\n",
       "    <tr>\n",
       "      <th>61217</th>\n",
       "      <td>61217</td>\n",
       "      <td>세계에서 가장 오래 된 책은?</td>\n",
       "      <td>세계에서 가장 유명한 책</td>\n",
       "      <td>0</td>\n",
       "    </tr>\n",
       "    <tr>\n",
       "      <th>61218</th>\n",
       "      <td>61218</td>\n",
       "      <td>성금내는거요.</td>\n",
       "      <td>불우이웃돕기 성금</td>\n",
       "      <td>0</td>\n",
       "    </tr>\n",
       "    <tr>\n",
       "      <th>61219</th>\n",
       "      <td>61219</td>\n",
       "      <td>핸드드립과티백커피의차이점</td>\n",
       "      <td>핸드드립커피와 인스턴트이과수의차이</td>\n",
       "      <td>0</td>\n",
       "    </tr>\n",
       "  </tbody>\n",
       "</table>\n",
       "<p>61220 rows × 4 columns</p>\n",
       "</div>"
      ],
      "text/plain": [
       "       Unnamed: 0                  sent_a                          sent_b  \\\n",
       "0               0  우표의 가장자리는 왜 울퉁불퉁 하나요??                  우표는 왜 네모모양일까요?   \n",
       "1               1  MSG(화학 조미료)는 무엇으로 만들죠?  김치볶음밥을 만들때 조미료는 뭐가들어가야 하나요..??   \n",
       "2               2                 일본버스요!!                         일본 버스이용   \n",
       "3               3            젠스타일이 무엇인가요?                 레트로 스타일이 무엇인가요?   \n",
       "4               4                     잡곡밥                          쿠쿠 잡곡밥   \n",
       "...           ...                     ...                             ...   \n",
       "61215       61215               컴퓨터 청소 방법                     컴퓨터 청소하는 방법   \n",
       "61216       61216    네번째 손가락은 왜 혼자 안 펴질까?          손가락이 갈라지는데 왜 그런걸까요????   \n",
       "61217       61217        세계에서 가장 오래 된 책은?                   세계에서 가장 유명한 책   \n",
       "61218       61218                 성금내는거요.                       불우이웃돕기 성금   \n",
       "61219       61219           핸드드립과티백커피의차이점              핸드드립커피와 인스턴트이과수의차이   \n",
       "\n",
       "       labels  \n",
       "0           0  \n",
       "1           0  \n",
       "2           1  \n",
       "3           0  \n",
       "4           0  \n",
       "...       ...  \n",
       "61215       1  \n",
       "61216       0  \n",
       "61217       0  \n",
       "61218       0  \n",
       "61219       0  \n",
       "\n",
       "[61220 rows x 4 columns]"
      ]
     },
     "execution_count": 4,
     "metadata": {},
     "output_type": "execute_result"
    }
   ],
   "source": [
    "kor_sentence"
   ]
  },
  {
   "cell_type": "code",
   "execution_count": 81,
   "id": "2288f58e-6311-40a2-945e-144b71cf14fd",
   "metadata": {},
   "outputs": [],
   "source": [
    "# data = pd.read_csv('train_data', sep='\\t')\n",
    "# label = pd.read_csv('train_label.csv',sep='\\t')\n",
    "data = {'sent_a':[], 'sent_b':[], 'labels':[]}\n",
    "with open('test_data', 'r') as f:\n",
    "    cnt = 0\n",
    "    test = []\n",
    "    for idx, line in enumerate(f):\n",
    "    # line = f.readline()\n",
    "        try:\n",
    "            a, b = line.split('\\t')\n",
    "        except:\n",
    "            cnt += 1\n",
    "            test.append(idx)\n",
    "            continue\n",
    "        data['sent_a'].append(a)\n",
    "        data['sent_b'].append(b.rstrip())\n",
    "        if cnt ==20:\n",
    "            break"
   ]
  },
  {
   "cell_type": "code",
   "execution_count": 82,
   "id": "6d4a9b09-947c-48b3-9c8a-089f01006a77",
   "metadata": {},
   "outputs": [],
   "source": [
    "with open('test_label', 'r') as f:\n",
    "    cnt = 0\n",
    "    test = []\n",
    "    for idx, line in enumerate(f):\n",
    "        data['labels'].append(int(line))"
   ]
  },
  {
   "cell_type": "code",
   "execution_count": 83,
   "id": "69a6c5f3-4a43-4007-94b0-b19d73119f7b",
   "metadata": {},
   "outputs": [
    {
     "data": {
      "text/plain": [
       "15304"
      ]
     },
     "execution_count": 83,
     "metadata": {},
     "output_type": "execute_result"
    }
   ],
   "source": [
    "len(data['labels'])"
   ]
  },
  {
   "cell_type": "code",
   "execution_count": 84,
   "id": "e02f7084-d0fc-4144-b1a6-dcef461f3039",
   "metadata": {},
   "outputs": [
    {
     "data": {
      "text/plain": [
       "15304"
      ]
     },
     "execution_count": 84,
     "metadata": {},
     "output_type": "execute_result"
    }
   ],
   "source": [
    "len(data['sent_a'])"
   ]
  },
  {
   "cell_type": "code",
   "execution_count": 85,
   "id": "792a7eea-c962-4366-97d0-52a5bbad1481",
   "metadata": {},
   "outputs": [
    {
     "data": {
      "text/plain": [
       "15304"
      ]
     },
     "execution_count": 85,
     "metadata": {},
     "output_type": "execute_result"
    }
   ],
   "source": [
    "len(data['sent_b'])"
   ]
  },
  {
   "cell_type": "code",
   "execution_count": 86,
   "id": "078f0c6e-09dc-4326-af0f-22052f351430",
   "metadata": {},
   "outputs": [],
   "source": [
    "base_path = '/opt/ml/projects/tunning_data'\n",
    "import os, sys\n",
    "\n",
    "df = pd.DataFrame(data)\n",
    "df.to_csv(os.path.join(base_path, 'kor-sentence-valid.csv'))"
   ]
  },
  {
   "cell_type": "code",
   "execution_count": null,
   "id": "87575b66-e449-467c-9438-583721cacea5",
   "metadata": {},
   "outputs": [],
   "source": []
  }
 ],
 "metadata": {
  "kernelspec": {
   "display_name": "Python 3 (ipykernel)",
   "language": "python",
   "name": "python3"
  },
  "language_info": {
   "codemirror_mode": {
    "name": "ipython",
    "version": 3
   },
   "file_extension": ".py",
   "mimetype": "text/x-python",
   "name": "python",
   "nbconvert_exporter": "python",
   "pygments_lexer": "ipython3",
   "version": "3.8.5"
  }
 },
 "nbformat": 4,
 "nbformat_minor": 5
}
