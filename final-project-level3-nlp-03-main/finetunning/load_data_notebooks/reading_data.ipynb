{
 "cells": [
  {
   "cell_type": "code",
   "execution_count": 1,
   "id": "8137dd1b-473a-46da-98b5-ff0e151327c3",
   "metadata": {},
   "outputs": [],
   "source": [
    "import pandas as pd\n",
    "import os, sys"
   ]
  },
  {
   "cell_type": "code",
   "execution_count": 3,
   "id": "b2f4aa83-c0b9-4cf1-929a-ed4a13a3cbaa",
   "metadata": {},
   "outputs": [],
   "source": [
    "# korSTS\n",
    "korsts = pd.read_csv('/opt/ml/KorNLUDatasets/KorSTS/sts-train.csv')"
   ]
  },
  {
   "cell_type": "code",
   "execution_count": 52,
   "id": "efa60769-667b-4ed4-b9b8-3a9dd276bdc9",
   "metadata": {},
   "outputs": [
    {
     "data": {
      "text/plain": [
       "5749"
      ]
     },
     "execution_count": 52,
     "metadata": {},
     "output_type": "execute_result"
    }
   ],
   "source": [
    "len(korsts)"
   ]
  },
  {
   "cell_type": "code",
   "execution_count": 99,
   "id": "30951ee9-b153-4950-8e56-8180e2625252",
   "metadata": {},
   "outputs": [
    {
     "data": {
      "text/html": [
       "<div>\n",
       "<style scoped>\n",
       "    .dataframe tbody tr th:only-of-type {\n",
       "        vertical-align: middle;\n",
       "    }\n",
       "\n",
       "    .dataframe tbody tr th {\n",
       "        vertical-align: top;\n",
       "    }\n",
       "\n",
       "    .dataframe thead th {\n",
       "        text-align: right;\n",
       "    }\n",
       "</style>\n",
       "<table border=\"1\" class=\"dataframe\">\n",
       "  <thead>\n",
       "    <tr style=\"text-align: right;\">\n",
       "      <th></th>\n",
       "      <th>genre</th>\n",
       "      <th>filename</th>\n",
       "      <th>year</th>\n",
       "      <th>id</th>\n",
       "      <th>score</th>\n",
       "      <th>sentence1</th>\n",
       "      <th>sentence2</th>\n",
       "    </tr>\n",
       "  </thead>\n",
       "  <tbody>\n",
       "    <tr>\n",
       "      <th>5734</th>\n",
       "      <td>main-news</td>\n",
       "      <td>headlines</td>\n",
       "      <td>2016</td>\n",
       "      <td>1400.0</td>\n",
       "      <td>0.0</td>\n",
       "      <td>러시아의 중요한 파트너인 이란 : 노박</td>\n",
       "      <td>이란은 시리아 이라크에 대한 지지를 되풀이한다</td>\n",
       "    </tr>\n",
       "    <tr>\n",
       "      <th>5735</th>\n",
       "      <td>main-news</td>\n",
       "      <td>headlines</td>\n",
       "      <td>2016</td>\n",
       "      <td>1403.0</td>\n",
       "      <td>0.0</td>\n",
       "      <td>대만의 대통령은 이 대통령에게 경의를 표하기 위해 비행기를 전세 내린다.</td>\n",
       "      <td>폴란드 대통령이 도전자에게 패하다.</td>\n",
       "    </tr>\n",
       "    <tr>\n",
       "      <th>5736</th>\n",
       "      <td>main-news\\theadlines\\t2016\\t1404\\t0\\t케리 방문을 앞두...</td>\n",
       "      <td>NaN</td>\n",
       "      <td>NaN</td>\n",
       "      <td>NaN</td>\n",
       "      <td>NaN</td>\n",
       "      <td>NaN</td>\n",
       "      <td>NaN</td>\n",
       "    </tr>\n",
       "    <tr>\n",
       "      <th>5737</th>\n",
       "      <td>main-news</td>\n",
       "      <td>headlines</td>\n",
       "      <td>2016</td>\n",
       "      <td>1408.0</td>\n",
       "      <td>0.0</td>\n",
       "      <td>고객에게 비용을 지불한 혐의로 기소된 토마스 쿡</td>\n",
       "      <td>부상당한 참전용사들에게 침을 뱉은 혐의로 기소된 플로리다 대학</td>\n",
       "    </tr>\n",
       "    <tr>\n",
       "      <th>5738</th>\n",
       "      <td>main-news</td>\n",
       "      <td>headlines</td>\n",
       "      <td>2016</td>\n",
       "      <td>1412.0</td>\n",
       "      <td>0.0</td>\n",
       "      <td>나렌드라 모디 '사진 촬영' 천나이 홍수 방문 이미지가 유행한다.</td>\n",
       "      <td>나렌드라 모디는 차별과 평등에 대해 말한다.</td>\n",
       "    </tr>\n",
       "    <tr>\n",
       "      <th>5739</th>\n",
       "      <td>main-news</td>\n",
       "      <td>headlines</td>\n",
       "      <td>2016</td>\n",
       "      <td>1417.0</td>\n",
       "      <td>1.0</td>\n",
       "      <td>기니에서의 평화적인 대통령 선거를 환영하는 유엔 사무총장</td>\n",
       "      <td>말리 평화유지군에 대한 공격을 비난하는 유엔 사무총장</td>\n",
       "    </tr>\n",
       "    <tr>\n",
       "      <th>5740</th>\n",
       "      <td>main-news\\theadlines\\t2016\\t1422\\t0\\t파키스탄 사형 집...</td>\n",
       "      <td>NaN</td>\n",
       "      <td>NaN</td>\n",
       "      <td>NaN</td>\n",
       "      <td>NaN</td>\n",
       "      <td>NaN</td>\n",
       "      <td>NaN</td>\n",
       "    </tr>\n",
       "    <tr>\n",
       "      <th>5741</th>\n",
       "      <td>main-news</td>\n",
       "      <td>headlines</td>\n",
       "      <td>2016</td>\n",
       "      <td>1441.0</td>\n",
       "      <td>0.0</td>\n",
       "      <td>버스가 강에 추락한 후 케냐에서 살해된 두 명의 호주인</td>\n",
       "      <td>독일 열차 사고로 사망한 두 명과 퍼마링크</td>\n",
       "    </tr>\n",
       "    <tr>\n",
       "      <th>5742</th>\n",
       "      <td>main-news\\theadlines\\t2016\\t1443\\t2\\t프랑스는 이슬람 ...</td>\n",
       "      <td>NaN</td>\n",
       "      <td>NaN</td>\n",
       "      <td>NaN</td>\n",
       "      <td>NaN</td>\n",
       "      <td>NaN</td>\n",
       "      <td>NaN</td>\n",
       "    </tr>\n",
       "    <tr>\n",
       "      <th>5743</th>\n",
       "      <td>main-news</td>\n",
       "      <td>headlines</td>\n",
       "      <td>2016</td>\n",
       "      <td>1447.0</td>\n",
       "      <td>2.0</td>\n",
       "      <td>보도에 따르면 러시아 비행기가 이집트에서 추락했다고 한다.</td>\n",
       "      <td>영국에 있는 비행기 추락사고로 조종사 사망</td>\n",
       "    </tr>\n",
       "    <tr>\n",
       "      <th>5744</th>\n",
       "      <td>main-news</td>\n",
       "      <td>headlines</td>\n",
       "      <td>2016</td>\n",
       "      <td>1456.0</td>\n",
       "      <td>0.0</td>\n",
       "      <td>폭풍우 클로다흐가 영국을 강타하면서 심한 강풍</td>\n",
       "      <td>메르켈은 나토와 라트비아의 연대를 약속한다.</td>\n",
       "    </tr>\n",
       "    <tr>\n",
       "      <th>5745</th>\n",
       "      <td>main-news</td>\n",
       "      <td>headlines</td>\n",
       "      <td>2016</td>\n",
       "      <td>1465.0</td>\n",
       "      <td>0.0</td>\n",
       "      <td>리비아 테러리스트들이 공습에 대한 복수로 찍은 수십 명의 이집트 인질들</td>\n",
       "      <td>나일강에서 더 많은 시체가 발견되면서 이집트 보트 충돌 사고 사망자 수가 증가한다.</td>\n",
       "    </tr>\n",
       "    <tr>\n",
       "      <th>5746</th>\n",
       "      <td>main-news</td>\n",
       "      <td>headlines</td>\n",
       "      <td>2016</td>\n",
       "      <td>1466.0</td>\n",
       "      <td>0.0</td>\n",
       "      <td>바레인으로 향하는 대통령</td>\n",
       "      <td>시 주석 : 에볼라 퇴치를 계속 돕기 위한 중국</td>\n",
       "    </tr>\n",
       "    <tr>\n",
       "      <th>5747</th>\n",
       "      <td>main-news\\theadlines\\t2016\\t1470\\t0\\t중국, 인도는 양...</td>\n",
       "      <td>NaN</td>\n",
       "      <td>NaN</td>\n",
       "      <td>NaN</td>\n",
       "      <td>NaN</td>\n",
       "      <td>NaN</td>\n",
       "      <td>NaN</td>\n",
       "    </tr>\n",
       "    <tr>\n",
       "      <th>5748</th>\n",
       "      <td>main-news</td>\n",
       "      <td>headlines</td>\n",
       "      <td>2016</td>\n",
       "      <td>1492.0</td>\n",
       "      <td>0.0</td>\n",
       "      <td>푸틴 대변인 : 도핑 혐의는 근거 없는 것으로 보인다.</td>\n",
       "      <td>가장 최근의 심한 날씨 : 토네이도 후 텍사스에서 1명 사망</td>\n",
       "    </tr>\n",
       "  </tbody>\n",
       "</table>\n",
       "</div>"
      ],
      "text/plain": [
       "                                                  genre   filename  year  \\\n",
       "5734                                          main-news  headlines  2016   \n",
       "5735                                          main-news  headlines  2016   \n",
       "5736  main-news\\theadlines\\t2016\\t1404\\t0\\t케리 방문을 앞두...        NaN   NaN   \n",
       "5737                                          main-news  headlines  2016   \n",
       "5738                                          main-news  headlines  2016   \n",
       "5739                                          main-news  headlines  2016   \n",
       "5740  main-news\\theadlines\\t2016\\t1422\\t0\\t파키스탄 사형 집...        NaN   NaN   \n",
       "5741                                          main-news  headlines  2016   \n",
       "5742  main-news\\theadlines\\t2016\\t1443\\t2\\t프랑스는 이슬람 ...        NaN   NaN   \n",
       "5743                                          main-news  headlines  2016   \n",
       "5744                                          main-news  headlines  2016   \n",
       "5745                                          main-news  headlines  2016   \n",
       "5746                                          main-news  headlines  2016   \n",
       "5747  main-news\\theadlines\\t2016\\t1470\\t0\\t중국, 인도는 양...        NaN   NaN   \n",
       "5748                                          main-news  headlines  2016   \n",
       "\n",
       "          id  score                                 sentence1  \\\n",
       "5734  1400.0    0.0                     러시아의 중요한 파트너인 이란 : 노박   \n",
       "5735  1403.0    0.0  대만의 대통령은 이 대통령에게 경의를 표하기 위해 비행기를 전세 내린다.   \n",
       "5736     NaN    NaN                                       NaN   \n",
       "5737  1408.0    0.0                고객에게 비용을 지불한 혐의로 기소된 토마스 쿡   \n",
       "5738  1412.0    0.0      나렌드라 모디 '사진 촬영' 천나이 홍수 방문 이미지가 유행한다.   \n",
       "5739  1417.0    1.0           기니에서의 평화적인 대통령 선거를 환영하는 유엔 사무총장   \n",
       "5740     NaN    NaN                                       NaN   \n",
       "5741  1441.0    0.0            버스가 강에 추락한 후 케냐에서 살해된 두 명의 호주인   \n",
       "5742     NaN    NaN                                       NaN   \n",
       "5743  1447.0    2.0          보도에 따르면 러시아 비행기가 이집트에서 추락했다고 한다.   \n",
       "5744  1456.0    0.0                 폭풍우 클로다흐가 영국을 강타하면서 심한 강풍   \n",
       "5745  1465.0    0.0   리비아 테러리스트들이 공습에 대한 복수로 찍은 수십 명의 이집트 인질들   \n",
       "5746  1466.0    0.0                             바레인으로 향하는 대통령   \n",
       "5747     NaN    NaN                                       NaN   \n",
       "5748  1492.0    0.0            푸틴 대변인 : 도핑 혐의는 근거 없는 것으로 보인다.   \n",
       "\n",
       "                                           sentence2  \n",
       "5734                       이란은 시리아 이라크에 대한 지지를 되풀이한다  \n",
       "5735                             폴란드 대통령이 도전자에게 패하다.  \n",
       "5736                                             NaN  \n",
       "5737              부상당한 참전용사들에게 침을 뱉은 혐의로 기소된 플로리다 대학  \n",
       "5738                        나렌드라 모디는 차별과 평등에 대해 말한다.  \n",
       "5739                   말리 평화유지군에 대한 공격을 비난하는 유엔 사무총장  \n",
       "5740                                             NaN  \n",
       "5741                         독일 열차 사고로 사망한 두 명과 퍼마링크  \n",
       "5742                                             NaN  \n",
       "5743                         영국에 있는 비행기 추락사고로 조종사 사망  \n",
       "5744                        메르켈은 나토와 라트비아의 연대를 약속한다.  \n",
       "5745  나일강에서 더 많은 시체가 발견되면서 이집트 보트 충돌 사고 사망자 수가 증가한다.  \n",
       "5746                      시 주석 : 에볼라 퇴치를 계속 돕기 위한 중국  \n",
       "5747                                             NaN  \n",
       "5748               가장 최근의 심한 날씨 : 토네이도 후 텍사스에서 1명 사망  "
      ]
     },
     "execution_count": 99,
     "metadata": {},
     "output_type": "execute_result"
    }
   ],
   "source": [
    "korsts.tail(15)"
   ]
  },
  {
   "cell_type": "code",
   "execution_count": 102,
   "id": "7e9df307-148d-4dd6-aa75-3f22e160aba1",
   "metadata": {},
   "outputs": [
    {
     "data": {
      "text/html": [
       "<div>\n",
       "<style scoped>\n",
       "    .dataframe tbody tr th:only-of-type {\n",
       "        vertical-align: middle;\n",
       "    }\n",
       "\n",
       "    .dataframe tbody tr th {\n",
       "        vertical-align: top;\n",
       "    }\n",
       "\n",
       "    .dataframe thead th {\n",
       "        text-align: right;\n",
       "    }\n",
       "</style>\n",
       "<table border=\"1\" class=\"dataframe\">\n",
       "  <thead>\n",
       "    <tr style=\"text-align: right;\">\n",
       "      <th></th>\n",
       "      <th>genre</th>\n",
       "      <th>filename</th>\n",
       "      <th>year</th>\n",
       "      <th>id</th>\n",
       "      <th>score</th>\n",
       "      <th>sentence1</th>\n",
       "      <th>sentence2</th>\n",
       "    </tr>\n",
       "  </thead>\n",
       "  <tbody>\n",
       "    <tr>\n",
       "      <th>740</th>\n",
       "      <td>main-captions\\tMSRvid\\t2012train\\t0351\\t3.500\\...</td>\n",
       "      <td>NaN</td>\n",
       "      <td>NaN</td>\n",
       "      <td>NaN</td>\n",
       "      <td>NaN</td>\n",
       "      <td>NaN</td>\n",
       "      <td>NaN</td>\n",
       "    </tr>\n",
       "    <tr>\n",
       "      <th>872</th>\n",
       "      <td>main-captions\\tMSRvid\\t2012train\\t0554\\t2.750\\...</td>\n",
       "      <td>NaN</td>\n",
       "      <td>NaN</td>\n",
       "      <td>NaN</td>\n",
       "      <td>NaN</td>\n",
       "      <td>NaN</td>\n",
       "      <td>NaN</td>\n",
       "    </tr>\n",
       "    <tr>\n",
       "      <th>1034</th>\n",
       "      <td>main-captions\\timages\\t2014\\t0050\\t0\\t빈 유리 코크스...</td>\n",
       "      <td>NaN</td>\n",
       "      <td>NaN</td>\n",
       "      <td>NaN</td>\n",
       "      <td>NaN</td>\n",
       "      <td>NaN</td>\n",
       "      <td>NaN</td>\n",
       "    </tr>\n",
       "    <tr>\n",
       "      <th>1106</th>\n",
       "      <td>main-captions\\timages\\t2014\\t0147\\t3.2\\t승리 라이너...</td>\n",
       "      <td>NaN</td>\n",
       "      <td>NaN</td>\n",
       "      <td>NaN</td>\n",
       "      <td>NaN</td>\n",
       "      <td>NaN</td>\n",
       "      <td>NaN</td>\n",
       "    </tr>\n",
       "    <tr>\n",
       "      <th>1159</th>\n",
       "      <td>main-captions\\timages\\t2014\\t0230\\t5\\t레드 더블 데커...</td>\n",
       "      <td>NaN</td>\n",
       "      <td>NaN</td>\n",
       "      <td>NaN</td>\n",
       "      <td>NaN</td>\n",
       "      <td>NaN</td>\n",
       "      <td>NaN</td>\n",
       "    </tr>\n",
       "    <tr>\n",
       "      <th>...</th>\n",
       "      <td>...</td>\n",
       "      <td>...</td>\n",
       "      <td>...</td>\n",
       "      <td>...</td>\n",
       "      <td>...</td>\n",
       "      <td>...</td>\n",
       "      <td>...</td>\n",
       "    </tr>\n",
       "    <tr>\n",
       "      <th>5732</th>\n",
       "      <td>main-news\\theadlines\\t2016\\t1352\\t1\\t영국 지도자, 시...</td>\n",
       "      <td>NaN</td>\n",
       "      <td>NaN</td>\n",
       "      <td>NaN</td>\n",
       "      <td>NaN</td>\n",
       "      <td>NaN</td>\n",
       "      <td>NaN</td>\n",
       "    </tr>\n",
       "    <tr>\n",
       "      <th>5736</th>\n",
       "      <td>main-news\\theadlines\\t2016\\t1404\\t0\\t케리 방문을 앞두...</td>\n",
       "      <td>NaN</td>\n",
       "      <td>NaN</td>\n",
       "      <td>NaN</td>\n",
       "      <td>NaN</td>\n",
       "      <td>NaN</td>\n",
       "      <td>NaN</td>\n",
       "    </tr>\n",
       "    <tr>\n",
       "      <th>5740</th>\n",
       "      <td>main-news\\theadlines\\t2016\\t1422\\t0\\t파키스탄 사형 집...</td>\n",
       "      <td>NaN</td>\n",
       "      <td>NaN</td>\n",
       "      <td>NaN</td>\n",
       "      <td>NaN</td>\n",
       "      <td>NaN</td>\n",
       "      <td>NaN</td>\n",
       "    </tr>\n",
       "    <tr>\n",
       "      <th>5742</th>\n",
       "      <td>main-news\\theadlines\\t2016\\t1443\\t2\\t프랑스는 이슬람 ...</td>\n",
       "      <td>NaN</td>\n",
       "      <td>NaN</td>\n",
       "      <td>NaN</td>\n",
       "      <td>NaN</td>\n",
       "      <td>NaN</td>\n",
       "      <td>NaN</td>\n",
       "    </tr>\n",
       "    <tr>\n",
       "      <th>5747</th>\n",
       "      <td>main-news\\theadlines\\t2016\\t1470\\t0\\t중국, 인도는 양...</td>\n",
       "      <td>NaN</td>\n",
       "      <td>NaN</td>\n",
       "      <td>NaN</td>\n",
       "      <td>NaN</td>\n",
       "      <td>NaN</td>\n",
       "      <td>NaN</td>\n",
       "    </tr>\n",
       "  </tbody>\n",
       "</table>\n",
       "<p>1365 rows × 7 columns</p>\n",
       "</div>"
      ],
      "text/plain": [
       "                                                  genre filename year  id  \\\n",
       "740   main-captions\\tMSRvid\\t2012train\\t0351\\t3.500\\...      NaN  NaN NaN   \n",
       "872   main-captions\\tMSRvid\\t2012train\\t0554\\t2.750\\...      NaN  NaN NaN   \n",
       "1034  main-captions\\timages\\t2014\\t0050\\t0\\t빈 유리 코크스...      NaN  NaN NaN   \n",
       "1106  main-captions\\timages\\t2014\\t0147\\t3.2\\t승리 라이너...      NaN  NaN NaN   \n",
       "1159  main-captions\\timages\\t2014\\t0230\\t5\\t레드 더블 데커...      NaN  NaN NaN   \n",
       "...                                                 ...      ...  ...  ..   \n",
       "5732  main-news\\theadlines\\t2016\\t1352\\t1\\t영국 지도자, 시...      NaN  NaN NaN   \n",
       "5736  main-news\\theadlines\\t2016\\t1404\\t0\\t케리 방문을 앞두...      NaN  NaN NaN   \n",
       "5740  main-news\\theadlines\\t2016\\t1422\\t0\\t파키스탄 사형 집...      NaN  NaN NaN   \n",
       "5742  main-news\\theadlines\\t2016\\t1443\\t2\\t프랑스는 이슬람 ...      NaN  NaN NaN   \n",
       "5747  main-news\\theadlines\\t2016\\t1470\\t0\\t중국, 인도는 양...      NaN  NaN NaN   \n",
       "\n",
       "      score sentence1 sentence2  \n",
       "740     NaN       NaN       NaN  \n",
       "872     NaN       NaN       NaN  \n",
       "1034    NaN       NaN       NaN  \n",
       "1106    NaN       NaN       NaN  \n",
       "1159    NaN       NaN       NaN  \n",
       "...     ...       ...       ...  \n",
       "5732    NaN       NaN       NaN  \n",
       "5736    NaN       NaN       NaN  \n",
       "5740    NaN       NaN       NaN  \n",
       "5742    NaN       NaN       NaN  \n",
       "5747    NaN       NaN       NaN  \n",
       "\n",
       "[1365 rows x 7 columns]"
      ]
     },
     "execution_count": 102,
     "metadata": {},
     "output_type": "execute_result"
    }
   ],
   "source": [
    "korsts[pd.isna(korsts.sentence1)]"
   ]
  },
  {
   "cell_type": "code",
   "execution_count": 182,
   "id": "37aef8cc-80a8-44e7-8819-68ebd6d15725",
   "metadata": {},
   "outputs": [
    {
     "name": "stdout",
     "output_type": "stream",
     "text": [
      "passed 0 values\n",
      "total : 5749\n"
     ]
    }
   ],
   "source": [
    "path = '/opt/ml/KorNLUDatasets/KorSTS/sts-train.tsv'\n",
    "kosrsts_train = read_tsv_custom(path).rename(columns={'sentence1':'sent_a', 'sentence2':'sent_b', 'score': 'labels'})"
   ]
  },
  {
   "cell_type": "code",
   "execution_count": 183,
   "id": "635d01ed-53e9-4224-bb47-5e744813ff19",
   "metadata": {},
   "outputs": [],
   "source": [
    "kosrsts_train.to_csv(os.path.join(base_path, 'korSTS_train.csv'))"
   ]
  },
  {
   "cell_type": "code",
   "execution_count": 154,
   "id": "f0e1ccb0-aadd-4727-a88a-b11e04d11f76",
   "metadata": {},
   "outputs": [],
   "source": [
    "# 에러 무시하는 경우\n",
    "#korsts_test = pd.read_table('/opt/ml/KorNLUDatasets/KorSTS/sts-dev.tsv',error_bad_lines=False)\n",
    "# len(korsts_test)"
   ]
  },
  {
   "cell_type": "code",
   "execution_count": 83,
   "id": "743f6af6-300c-4d90-90d0-e744c606a927",
   "metadata": {},
   "outputs": [],
   "source": [
    "def read_tsv_custom(path='/opt/ml/KorNLUDatasets/KorSTS/sts-dev.tsv'):\n",
    "    column_names = {\"genre\":0, \"filename\":1, \"year\":2, \"id\":3, \"score\":4, \"sentence1\":5, \"sentence2\":6}\n",
    "    lines = {v:[] for k,v in column_names.items()}\n",
    "    check_idx = []\n",
    "    with open(path, 'r') as f:\n",
    "        for idx, line in enumerate(f):\n",
    "            if idx != 0:\n",
    "                line_val = line.rstrip().split('\\t')\n",
    "                if len(line_val) != 7:\n",
    "                    check_idx.append(idx)\n",
    "                else:\n",
    "                    for idx, val in enumerate(line_val):\n",
    "                        lines[idx].append(val)\n",
    "    new_df = pd.DataFrame(lines)\n",
    "    new_df = new_df.rename(columns={v:k for k,v in column_names.items()})\n",
    "    print(f'passed {len(check_idx)} values')\n",
    "    print(f'total : {len(new_df)}') \n",
    "    return new_df"
   ]
  },
  {
   "cell_type": "code",
   "execution_count": 179,
   "id": "e3a1bc03-6e5c-48ac-a645-30371b5fab4f",
   "metadata": {},
   "outputs": [
    {
     "name": "stdout",
     "output_type": "stream",
     "text": [
      "passed 0 values\n",
      "total : 1500\n"
     ]
    }
   ],
   "source": [
    "korsts_dev = read_tsv_custom(path='/opt/ml/KorNLUDatasets/KorSTS/sts-dev.tsv')"
   ]
  },
  {
   "cell_type": "code",
   "execution_count": 180,
   "id": "3a059cf9-f9e1-44c8-a36b-6292cc05e372",
   "metadata": {},
   "outputs": [
    {
     "data": {
      "text/html": [
       "<div>\n",
       "<style scoped>\n",
       "    .dataframe tbody tr th:only-of-type {\n",
       "        vertical-align: middle;\n",
       "    }\n",
       "\n",
       "    .dataframe tbody tr th {\n",
       "        vertical-align: top;\n",
       "    }\n",
       "\n",
       "    .dataframe thead th {\n",
       "        text-align: right;\n",
       "    }\n",
       "</style>\n",
       "<table border=\"1\" class=\"dataframe\">\n",
       "  <thead>\n",
       "    <tr style=\"text-align: right;\">\n",
       "      <th></th>\n",
       "      <th>genre</th>\n",
       "      <th>filename</th>\n",
       "      <th>year</th>\n",
       "      <th>id</th>\n",
       "      <th>labels</th>\n",
       "      <th>sent_a</th>\n",
       "      <th>sent_b</th>\n",
       "    </tr>\n",
       "  </thead>\n",
       "  <tbody>\n",
       "    <tr>\n",
       "      <th>0</th>\n",
       "      <td>main-captions</td>\n",
       "      <td>MSRvid</td>\n",
       "      <td>2012test</td>\n",
       "      <td>0000</td>\n",
       "      <td>5.000</td>\n",
       "      <td>안전모를 가진 한 남자가 춤을 추고 있다.</td>\n",
       "      <td>안전모를 쓴 한 남자가 춤을 추고 있다.</td>\n",
       "    </tr>\n",
       "    <tr>\n",
       "      <th>1</th>\n",
       "      <td>main-captions</td>\n",
       "      <td>MSRvid</td>\n",
       "      <td>2012test</td>\n",
       "      <td>0002</td>\n",
       "      <td>4.750</td>\n",
       "      <td>어린아이가 말을 타고 있다.</td>\n",
       "      <td>아이가 말을 타고 있다.</td>\n",
       "    </tr>\n",
       "    <tr>\n",
       "      <th>2</th>\n",
       "      <td>main-captions</td>\n",
       "      <td>MSRvid</td>\n",
       "      <td>2012test</td>\n",
       "      <td>0003</td>\n",
       "      <td>5.000</td>\n",
       "      <td>한 남자가 뱀에게 쥐를 먹이고 있다.</td>\n",
       "      <td>남자가 뱀에게 쥐를 먹이고 있다.</td>\n",
       "    </tr>\n",
       "    <tr>\n",
       "      <th>3</th>\n",
       "      <td>main-captions</td>\n",
       "      <td>MSRvid</td>\n",
       "      <td>2012test</td>\n",
       "      <td>0007</td>\n",
       "      <td>2.400</td>\n",
       "      <td>한 여성이 기타를 연주하고 있다.</td>\n",
       "      <td>한 남자가 기타를 치고 있다.</td>\n",
       "    </tr>\n",
       "    <tr>\n",
       "      <th>4</th>\n",
       "      <td>main-captions</td>\n",
       "      <td>MSRvid</td>\n",
       "      <td>2012test</td>\n",
       "      <td>0008</td>\n",
       "      <td>2.750</td>\n",
       "      <td>한 여성이 플루트를 연주하고 있다.</td>\n",
       "      <td>남자가 플루트를 연주하고 있다.</td>\n",
       "    </tr>\n",
       "    <tr>\n",
       "      <th>...</th>\n",
       "      <td>...</td>\n",
       "      <td>...</td>\n",
       "      <td>...</td>\n",
       "      <td>...</td>\n",
       "      <td>...</td>\n",
       "      <td>...</td>\n",
       "      <td>...</td>\n",
       "    </tr>\n",
       "    <tr>\n",
       "      <th>1495</th>\n",
       "      <td>main-news</td>\n",
       "      <td>headlines</td>\n",
       "      <td>2016</td>\n",
       "      <td>1283</td>\n",
       "      <td>2</td>\n",
       "      <td>과학자들은 화성에 물이 있다는 것을 증명한다</td>\n",
       "      <td>나사가 화성에서 물을 발견했습니까?</td>\n",
       "    </tr>\n",
       "    <tr>\n",
       "      <th>1496</th>\n",
       "      <td>main-news</td>\n",
       "      <td>headlines</td>\n",
       "      <td>2016</td>\n",
       "      <td>1434</td>\n",
       "      <td>0</td>\n",
       "      <td>프라나브는 국가별 평화를 위해 노력해야 한다고 강조한다.</td>\n",
       "      <td>세계보건기구 : 인도, 선진국들의 행동을 후회하다</td>\n",
       "    </tr>\n",
       "    <tr>\n",
       "      <th>1497</th>\n",
       "      <td>main-news</td>\n",
       "      <td>headlines</td>\n",
       "      <td>2016</td>\n",
       "      <td>1440</td>\n",
       "      <td>2</td>\n",
       "      <td>오염 스캔들로 인해 폭스바겐이 붉은색으로 미끄러졌다.</td>\n",
       "      <td>폭스바겐의 디젤 소유주들에 대한 호의의 제스처</td>\n",
       "    </tr>\n",
       "    <tr>\n",
       "      <th>1498</th>\n",
       "      <td>main-news</td>\n",
       "      <td>headlines</td>\n",
       "      <td>2016</td>\n",
       "      <td>1477</td>\n",
       "      <td>0</td>\n",
       "      <td>오바마가 옳다: 아프리카는 더 나은 리더십을 가질 자격이 있다</td>\n",
       "      <td>중기에 법무장관을 지명하기를 기다리는 오바마</td>\n",
       "    </tr>\n",
       "    <tr>\n",
       "      <th>1499</th>\n",
       "      <td>main-news</td>\n",
       "      <td>headlines</td>\n",
       "      <td>2016</td>\n",
       "      <td>1495</td>\n",
       "      <td>0</td>\n",
       "      <td>새로운 비디오는 우리에게 경찰관들이 정신적으로 아픈 사람을 때리는 것을 보여준다</td>\n",
       "      <td>도끼 공격으로 중상을 입은 뉴욕 경찰관</td>\n",
       "    </tr>\n",
       "  </tbody>\n",
       "</table>\n",
       "<p>1500 rows × 7 columns</p>\n",
       "</div>"
      ],
      "text/plain": [
       "              genre   filename      year    id labels  \\\n",
       "0     main-captions     MSRvid  2012test  0000  5.000   \n",
       "1     main-captions     MSRvid  2012test  0002  4.750   \n",
       "2     main-captions     MSRvid  2012test  0003  5.000   \n",
       "3     main-captions     MSRvid  2012test  0007  2.400   \n",
       "4     main-captions     MSRvid  2012test  0008  2.750   \n",
       "...             ...        ...       ...   ...    ...   \n",
       "1495      main-news  headlines      2016  1283      2   \n",
       "1496      main-news  headlines      2016  1434      0   \n",
       "1497      main-news  headlines      2016  1440      2   \n",
       "1498      main-news  headlines      2016  1477      0   \n",
       "1499      main-news  headlines      2016  1495      0   \n",
       "\n",
       "                                            sent_a  \\\n",
       "0                          안전모를 가진 한 남자가 춤을 추고 있다.   \n",
       "1                                  어린아이가 말을 타고 있다.   \n",
       "2                             한 남자가 뱀에게 쥐를 먹이고 있다.   \n",
       "3                               한 여성이 기타를 연주하고 있다.   \n",
       "4                              한 여성이 플루트를 연주하고 있다.   \n",
       "...                                            ...   \n",
       "1495                      과학자들은 화성에 물이 있다는 것을 증명한다   \n",
       "1496               프라나브는 국가별 평화를 위해 노력해야 한다고 강조한다.   \n",
       "1497                 오염 스캔들로 인해 폭스바겐이 붉은색으로 미끄러졌다.   \n",
       "1498            오바마가 옳다: 아프리카는 더 나은 리더십을 가질 자격이 있다   \n",
       "1499  새로운 비디오는 우리에게 경찰관들이 정신적으로 아픈 사람을 때리는 것을 보여준다   \n",
       "\n",
       "                           sent_b  \n",
       "0          안전모를 쓴 한 남자가 춤을 추고 있다.  \n",
       "1                   아이가 말을 타고 있다.  \n",
       "2              남자가 뱀에게 쥐를 먹이고 있다.  \n",
       "3                한 남자가 기타를 치고 있다.  \n",
       "4               남자가 플루트를 연주하고 있다.  \n",
       "...                           ...  \n",
       "1495          나사가 화성에서 물을 발견했습니까?  \n",
       "1496  세계보건기구 : 인도, 선진국들의 행동을 후회하다  \n",
       "1497    폭스바겐의 디젤 소유주들에 대한 호의의 제스처  \n",
       "1498     중기에 법무장관을 지명하기를 기다리는 오바마  \n",
       "1499        도끼 공격으로 중상을 입은 뉴욕 경찰관  \n",
       "\n",
       "[1500 rows x 7 columns]"
      ]
     },
     "execution_count": 180,
     "metadata": {},
     "output_type": "execute_result"
    }
   ],
   "source": [
    "korsts_dev = korsts_dev.rename(columns={'sentence1':'sent_a', 'sentence2':'sent_b', 'score': 'labels'})\n",
    "korsts_dev"
   ]
  },
  {
   "cell_type": "code",
   "execution_count": 181,
   "id": "99764d77-1adb-4c82-9376-dc3a1a662cc9",
   "metadata": {},
   "outputs": [],
   "source": [
    "korsts_dev.to_csv(os.path.join(base_path, 'korSTS_valid.csv'))"
   ]
  },
  {
   "cell_type": "code",
   "execution_count": 85,
   "id": "c055c5d5-96ec-4553-a2e6-c809e3dfb824",
   "metadata": {},
   "outputs": [],
   "source": [
    "## paraKQC"
   ]
  },
  {
   "cell_type": "code",
   "execution_count": 184,
   "id": "708a31e9-ef2d-4c5f-9b04-8ae6dcd798c1",
   "metadata": {},
   "outputs": [],
   "source": [
    "para = pd.read_csv('/opt/ml/projects/final-project-level3-nlp-03/data/train/para_kqc_sim_data_tunned.txt',\n",
    "                 sep='\\t',\n",
    "                 header=None).rename(columns={0:'sent_a', 1:'sent_b', 2: 'labels'})"
   ]
  },
  {
   "cell_type": "code",
   "execution_count": 187,
   "id": "5432d06d-9828-4a84-b7fe-39f5881f2951",
   "metadata": {},
   "outputs": [],
   "source": [
    "# para.head(30)"
   ]
  },
  {
   "cell_type": "code",
   "execution_count": 200,
   "id": "888f5539-335a-4956-910b-ef7be227630e",
   "metadata": {},
   "outputs": [
    {
     "name": "stdout",
     "output_type": "stream",
     "text": [
      "8991 9973\n"
     ]
    }
   ],
   "source": [
    "same_label = para[para.labels==1]\n",
    "diff_label = para[para.labels==0]\n",
    "print(len(same_label), len(diff_label))"
   ]
  },
  {
   "cell_type": "code",
   "execution_count": 201,
   "id": "36eb5b2e-4e8b-447b-85a9-fb1e71dbbd45",
   "metadata": {},
   "outputs": [],
   "source": [
    "same_len = int(len(same_label)*0.8)\n",
    "diff_len = int(len(diff_label)*0.8)"
   ]
  },
  {
   "cell_type": "code",
   "execution_count": 202,
   "id": "6e723822-91d1-476a-9870-c5f63f16bcff",
   "metadata": {},
   "outputs": [],
   "source": [
    "train_para = pd.concat([same_label.iloc[:same_len], diff_label.iloc[:diff_len]])\n",
    "valid_para = pd.concat([same_label.iloc[same_len:], diff_label.iloc[diff_len:]])"
   ]
  },
  {
   "cell_type": "code",
   "execution_count": 203,
   "id": "55a3ec77-6efa-4fcb-90ae-2e22bab6c234",
   "metadata": {},
   "outputs": [],
   "source": [
    "train_para = train_para.sample(frac=1).reset_index(drop=True)\n",
    "valid_para = valid_para.sample(frac=1).reset_index(drop=True)"
   ]
  },
  {
   "cell_type": "code",
   "execution_count": 204,
   "id": "45fb4f47-3845-4141-8bd5-e7782601561e",
   "metadata": {},
   "outputs": [],
   "source": [
    "# train_para = para.iloc[:15160]\n",
    "train_para.to_csv(os.path.join(base_path,'paraKQC_train.csv'))"
   ]
  },
  {
   "cell_type": "code",
   "execution_count": 205,
   "id": "508b15da-10c5-40c9-a3fb-ec3bc37f7c4b",
   "metadata": {},
   "outputs": [],
   "source": [
    "# train_para = para.iloc[15160:]\n",
    "valid_para.to_csv(os.path.join(base_path,'paraKQC_valid.csv'))"
   ]
  },
  {
   "cell_type": "code",
   "execution_count": 206,
   "id": "c0e69ead-ac77-4a65-9dcb-6563d683d088",
   "metadata": {},
   "outputs": [
    {
     "data": {
      "text/html": [
       "<div>\n",
       "<style scoped>\n",
       "    .dataframe tbody tr th:only-of-type {\n",
       "        vertical-align: middle;\n",
       "    }\n",
       "\n",
       "    .dataframe tbody tr th {\n",
       "        vertical-align: top;\n",
       "    }\n",
       "\n",
       "    .dataframe thead th {\n",
       "        text-align: right;\n",
       "    }\n",
       "</style>\n",
       "<table border=\"1\" class=\"dataframe\">\n",
       "  <thead>\n",
       "    <tr style=\"text-align: right;\">\n",
       "      <th></th>\n",
       "      <th>sent_a</th>\n",
       "      <th>sent_b</th>\n",
       "      <th>labels</th>\n",
       "    </tr>\n",
       "  </thead>\n",
       "  <tbody>\n",
       "    <tr>\n",
       "      <th>0</th>\n",
       "      <td>주말에 약속 잡을 거면 오전 말고 오후에 잡아.</td>\n",
       "      <td>회사 출장을 잊지말고 고려해서 약속을 잡아라.</td>\n",
       "      <td>0</td>\n",
       "    </tr>\n",
       "    <tr>\n",
       "      <th>1</th>\n",
       "      <td>진에어에서 온 광고 메일 말고 결제메일은 꼭 저장해놔.</td>\n",
       "      <td>진에어에서 온 결제메일은 삭제하지 않고 저장하는게 좋아.</td>\n",
       "      <td>1</td>\n",
       "    </tr>\n",
       "    <tr>\n",
       "      <th>2</th>\n",
       "      <td>급한 연락은 메일보다 전화로 합시다.</td>\n",
       "      <td>회사 출장을 잊지말고 고려해서 약속을 잡아라.</td>\n",
       "      <td>0</td>\n",
       "    </tr>\n",
       "    <tr>\n",
       "      <th>3</th>\n",
       "      <td>비 올 때 빨래하면 그냥 두지 말고 건조기를 쓰자.</td>\n",
       "      <td>비 올 때 빨래하는 경우 그대로 두지 말고 건조기를 사용할 것을 권합니다.</td>\n",
       "      <td>1</td>\n",
       "    </tr>\n",
       "    <tr>\n",
       "      <th>4</th>\n",
       "      <td>공부할때말고 잘때는 클래식 곡 듣는게 어때?</td>\n",
       "      <td>믹서기 말고 가스레인지를 써보는 건 어때?</td>\n",
       "      <td>0</td>\n",
       "    </tr>\n",
       "    <tr>\n",
       "      <th>...</th>\n",
       "      <td>...</td>\n",
       "      <td>...</td>\n",
       "      <td>...</td>\n",
       "    </tr>\n",
       "    <tr>\n",
       "      <th>3789</th>\n",
       "      <td>주말에 약속 잡을 거면 오전 말고 오후에 잡아.</td>\n",
       "      <td>저녁이니까 바쁘게 여러 약속을 하지 말고 하나만 잡아.</td>\n",
       "      <td>0</td>\n",
       "    </tr>\n",
       "    <tr>\n",
       "      <th>3790</th>\n",
       "      <td>대문말고 현관문 잠금장치 점검해야 되니까 업체 불러.</td>\n",
       "      <td>내일 반포 고수부지 자외선 지수 알려줘.</td>\n",
       "      <td>0</td>\n",
       "    </tr>\n",
       "    <tr>\n",
       "      <th>3791</th>\n",
       "      <td>리눅스 말고 윈도우를 설치하여 메일을 관리해주세요</td>\n",
       "      <td>윈도우를 설치하지 않으면 메일 관리가 어려울 수 있으니 꼭 윈도우를 설치하세요.</td>\n",
       "      <td>1</td>\n",
       "    </tr>\n",
       "    <tr>\n",
       "      <th>3792</th>\n",
       "      <td>가습기가 아니라 제습기를 사야지</td>\n",
       "      <td>집안 환기는 점심 말고 아침에 꼭 하자</td>\n",
       "      <td>0</td>\n",
       "    </tr>\n",
       "    <tr>\n",
       "      <th>3793</th>\n",
       "      <td>눈 올 때 쉬지말고 집 앞은 치우자.</td>\n",
       "      <td>아침엔 차가운 물말고 더운 물로 샤워하자.</td>\n",
       "      <td>0</td>\n",
       "    </tr>\n",
       "  </tbody>\n",
       "</table>\n",
       "<p>3794 rows × 3 columns</p>\n",
       "</div>"
      ],
      "text/plain": [
       "                              sent_a  \\\n",
       "0         주말에 약속 잡을 거면 오전 말고 오후에 잡아.   \n",
       "1     진에어에서 온 광고 메일 말고 결제메일은 꼭 저장해놔.   \n",
       "2               급한 연락은 메일보다 전화로 합시다.   \n",
       "3       비 올 때 빨래하면 그냥 두지 말고 건조기를 쓰자.   \n",
       "4           공부할때말고 잘때는 클래식 곡 듣는게 어때?   \n",
       "...                              ...   \n",
       "3789      주말에 약속 잡을 거면 오전 말고 오후에 잡아.   \n",
       "3790   대문말고 현관문 잠금장치 점검해야 되니까 업체 불러.   \n",
       "3791     리눅스 말고 윈도우를 설치하여 메일을 관리해주세요   \n",
       "3792               가습기가 아니라 제습기를 사야지   \n",
       "3793            눈 올 때 쉬지말고 집 앞은 치우자.   \n",
       "\n",
       "                                            sent_b  labels  \n",
       "0                        회사 출장을 잊지말고 고려해서 약속을 잡아라.       0  \n",
       "1                  진에어에서 온 결제메일은 삭제하지 않고 저장하는게 좋아.       1  \n",
       "2                        회사 출장을 잊지말고 고려해서 약속을 잡아라.       0  \n",
       "3        비 올 때 빨래하는 경우 그대로 두지 말고 건조기를 사용할 것을 권합니다.       1  \n",
       "4                          믹서기 말고 가스레인지를 써보는 건 어때?       0  \n",
       "...                                            ...     ...  \n",
       "3789                저녁이니까 바쁘게 여러 약속을 하지 말고 하나만 잡아.       0  \n",
       "3790                        내일 반포 고수부지 자외선 지수 알려줘.       0  \n",
       "3791  윈도우를 설치하지 않으면 메일 관리가 어려울 수 있으니 꼭 윈도우를 설치하세요.       1  \n",
       "3792                         집안 환기는 점심 말고 아침에 꼭 하자       0  \n",
       "3793                       아침엔 차가운 물말고 더운 물로 샤워하자.       0  \n",
       "\n",
       "[3794 rows x 3 columns]"
      ]
     },
     "execution_count": 206,
     "metadata": {},
     "output_type": "execute_result"
    }
   ],
   "source": [
    "valid_para"
   ]
  },
  {
   "cell_type": "code",
   "execution_count": 170,
   "id": "66fd5cdf-68da-4804-9636-ae8d379fad12",
   "metadata": {},
   "outputs": [
    {
     "data": {
      "text/plain": [
       "sent_a        교수님께 메일을 보낼 땐 서명을 넣지 마세요.\n",
       "sent_b    수강하는 학생이 보낸 메일은 지우지 않도록 해주세요.\n",
       "labels                                0\n",
       "Name: 15161, dtype: object"
      ]
     },
     "execution_count": 170,
     "metadata": {},
     "output_type": "execute_result"
    }
   ],
   "source": [
    "para.iloc[15161]"
   ]
  },
  {
   "cell_type": "code",
   "execution_count": 159,
   "id": "3cee86f2-edcd-4a84-a953-e254c7cbd6f4",
   "metadata": {},
   "outputs": [],
   "source": [
    "para.to_csv(os.path.join(base_path, 'paraKQC_all.csv'))"
   ]
  },
  {
   "cell_type": "code",
   "execution_count": 2,
   "id": "ba3775ae-e352-4eb5-a4d1-4a0d004bd8df",
   "metadata": {},
   "outputs": [],
   "source": [
    "korsentence = pd.read_csv('/opt/ml/projects/final-project-level3-nlp-03/data/train/kor-sentence.csv')"
   ]
  },
  {
   "cell_type": "code",
   "execution_count": 3,
   "id": "19fdbd32-d508-4272-ac66-77834d358d4b",
   "metadata": {},
   "outputs": [
    {
     "name": "stdout",
     "output_type": "stream",
     "text": [
      "26184 35036\n"
     ]
    }
   ],
   "source": [
    "same_label = korsentence[korsentence.labels==1]\n",
    "diff_label = korsentence[korsentence.labels==0]\n",
    "print(len(same_label), len(diff_label))"
   ]
  },
  {
   "cell_type": "code",
   "execution_count": 8,
   "id": "3e03a8b4-1337-49ab-b12a-7511114ccd6b",
   "metadata": {},
   "outputs": [],
   "source": [
    "same_len = 7500#int(len(same_label)*0.8)\n",
    "diff_len = 7500 #int(len(diff_label)*0.8)\n",
    "train_para = pd.concat([same_label.iloc[:same_len], diff_label.iloc[:diff_len]])\n",
    "valid_para = pd.concat([same_label.iloc[same_len:], diff_label.iloc[diff_len:]])\n",
    "train_para = train_para.sample(frac=1).reset_index(drop=True)\n",
    "valid_para = valid_para.sample(frac=1).reset_index(drop=True)"
   ]
  },
  {
   "cell_type": "code",
   "execution_count": 9,
   "id": "c6deddab-1c3d-4f97-95d9-1e6507254153",
   "metadata": {},
   "outputs": [],
   "source": [
    "base_path = '/opt/ml/projects/tunning_data'\n",
    "import os, sys\n",
    "train_para.to_csv(os.path.join(base_path, 'kor-sentence-truncated-train.csv'))"
   ]
  },
  {
   "cell_type": "code",
   "execution_count": 11,
   "id": "1f75f626-dbc0-40a6-92e2-2b1232a84c05",
   "metadata": {},
   "outputs": [
    {
     "data": {
      "text/plain": [
       "15000"
      ]
     },
     "execution_count": 11,
     "metadata": {},
     "output_type": "execute_result"
    }
   ],
   "source": [
    "len(train_para)"
   ]
  },
  {
   "cell_type": "code",
   "execution_count": 6,
   "id": "1c0cc93f-f270-4f3e-8ff4-72788ae5c155",
   "metadata": {},
   "outputs": [],
   "source": [
    "# korsentence.to_csv(os.path.join(base_path, 'kor-sentence-train.csv'))"
   ]
  },
  {
   "cell_type": "code",
   "execution_count": 10,
   "id": "8786b5e8-452d-4e14-a574-0b604575696b",
   "metadata": {},
   "outputs": [
    {
     "data": {
      "text/html": [
       "<div>\n",
       "<style scoped>\n",
       "    .dataframe tbody tr th:only-of-type {\n",
       "        vertical-align: middle;\n",
       "    }\n",
       "\n",
       "    .dataframe tbody tr th {\n",
       "        vertical-align: top;\n",
       "    }\n",
       "\n",
       "    .dataframe thead th {\n",
       "        text-align: right;\n",
       "    }\n",
       "</style>\n",
       "<table border=\"1\" class=\"dataframe\">\n",
       "  <thead>\n",
       "    <tr style=\"text-align: right;\">\n",
       "      <th></th>\n",
       "      <th>Unnamed: 0</th>\n",
       "      <th>sent_a</th>\n",
       "      <th>sent_b</th>\n",
       "      <th>labels</th>\n",
       "    </tr>\n",
       "  </thead>\n",
       "  <tbody>\n",
       "    <tr>\n",
       "      <th>0</th>\n",
       "      <td>9922</td>\n",
       "      <td>비행기에 자전거를 싣을 수 있나요??</td>\n",
       "      <td>비행기에 자전거 실을 수 있어요?</td>\n",
       "      <td>1</td>\n",
       "    </tr>\n",
       "    <tr>\n",
       "      <th>1</th>\n",
       "      <td>8763</td>\n",
       "      <td>헬륨가스를 마시면 목소리가 왜 바뀔까??</td>\n",
       "      <td>헬륨가스를 마시면 목소리가 변하는 이유는?</td>\n",
       "      <td>1</td>\n",
       "    </tr>\n",
       "    <tr>\n",
       "      <th>2</th>\n",
       "      <td>8315</td>\n",
       "      <td>앵무새가 사람처럼 말할 수 있는 원인은?</td>\n",
       "      <td>앵무새가 말할 수 있는이유</td>\n",
       "      <td>1</td>\n",
       "    </tr>\n",
       "    <tr>\n",
       "      <th>3</th>\n",
       "      <td>4360</td>\n",
       "      <td>우편번호와 사서함번호의 차이점이 뭔가요?</td>\n",
       "      <td>수령지와 우편번호 차이</td>\n",
       "      <td>0</td>\n",
       "    </tr>\n",
       "    <tr>\n",
       "      <th>4</th>\n",
       "      <td>13757</td>\n",
       "      <td>커피를 먹으면 머리가 나빠진다???</td>\n",
       "      <td>커피먹으면진짜머리가나빠질까?</td>\n",
       "      <td>1</td>\n",
       "    </tr>\n",
       "    <tr>\n",
       "      <th>5</th>\n",
       "      <td>13572</td>\n",
       "      <td>커피 크레마에 관하여</td>\n",
       "      <td>커피크레마</td>\n",
       "      <td>1</td>\n",
       "    </tr>\n",
       "    <tr>\n",
       "      <th>6</th>\n",
       "      <td>2439</td>\n",
       "      <td>나도 뽀샤시 해지고싶다!</td>\n",
       "      <td>와 나도 하고싶다</td>\n",
       "      <td>0</td>\n",
       "    </tr>\n",
       "    <tr>\n",
       "      <th>7</th>\n",
       "      <td>5134</td>\n",
       "      <td>라면은 기름기인데 왜 끓는 물에 넣어도 안터지나요??</td>\n",
       "      <td>라면스프넣으면 물이 막 끓는 이유가 궁금합니다.</td>\n",
       "      <td>0</td>\n",
       "    </tr>\n",
       "    <tr>\n",
       "      <th>8</th>\n",
       "      <td>8865</td>\n",
       "      <td>그리스 로마 신화는 왜 유명한가</td>\n",
       "      <td>그리스로마신화가 세계적으로 유명한 신화임에 불구하고 현재 그리스,이탈리아는 왜????</td>\n",
       "      <td>0</td>\n",
       "    </tr>\n",
       "    <tr>\n",
       "      <th>9</th>\n",
       "      <td>1343</td>\n",
       "      <td>왜밤에만잠이잘오죠?</td>\n",
       "      <td>따뜻하면 왜 잠이 올까요...?!</td>\n",
       "      <td>0</td>\n",
       "    </tr>\n",
       "  </tbody>\n",
       "</table>\n",
       "</div>"
      ],
      "text/plain": [
       "   Unnamed: 0                         sent_a  \\\n",
       "0        9922           비행기에 자전거를 싣을 수 있나요??   \n",
       "1        8763         헬륨가스를 마시면 목소리가 왜 바뀔까??   \n",
       "2        8315         앵무새가 사람처럼 말할 수 있는 원인은?   \n",
       "3        4360         우편번호와 사서함번호의 차이점이 뭔가요?   \n",
       "4       13757            커피를 먹으면 머리가 나빠진다???   \n",
       "5       13572                    커피 크레마에 관하여   \n",
       "6        2439                  나도 뽀샤시 해지고싶다!   \n",
       "7        5134  라면은 기름기인데 왜 끓는 물에 넣어도 안터지나요??   \n",
       "8        8865              그리스 로마 신화는 왜 유명한가   \n",
       "9        1343                     왜밤에만잠이잘오죠?   \n",
       "\n",
       "                                            sent_b  labels  \n",
       "0                               비행기에 자전거 실을 수 있어요?       1  \n",
       "1                          헬륨가스를 마시면 목소리가 변하는 이유는?       1  \n",
       "2                                   앵무새가 말할 수 있는이유       1  \n",
       "3                                     수령지와 우편번호 차이       0  \n",
       "4                                  커피먹으면진짜머리가나빠질까?       1  \n",
       "5                                            커피크레마       1  \n",
       "6                                        와 나도 하고싶다       0  \n",
       "7                       라면스프넣으면 물이 막 끓는 이유가 궁금합니다.       0  \n",
       "8  그리스로마신화가 세계적으로 유명한 신화임에 불구하고 현재 그리스,이탈리아는 왜????       0  \n",
       "9                               따뜻하면 왜 잠이 올까요...?!       0  "
      ]
     },
     "execution_count": 10,
     "metadata": {},
     "output_type": "execute_result"
    }
   ],
   "source": [
    "train_para.head(10)"
   ]
  },
  {
   "cell_type": "code",
   "execution_count": null,
   "id": "d1c90633-f17e-43b4-8414-b6526987551f",
   "metadata": {},
   "outputs": [],
   "source": []
  },
  {
   "cell_type": "code",
   "execution_count": 207,
   "id": "df704ff4-fb32-42f1-a97e-f4547659f359",
   "metadata": {},
   "outputs": [],
   "source": [
    "gen_data = pd.read_csv('/opt/ml/projects/final-project-level3-nlp-03/data_collection/gen_data_test_4.csv')"
   ]
  },
  {
   "cell_type": "code",
   "execution_count": 208,
   "id": "1b9c441c-4e39-4fb0-8be1-8cce50ef33dd",
   "metadata": {},
   "outputs": [],
   "source": [
    "base_path = '/opt/ml/projects/tunning_data'\n",
    "import os, sys"
   ]
  },
  {
   "cell_type": "code",
   "execution_count": 209,
   "id": "0c2f22cf-121b-414b-8b3d-54c53ac6b0dc",
   "metadata": {},
   "outputs": [],
   "source": [
    "gen_data.drop(columns='Unnamed: 0').to_csv(os.path.join(base_path, 'gen_all.csv'))"
   ]
  },
  {
   "cell_type": "code",
   "execution_count": null,
   "id": "cc7d1079-26aa-4f1e-aa0d-34e5e20bc015",
   "metadata": {},
   "outputs": [],
   "source": []
  },
  {
   "cell_type": "code",
   "execution_count": 211,
   "id": "67685fb2-ec7d-4005-b00f-edd142a70405",
   "metadata": {},
   "outputs": [],
   "source": [
    "# gen_data[:int(len(gen_data)*0.8)].tail(20)\n",
    "train_gen = gen_data.iloc[:14390]\n",
    "test_gen = gen_data.iloc[14390:]\n",
    "train_gen.to_csv(os.path.join(base_path, 'gen_v1_train.csv'))\n",
    "test_gen.to_csv(os.path.join(base_path, 'gen_v1_valid.csv'))"
   ]
  },
  {
   "cell_type": "code",
   "execution_count": 12,
   "id": "2af636af-2eb9-4796-a0a3-242637e45eda",
   "metadata": {},
   "outputs": [],
   "source": [
    "from datasets import load_dataset"
   ]
  },
  {
   "cell_type": "code",
   "execution_count": 13,
   "id": "691b1448-1247-48b7-9ee5-907b05396481",
   "metadata": {},
   "outputs": [
    {
     "name": "stderr",
     "output_type": "stream",
     "text": [
      "Reusing dataset klue (/opt/ml/.cache/huggingface/datasets/klue/sts/1.0.0/e0fc3bc3de3eb03be2c92d72fd04a60ecc71903f821619cb28ca0e1e29e4233e)\n"
     ]
    },
    {
     "data": {
      "application/vnd.jupyter.widget-view+json": {
       "model_id": "e2d82ae4a81742b1b4269bada3855c1e",
       "version_major": 2,
       "version_minor": 0
      },
      "text/plain": [
       "  0%|          | 0/2 [00:00<?, ?it/s]"
      ]
     },
     "metadata": {},
     "output_type": "display_data"
    }
   ],
   "source": [
    "dataset = load_dataset(\"klue\", \"sts\")"
   ]
  },
  {
   "cell_type": "code",
   "execution_count": 29,
   "id": "58b6dea8-5e0c-431a-bab1-d32caeea9d7f",
   "metadata": {},
   "outputs": [
    {
     "data": {
      "text/plain": [
       "DatasetDict({\n",
       "    train: Dataset({\n",
       "        features: ['guid', 'source', 'sentence1', 'sentence2', 'labels'],\n",
       "        num_rows: 11668\n",
       "    })\n",
       "    validation: Dataset({\n",
       "        features: ['guid', 'source', 'sentence1', 'sentence2', 'labels'],\n",
       "        num_rows: 519\n",
       "    })\n",
       "})"
      ]
     },
     "execution_count": 29,
     "metadata": {},
     "output_type": "execute_result"
    }
   ],
   "source": [
    "dataset"
   ]
  },
  {
   "cell_type": "code",
   "execution_count": 145,
   "id": "f82236a4-5e39-4fb4-bcb4-73df8780396f",
   "metadata": {},
   "outputs": [
    {
     "data": {
      "text/plain": [
       "{'guid': Value(dtype='string', id=None),\n",
       " 'source': Value(dtype='string', id=None),\n",
       " 'sentence1': Value(dtype='string', id=None),\n",
       " 'sentence2': Value(dtype='string', id=None),\n",
       " 'labels': {'label': Value(dtype='float64', id=None),\n",
       "  'real-label': Value(dtype='float64', id=None),\n",
       "  'binary-label': ClassLabel(num_classes=2, names=['negative', 'positive'], id=None)}}"
      ]
     },
     "execution_count": 145,
     "metadata": {},
     "output_type": "execute_result"
    }
   ],
   "source": [
    "dataset['train'].features"
   ]
  },
  {
   "cell_type": "code",
   "execution_count": 15,
   "id": "b58d0fe4-f986-4006-9c0d-7d05cf01204b",
   "metadata": {},
   "outputs": [
    {
     "data": {
      "text/plain": [
       "11668"
      ]
     },
     "execution_count": 15,
     "metadata": {},
     "output_type": "execute_result"
    }
   ],
   "source": [
    "len(dataset['train'])"
   ]
  },
  {
   "cell_type": "code",
   "execution_count": 30,
   "id": "dd98f508-f2a4-4200-a247-0ace6b75943d",
   "metadata": {},
   "outputs": [],
   "source": [
    "new_data= {'sent_a':[], 'sent_b':[], 'real_score':[], 'labels':[]}\n",
    "for idx in range(len(dataset['validation'])):         \n",
    "    data = dataset['train'][idx]\n",
    "    new_data['sent_a'].append(data['sentence1'])\n",
    "    new_data['sent_b'].append(data['sentence2'])\n",
    "    new_data['real_score'].append(data['labels']['real-label'])\n",
    "    new_data['labels'].append(data['labels']['binary-label'])"
   ]
  },
  {
   "cell_type": "code",
   "execution_count": 31,
   "id": "afe007ab-eb9f-4384-8542-1c93950d6f20",
   "metadata": {},
   "outputs": [],
   "source": [
    "new_df = pd.DataFrame(new_data)\n",
    "new_df.to_csv('/opt/ml/projects/tunning_data/klueSTS_valid.csv')"
   ]
  },
  {
   "cell_type": "code",
   "execution_count": 32,
   "id": "8e4cf03b-a901-4a94-84ef-1c9875572b4d",
   "metadata": {},
   "outputs": [
    {
     "name": "stdout",
     "output_type": "stream",
     "text": [
      "Downloading and preparing dataset klue/mrc (download: 18.33 MiB, generated: 59.21 MiB, post-processed: Unknown size, total: 77.54 MiB) to /opt/ml/.cache/huggingface/datasets/klue/mrc/1.0.0/e0fc3bc3de3eb03be2c92d72fd04a60ecc71903f821619cb28ca0e1e29e4233e...\n"
     ]
    },
    {
     "data": {
      "application/vnd.jupyter.widget-view+json": {
       "model_id": "557d0b956b804291a695986c59647967",
       "version_major": 2,
       "version_minor": 0
      },
      "text/plain": [
       "Downloading data:   0%|          | 0.00/19.2M [00:00<?, ?B/s]"
      ]
     },
     "metadata": {},
     "output_type": "display_data"
    },
    {
     "data": {
      "application/vnd.jupyter.widget-view+json": {
       "model_id": "",
       "version_major": 2,
       "version_minor": 0
      },
      "text/plain": [
       "Generating train split:   0%|          | 0/17554 [00:00<?, ? examples/s]"
      ]
     },
     "metadata": {},
     "output_type": "display_data"
    },
    {
     "data": {
      "application/vnd.jupyter.widget-view+json": {
       "model_id": "",
       "version_major": 2,
       "version_minor": 0
      },
      "text/plain": [
       "Generating validation split:   0%|          | 0/5841 [00:00<?, ? examples/s]"
      ]
     },
     "metadata": {},
     "output_type": "display_data"
    },
    {
     "name": "stdout",
     "output_type": "stream",
     "text": [
      "Dataset klue downloaded and prepared to /opt/ml/.cache/huggingface/datasets/klue/mrc/1.0.0/e0fc3bc3de3eb03be2c92d72fd04a60ecc71903f821619cb28ca0e1e29e4233e. Subsequent calls will reuse this data.\n"
     ]
    },
    {
     "data": {
      "application/vnd.jupyter.widget-view+json": {
       "model_id": "2f3629a644444178825b7d5604ecfc11",
       "version_major": 2,
       "version_minor": 0
      },
      "text/plain": [
       "  0%|          | 0/2 [00:00<?, ?it/s]"
      ]
     },
     "metadata": {},
     "output_type": "display_data"
    }
   ],
   "source": [
    "mrc_dataset = load_dataset(\"klue\", \"mrc\")"
   ]
  },
  {
   "cell_type": "code",
   "execution_count": 35,
   "id": "fd96da3f-6dda-4144-adea-38e1e89aa43d",
   "metadata": {},
   "outputs": [
    {
     "data": {
      "text/plain": [
       "17554"
      ]
     },
     "execution_count": 35,
     "metadata": {},
     "output_type": "execute_result"
    }
   ],
   "source": [
    "len(mrc_dataset['train']['context'])"
   ]
  },
  {
   "cell_type": "code",
   "execution_count": null,
   "id": "cd4b071c-5396-4460-bb21-0c7a10330f11",
   "metadata": {},
   "outputs": [],
   "source": []
  }
 ],
 "metadata": {
  "kernelspec": {
   "display_name": "Python 3 (ipykernel)",
   "language": "python",
   "name": "python3"
  },
  "language_info": {
   "codemirror_mode": {
    "name": "ipython",
    "version": 3
   },
   "file_extension": ".py",
   "mimetype": "text/x-python",
   "name": "python",
   "nbconvert_exporter": "python",
   "pygments_lexer": "ipython3",
   "version": "3.8.5"
  }
 },
 "nbformat": 4,
 "nbformat_minor": 5
}
