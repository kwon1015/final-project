{
 "cells": [
  {
   "cell_type": "code",
   "execution_count": 3,
   "id": "9f287a43",
   "metadata": {},
   "outputs": [
    {
     "data": {
      "text/plain": [
       "['고급스러운 합성가죽 고급스러움이 느껴지는 가죽으로 이물질이 묻어도 쉽게 제거가 가능하며, 정교한 박음질로 마감처리 되었습니다',\n",
       " ' 사이드 지퍼와 밴딩처리 사이드 안쪽에는 지퍼형태로 신고벗기 편안하며, 겉 사이드에는 다이느 배디워미리 바에 마치즈 | IL고급스러운합성가죽고급스러움이느껴지는가죽으로이물질이묻어도쉽게제거가가능하며,정교한박음질로마감처리되었습니다',\n",
       " '사이드지퍼와밴딩처리사이드안쪽에는지퍼형태로신고벗기편안하며,겉사이드에는다이느배디워미리바에마치즈|IL']"
      ]
     },
     "execution_count": 3,
     "metadata": {},
     "output_type": "execute_result"
    }
   ],
   "source": [
    "import os\n",
    "import io\n",
    "import cv2\n",
    "from PIL import Image\n",
    "import pandas as pd\n",
    "import re\n",
    "\n",
    "# Imports the Google Cloud client library\n",
    "from google.cloud import vision\n",
    "from google.cloud.vision_v1 import types\n",
    "os.environ[\"GOOGLE_APPLICATION_CREDENTIALS\"] = \"intense-digit-361206-bca479014843.json\"\n",
    "# Instantiates a client\n",
    "client = vision.ImageAnnotatorClient()\n",
    "\n",
    "\n",
    "'''\n",
    "detect_text \n",
    "- Input : Image file path\n",
    "- Output : List containing all detected text on the image\n",
    "Google Vision API detects text from upper-left to lower-right.\n",
    "Basically, Return type is JSON. \n",
    "It has text box coordinate of upper left corner with height and width.\n",
    "But this function only returns the text in turn.\n",
    "'''\n",
    "def detect_text(path):\n",
    "    \"\"\"Detects text in the file.\"\"\"\n",
    "\n",
    "    # Google Vision API needs byte type data to use\n",
    "    # Read an image which you want to detect as binary type\n",
    "    with io.open(path, 'rb') as image_file:\n",
    "        content = image_file.read()\n",
    "\n",
    "    # Transform byte type to Image which Google Vision API supports\n",
    "    image = types.Image(content=content)\n",
    "    # Apply Google Vision API(client.text_detection)\n",
    "    response = client.text_detection(image=image)\n",
    "    # Extract detected text from response\n",
    "    texts = response.text_annotations\n",
    "\n",
    "    # Concatenate all detected text to a string\n",
    "    # Last text is useless. Accordingly, exclude it.\n",
    "    string = ''\n",
    "    l1=[]\n",
    "    for text in texts:\n",
    "        string +=text.description\n",
    "        \n",
    "\n",
    "    # Split the result string into list\n",
    "    ret = re.split('[.?!]',string)\n",
    "    for i in ret:\n",
    "        q=i.replace('\\n',' ')\n",
    "        l1.append(q)\n",
    "        \n",
    "        \n",
    "         \n",
    "    \n",
    "\n",
    "    return l1\n",
    "\n",
    "l=detect_text(\"img.jpg\")\n",
    "l\n"
   ]
  }
 ],
 "metadata": {
  "kernelspec": {
   "display_name": "Python 3 (ipykernel)",
   "language": "python",
   "name": "python3"
  },
  "language_info": {
   "codemirror_mode": {
    "name": "ipython",
    "version": 3
   },
   "file_extension": ".py",
   "mimetype": "text/x-python",
   "name": "python",
   "nbconvert_exporter": "python",
   "pygments_lexer": "ipython3",
   "version": "3.9.12"
  }
 },
 "nbformat": 4,
 "nbformat_minor": 5
}
