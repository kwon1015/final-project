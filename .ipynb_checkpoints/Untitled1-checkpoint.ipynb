{
 "cells": [
  {
   "cell_type": "code",
   "execution_count": 30,
   "id": "be37c516",
   "metadata": {},
   "outputs": [
    {
     "ename": "UnknownExtra",
     "evalue": "googleapis-common-protos 1.53.0 has no such extra feature 'grpc'",
     "output_type": "error",
     "traceback": [
      "\u001b[1;31m---------------------------------------------------------------------------\u001b[0m",
      "\u001b[1;31mKeyError\u001b[0m                                  Traceback (most recent call last)",
      "File \u001b[1;32mG:\\anaconda\\lib\\site-packages\\pkg_resources\\__init__.py:2747\u001b[0m, in \u001b[0;36mDistribution.requires\u001b[1;34m(self, extras)\u001b[0m\n\u001b[0;32m   2746\u001b[0m \u001b[38;5;28;01mtry\u001b[39;00m:\n\u001b[1;32m-> 2747\u001b[0m     deps\u001b[38;5;241m.\u001b[39mextend(\u001b[43mdm\u001b[49m\u001b[43m[\u001b[49m\u001b[43msafe_extra\u001b[49m\u001b[43m(\u001b[49m\u001b[43mext\u001b[49m\u001b[43m)\u001b[49m\u001b[43m]\u001b[49m)\n\u001b[0;32m   2748\u001b[0m \u001b[38;5;28;01mexcept\u001b[39;00m \u001b[38;5;167;01mKeyError\u001b[39;00m \u001b[38;5;28;01mas\u001b[39;00m e:\n",
      "\u001b[1;31mKeyError\u001b[0m: 'grpc'",
      "\nThe above exception was the direct cause of the following exception:\n",
      "\u001b[1;31mUnknownExtra\u001b[0m                              Traceback (most recent call last)",
      "Input \u001b[1;32mIn [30]\u001b[0m, in \u001b[0;36m<cell line: 5>\u001b[1;34m()\u001b[0m\n\u001b[0;32m      2\u001b[0m \u001b[38;5;28;01mimport\u001b[39;00m \u001b[38;5;21;01mcv2\u001b[39;00m\n\u001b[0;32m      4\u001b[0m \u001b[38;5;66;03m# Imports the Google Cloud client library\u001b[39;00m\n\u001b[1;32m----> 5\u001b[0m \u001b[38;5;28;01mfrom\u001b[39;00m \u001b[38;5;21;01mgoogle\u001b[39;00m\u001b[38;5;21;01m.\u001b[39;00m\u001b[38;5;21;01mcloud\u001b[39;00m \u001b[38;5;28;01mimport\u001b[39;00m vision\n\u001b[0;32m      6\u001b[0m \u001b[38;5;28;01mfrom\u001b[39;00m \u001b[38;5;21;01mgoogle\u001b[39;00m\u001b[38;5;21;01m.\u001b[39;00m\u001b[38;5;21;01mcloud\u001b[39;00m\u001b[38;5;21;01m.\u001b[39;00m\u001b[38;5;21;01mvision\u001b[39;00m \u001b[38;5;28;01mimport\u001b[39;00m types\n\u001b[0;32m      8\u001b[0m \u001b[38;5;66;03m# Instantiates a client\u001b[39;00m\n",
      "File \u001b[1;32mG:\\anaconda\\lib\\site-packages\\google\\cloud\\vision.py:18\u001b[0m, in \u001b[0;36m<module>\u001b[1;34m\u001b[0m\n\u001b[0;32m     15\u001b[0m \u001b[38;5;28;01mfrom\u001b[39;00m \u001b[38;5;21;01m__future__\u001b[39;00m \u001b[38;5;28;01mimport\u001b[39;00m absolute_import\n\u001b[0;32m     17\u001b[0m \u001b[38;5;28;01mfrom\u001b[39;00m \u001b[38;5;21;01mpkg_resources\u001b[39;00m \u001b[38;5;28;01mimport\u001b[39;00m get_distribution\n\u001b[1;32m---> 18\u001b[0m __version__ \u001b[38;5;241m=\u001b[39m \u001b[43mget_distribution\u001b[49m\u001b[43m(\u001b[49m\u001b[38;5;124;43m'\u001b[39;49m\u001b[38;5;124;43mgoogle-cloud-vision\u001b[39;49m\u001b[38;5;124;43m'\u001b[39;49m\u001b[43m)\u001b[49m\u001b[38;5;241m.\u001b[39mversion\n\u001b[0;32m     20\u001b[0m \u001b[38;5;28;01mfrom\u001b[39;00m \u001b[38;5;21;01mgoogle\u001b[39;00m\u001b[38;5;21;01m.\u001b[39;00m\u001b[38;5;21;01mcloud\u001b[39;00m\u001b[38;5;21;01m.\u001b[39;00m\u001b[38;5;21;01mvision_v1\u001b[39;00m \u001b[38;5;28;01mimport\u001b[39;00m enums\n\u001b[0;32m     21\u001b[0m \u001b[38;5;28;01mfrom\u001b[39;00m \u001b[38;5;21;01mgoogle\u001b[39;00m\u001b[38;5;21;01m.\u001b[39;00m\u001b[38;5;21;01mcloud\u001b[39;00m\u001b[38;5;21;01m.\u001b[39;00m\u001b[38;5;21;01mvision_v1\u001b[39;00m \u001b[38;5;28;01mimport\u001b[39;00m ImageAnnotatorClient\n",
      "File \u001b[1;32mG:\\anaconda\\lib\\site-packages\\pkg_resources\\__init__.py:477\u001b[0m, in \u001b[0;36mget_distribution\u001b[1;34m(dist)\u001b[0m\n\u001b[0;32m    475\u001b[0m     dist \u001b[38;5;241m=\u001b[39m Requirement\u001b[38;5;241m.\u001b[39mparse(dist)\n\u001b[0;32m    476\u001b[0m \u001b[38;5;28;01mif\u001b[39;00m \u001b[38;5;28misinstance\u001b[39m(dist, Requirement):\n\u001b[1;32m--> 477\u001b[0m     dist \u001b[38;5;241m=\u001b[39m \u001b[43mget_provider\u001b[49m\u001b[43m(\u001b[49m\u001b[43mdist\u001b[49m\u001b[43m)\u001b[49m\n\u001b[0;32m    478\u001b[0m \u001b[38;5;28;01mif\u001b[39;00m \u001b[38;5;129;01mnot\u001b[39;00m \u001b[38;5;28misinstance\u001b[39m(dist, Distribution):\n\u001b[0;32m    479\u001b[0m     \u001b[38;5;28;01mraise\u001b[39;00m \u001b[38;5;167;01mTypeError\u001b[39;00m(\u001b[38;5;124m\"\u001b[39m\u001b[38;5;124mExpected string, Requirement, or Distribution\u001b[39m\u001b[38;5;124m\"\u001b[39m, dist)\n",
      "File \u001b[1;32mG:\\anaconda\\lib\\site-packages\\pkg_resources\\__init__.py:353\u001b[0m, in \u001b[0;36mget_provider\u001b[1;34m(moduleOrReq)\u001b[0m\n\u001b[0;32m    351\u001b[0m \u001b[38;5;124;03m\"\"\"Return an IResourceProvider for the named module or requirement\"\"\"\u001b[39;00m\n\u001b[0;32m    352\u001b[0m \u001b[38;5;28;01mif\u001b[39;00m \u001b[38;5;28misinstance\u001b[39m(moduleOrReq, Requirement):\n\u001b[1;32m--> 353\u001b[0m     \u001b[38;5;28;01mreturn\u001b[39;00m working_set\u001b[38;5;241m.\u001b[39mfind(moduleOrReq) \u001b[38;5;129;01mor\u001b[39;00m \u001b[43mrequire\u001b[49m\u001b[43m(\u001b[49m\u001b[38;5;28;43mstr\u001b[39;49m\u001b[43m(\u001b[49m\u001b[43mmoduleOrReq\u001b[49m\u001b[43m)\u001b[49m\u001b[43m)\u001b[49m[\u001b[38;5;241m0\u001b[39m]\n\u001b[0;32m    354\u001b[0m \u001b[38;5;28;01mtry\u001b[39;00m:\n\u001b[0;32m    355\u001b[0m     module \u001b[38;5;241m=\u001b[39m sys\u001b[38;5;241m.\u001b[39mmodules[moduleOrReq]\n",
      "File \u001b[1;32mG:\\anaconda\\lib\\site-packages\\pkg_resources\\__init__.py:897\u001b[0m, in \u001b[0;36mWorkingSet.require\u001b[1;34m(self, *requirements)\u001b[0m\n\u001b[0;32m    888\u001b[0m \u001b[38;5;28;01mdef\u001b[39;00m \u001b[38;5;21mrequire\u001b[39m(\u001b[38;5;28mself\u001b[39m, \u001b[38;5;241m*\u001b[39mrequirements):\n\u001b[0;32m    889\u001b[0m     \u001b[38;5;124;03m\"\"\"Ensure that distributions matching `requirements` are activated\u001b[39;00m\n\u001b[0;32m    890\u001b[0m \n\u001b[0;32m    891\u001b[0m \u001b[38;5;124;03m    `requirements` must be a string or a (possibly-nested) sequence\u001b[39;00m\n\u001b[1;32m   (...)\u001b[0m\n\u001b[0;32m    895\u001b[0m \u001b[38;5;124;03m    included, even if they were already activated in this working set.\u001b[39;00m\n\u001b[0;32m    896\u001b[0m \u001b[38;5;124;03m    \"\"\"\u001b[39;00m\n\u001b[1;32m--> 897\u001b[0m     needed \u001b[38;5;241m=\u001b[39m \u001b[38;5;28;43mself\u001b[39;49m\u001b[38;5;241;43m.\u001b[39;49m\u001b[43mresolve\u001b[49m\u001b[43m(\u001b[49m\u001b[43mparse_requirements\u001b[49m\u001b[43m(\u001b[49m\u001b[43mrequirements\u001b[49m\u001b[43m)\u001b[49m\u001b[43m)\u001b[49m\n\u001b[0;32m    899\u001b[0m     \u001b[38;5;28;01mfor\u001b[39;00m dist \u001b[38;5;129;01min\u001b[39;00m needed:\n\u001b[0;32m    900\u001b[0m         \u001b[38;5;28mself\u001b[39m\u001b[38;5;241m.\u001b[39madd(dist)\n",
      "File \u001b[1;32mG:\\anaconda\\lib\\site-packages\\pkg_resources\\__init__.py:791\u001b[0m, in \u001b[0;36mWorkingSet.resolve\u001b[1;34m(self, requirements, env, installer, replace_conflicting, extras)\u001b[0m\n\u001b[0;32m    788\u001b[0m     \u001b[38;5;28;01mraise\u001b[39;00m VersionConflict(dist, req)\u001b[38;5;241m.\u001b[39mwith_context(dependent_req)\n\u001b[0;32m    790\u001b[0m \u001b[38;5;66;03m# push the new requirements onto the stack\u001b[39;00m\n\u001b[1;32m--> 791\u001b[0m new_requirements \u001b[38;5;241m=\u001b[39m \u001b[43mdist\u001b[49m\u001b[38;5;241;43m.\u001b[39;49m\u001b[43mrequires\u001b[49m\u001b[43m(\u001b[49m\u001b[43mreq\u001b[49m\u001b[38;5;241;43m.\u001b[39;49m\u001b[43mextras\u001b[49m\u001b[43m)\u001b[49m[::\u001b[38;5;241m-\u001b[39m\u001b[38;5;241m1\u001b[39m]\n\u001b[0;32m    792\u001b[0m requirements\u001b[38;5;241m.\u001b[39mextend(new_requirements)\n\u001b[0;32m    794\u001b[0m \u001b[38;5;66;03m# Register the new requirements needed by req\u001b[39;00m\n",
      "File \u001b[1;32mG:\\anaconda\\lib\\site-packages\\pkg_resources\\__init__.py:2749\u001b[0m, in \u001b[0;36mDistribution.requires\u001b[1;34m(self, extras)\u001b[0m\n\u001b[0;32m   2747\u001b[0m         deps\u001b[38;5;241m.\u001b[39mextend(dm[safe_extra(ext)])\n\u001b[0;32m   2748\u001b[0m     \u001b[38;5;28;01mexcept\u001b[39;00m \u001b[38;5;167;01mKeyError\u001b[39;00m \u001b[38;5;28;01mas\u001b[39;00m e:\n\u001b[1;32m-> 2749\u001b[0m         \u001b[38;5;28;01mraise\u001b[39;00m UnknownExtra(\n\u001b[0;32m   2750\u001b[0m             \u001b[38;5;124m\"\u001b[39m\u001b[38;5;132;01m%s\u001b[39;00m\u001b[38;5;124m has no such extra feature \u001b[39m\u001b[38;5;132;01m%r\u001b[39;00m\u001b[38;5;124m\"\u001b[39m \u001b[38;5;241m%\u001b[39m (\u001b[38;5;28mself\u001b[39m, ext)\n\u001b[0;32m   2751\u001b[0m         ) \u001b[38;5;28;01mfrom\u001b[39;00m \u001b[38;5;21;01me\u001b[39;00m\n\u001b[0;32m   2752\u001b[0m \u001b[38;5;28;01mreturn\u001b[39;00m deps\n",
      "\u001b[1;31mUnknownExtra\u001b[0m: googleapis-common-protos 1.53.0 has no such extra feature 'grpc'"
     ]
    }
   ],
   "source": [
    "import io\n",
    "import cv2\n",
    "\n",
    "# Imports the Google Cloud client library\n",
    "from google.cloud import vision\n",
    "from google.cloud.vision import types\n",
    "\n",
    "# Instantiates a client\n",
    "client = vision.ImageAnnotatorClient()\n",
    "\n",
    "\n"
   ]
  },
  {
   "cell_type": "code",
   "execution_count": 32,
   "id": "c7924283",
   "metadata": {},
   "outputs": [
    {
     "name": "stdout",
     "output_type": "stream",
     "text": [
      "Requirement already satisfied: google-api-core in g:\\anaconda\\lib\\site-packages (0.1.4)\n",
      "Collecting google-api-core\n",
      "  Using cached google_api_core-2.8.2-py3-none-any.whl (114 kB)\n",
      "Requirement already satisfied: googleapis-common-protos<2.0dev,>=1.56.2 in g:\\anaconda\\lib\\site-packages (from google-api-core) (1.56.4)\n",
      "Requirement already satisfied: google-auth<3.0dev,>=1.25.0 in g:\\anaconda\\lib\\site-packages (from google-api-core) (1.33.0)\n",
      "Requirement already satisfied: requests<3.0.0dev,>=2.18.0 in g:\\anaconda\\lib\\site-packages (from google-api-core) (2.27.1)\n",
      "Requirement already satisfied: protobuf<5.0.0dev,>=3.15.0 in g:\\anaconda\\lib\\site-packages (from google-api-core) (3.19.1)\n",
      "Requirement already satisfied: rsa<5,>=3.1.4 in g:\\anaconda\\lib\\site-packages (from google-auth<3.0dev,>=1.25.0->google-api-core) (4.7.2)\n",
      "Requirement already satisfied: six>=1.9.0 in g:\\anaconda\\lib\\site-packages (from google-auth<3.0dev,>=1.25.0->google-api-core) (1.16.0)\n",
      "Requirement already satisfied: pyasn1-modules>=0.2.1 in g:\\anaconda\\lib\\site-packages (from google-auth<3.0dev,>=1.25.0->google-api-core) (0.2.8)\n",
      "Requirement already satisfied: setuptools>=40.3.0 in g:\\anaconda\\lib\\site-packages (from google-auth<3.0dev,>=1.25.0->google-api-core) (61.2.0)\n",
      "Requirement already satisfied: cachetools<5.0,>=2.0.0 in g:\\anaconda\\lib\\site-packages (from google-auth<3.0dev,>=1.25.0->google-api-core) (4.2.2)\n",
      "Requirement already satisfied: charset-normalizer~=2.0.0 in g:\\anaconda\\lib\\site-packages (from requests<3.0.0dev,>=2.18.0->google-api-core) (2.0.4)\n",
      "Requirement already satisfied: urllib3<1.27,>=1.21.1 in g:\\anaconda\\lib\\site-packages (from requests<3.0.0dev,>=2.18.0->google-api-core) (1.26.9)\n",
      "Requirement already satisfied: certifi>=2017.4.17 in g:\\anaconda\\lib\\site-packages (from requests<3.0.0dev,>=2.18.0->google-api-core) (2021.10.8)\n",
      "Requirement already satisfied: idna<4,>=2.5 in g:\\anaconda\\lib\\site-packages (from requests<3.0.0dev,>=2.18.0->google-api-core) (3.3)\n",
      "Requirement already satisfied: pyasn1<0.5.0,>=0.4.6 in g:\\anaconda\\lib\\site-packages (from pyasn1-modules>=0.2.1->google-auth<3.0dev,>=1.25.0->google-api-core) (0.4.8)\n",
      "Installing collected packages: google-api-core\n",
      "  Attempting uninstall: google-api-core\n",
      "    Found existing installation: google-api-core 0.1.4\n",
      "    Uninstalling google-api-core-0.1.4:\n",
      "      Successfully uninstalled google-api-core-0.1.4\n",
      "Successfully installed google-api-core-2.8.2\n",
      "Note: you may need to restart the kernel to use updated packages.\n"
     ]
    },
    {
     "name": "stderr",
     "output_type": "stream",
     "text": [
      "ERROR: pip's dependency resolver does not currently take into account all the packages that are installed. This behaviour is the source of the following dependency conflicts.\n",
      "google-cloud-vision 0.29.0 requires google-api-core<0.2.0dev,>=0.1.0, but you have google-api-core 2.8.2 which is incompatible.\n",
      "google-cloud-core 1.7.1 requires google-api-core<2.0.0dev,>=1.21.0, but you have google-api-core 2.8.2 which is incompatible.\n"
     ]
    }
   ],
   "source": [
    "pip install --upgrade google-api-core"
   ]
  },
  {
   "cell_type": "code",
   "execution_count": 28,
   "id": "34109714",
   "metadata": {},
   "outputs": [
    {
     "name": "stdout",
     "output_type": "stream",
     "text": [
      "Requirement already satisfied: googleapis-common-protos in g:\\anaconda\\lib\\site-packages (1.53.0)\n",
      "Collecting googleapis-common-protos\n",
      "  Using cached googleapis_common_protos-1.56.4-py2.py3-none-any.whl (211 kB)\n",
      "Requirement already satisfied: protobuf<5.0.0dev,>=3.15.0 in g:\\anaconda\\lib\\site-packages (from googleapis-common-protos) (3.19.1)\n",
      "Installing collected packages: googleapis-common-protos\n",
      "  Attempting uninstall: googleapis-common-protos\n",
      "    Found existing installation: googleapis-common-protos 1.53.0\n",
      "    Uninstalling googleapis-common-protos-1.53.0:\n",
      "      Successfully uninstalled googleapis-common-protos-1.53.0\n",
      "Successfully installed googleapis-common-protos-1.56.4\n",
      "Note: you may need to restart the kernel to use updated packages.\n"
     ]
    }
   ],
   "source": [
    "pip install --upgrade googleapis-common-protos"
   ]
  },
  {
   "cell_type": "code",
   "execution_count": 13,
   "id": "2c14d67c",
   "metadata": {},
   "outputs": [
    {
     "name": "stdout",
     "output_type": "stream",
     "text": [
      "Collecting google-cloud-vision==2.0.0\n",
      "  Downloading google_cloud_vision-2.0.0-py2.py3-none-any.whl (450 kB)\n",
      "Collecting google-api-core[grpc]<2.0.0dev,>=1.22.2\n",
      "  Downloading google_api_core-1.32.0-py2.py3-none-any.whl (93 kB)\n",
      "Collecting libcst>=0.2.5\n",
      "  Downloading libcst-0.4.7-cp39-cp39-win_amd64.whl (1.8 MB)\n",
      "Requirement already satisfied: proto-plus>=1.4.0 in g:\\anaconda\\lib\\site-packages (from google-cloud-vision==2.0.0) (1.22.1)\n",
      "Requirement already satisfied: pytz in g:\\anaconda\\lib\\site-packages (from google-api-core[grpc]<2.0.0dev,>=1.22.2->google-cloud-vision==2.0.0) (2021.3)\n",
      "Requirement already satisfied: googleapis-common-protos<2.0dev,>=1.6.0 in g:\\anaconda\\lib\\site-packages (from google-api-core[grpc]<2.0.0dev,>=1.22.2->google-cloud-vision==2.0.0) (1.56.4)\n",
      "Requirement already satisfied: requests<3.0.0dev,>=2.18.0 in g:\\anaconda\\lib\\site-packages (from google-api-core[grpc]<2.0.0dev,>=1.22.2->google-cloud-vision==2.0.0) (2.27.1)\n",
      "Requirement already satisfied: setuptools>=40.3.0 in g:\\anaconda\\lib\\site-packages (from google-api-core[grpc]<2.0.0dev,>=1.22.2->google-cloud-vision==2.0.0) (61.2.0)\n",
      "Requirement already satisfied: google-auth<2.0dev,>=1.25.0 in g:\\anaconda\\lib\\site-packages (from google-api-core[grpc]<2.0.0dev,>=1.22.2->google-cloud-vision==2.0.0) (1.33.0)\n",
      "Requirement already satisfied: protobuf<4.0.0dev,>=3.12.0 in g:\\anaconda\\lib\\site-packages (from google-api-core[grpc]<2.0.0dev,>=1.22.2->google-cloud-vision==2.0.0) (3.19.1)\n",
      "Requirement already satisfied: packaging>=14.3 in g:\\anaconda\\lib\\site-packages (from google-api-core[grpc]<2.0.0dev,>=1.22.2->google-cloud-vision==2.0.0) (21.3)\n",
      "Requirement already satisfied: six>=1.13.0 in g:\\anaconda\\lib\\site-packages (from google-api-core[grpc]<2.0.0dev,>=1.22.2->google-cloud-vision==2.0.0) (1.16.0)\n",
      "Requirement already satisfied: grpcio<2.0dev,>=1.29.0 in g:\\anaconda\\lib\\site-packages (from google-api-core[grpc]<2.0.0dev,>=1.22.2->google-cloud-vision==2.0.0) (1.47.0)\n",
      "Requirement already satisfied: pyasn1-modules>=0.2.1 in g:\\anaconda\\lib\\site-packages (from google-auth<2.0dev,>=1.25.0->google-api-core[grpc]<2.0.0dev,>=1.22.2->google-cloud-vision==2.0.0) (0.2.8)\n",
      "Requirement already satisfied: cachetools<5.0,>=2.0.0 in g:\\anaconda\\lib\\site-packages (from google-auth<2.0dev,>=1.25.0->google-api-core[grpc]<2.0.0dev,>=1.22.2->google-cloud-vision==2.0.0) (4.2.2)\n",
      "Requirement already satisfied: rsa<5,>=3.1.4 in g:\\anaconda\\lib\\site-packages (from google-auth<2.0dev,>=1.25.0->google-api-core[grpc]<2.0.0dev,>=1.22.2->google-cloud-vision==2.0.0) (4.7.2)\n",
      "Collecting typing-inspect>=0.4.0\n",
      "  Downloading typing_inspect-0.8.0-py3-none-any.whl (8.7 kB)\n",
      "Requirement already satisfied: pyyaml>=5.2 in g:\\anaconda\\lib\\site-packages (from libcst>=0.2.5->google-cloud-vision==2.0.0) (6.0)\n",
      "Requirement already satisfied: typing-extensions>=3.7.4.2 in g:\\anaconda\\lib\\site-packages (from libcst>=0.2.5->google-cloud-vision==2.0.0) (4.1.1)\n",
      "Requirement already satisfied: pyparsing!=3.0.5,>=2.0.2 in g:\\anaconda\\lib\\site-packages (from packaging>=14.3->google-api-core[grpc]<2.0.0dev,>=1.22.2->google-cloud-vision==2.0.0) (3.0.4)\n",
      "Requirement already satisfied: pyasn1<0.5.0,>=0.4.6 in g:\\anaconda\\lib\\site-packages (from pyasn1-modules>=0.2.1->google-auth<2.0dev,>=1.25.0->google-api-core[grpc]<2.0.0dev,>=1.22.2->google-cloud-vision==2.0.0) (0.4.8)\n",
      "Requirement already satisfied: urllib3<1.27,>=1.21.1 in g:\\anaconda\\lib\\site-packages (from requests<3.0.0dev,>=2.18.0->google-api-core[grpc]<2.0.0dev,>=1.22.2->google-cloud-vision==2.0.0) (1.26.9)\n",
      "Requirement already satisfied: idna<4,>=2.5 in g:\\anaconda\\lib\\site-packages (from requests<3.0.0dev,>=2.18.0->google-api-core[grpc]<2.0.0dev,>=1.22.2->google-cloud-vision==2.0.0) (3.3)\n",
      "Requirement already satisfied: charset-normalizer~=2.0.0 in g:\\anaconda\\lib\\site-packages (from requests<3.0.0dev,>=2.18.0->google-api-core[grpc]<2.0.0dev,>=1.22.2->google-cloud-vision==2.0.0) (2.0.4)\n",
      "Requirement already satisfied: certifi>=2017.4.17 in g:\\anaconda\\lib\\site-packages (from requests<3.0.0dev,>=2.18.0->google-api-core[grpc]<2.0.0dev,>=1.22.2->google-cloud-vision==2.0.0) (2021.10.8)\n",
      "Requirement already satisfied: mypy-extensions>=0.3.0 in g:\\anaconda\\lib\\site-packages (from typing-inspect>=0.4.0->libcst>=0.2.5->google-cloud-vision==2.0.0) (0.4.3)\n",
      "Installing collected packages: typing-inspect, google-api-core, libcst, google-cloud-vision\n",
      "  Attempting uninstall: google-api-core\n",
      "    Found existing installation: google-api-core 0.1.4\n",
      "    Uninstalling google-api-core-0.1.4:\n",
      "      Successfully uninstalled google-api-core-0.1.4\n",
      "  Attempting uninstall: google-cloud-vision\n",
      "    Found existing installation: google-cloud-vision 0.29.0\n",
      "    Uninstalling google-cloud-vision-0.29.0:\n",
      "      Successfully uninstalled google-cloud-vision-0.29.0\n",
      "Successfully installed google-api-core-1.32.0 google-cloud-vision-2.0.0 libcst-0.4.7 typing-inspect-0.8.0\n",
      "Unexpected exception formatting exception. Falling back to standard exception\n"
     ]
    },
    {
     "name": "stderr",
     "output_type": "stream",
     "text": [
      "Traceback (most recent call last):\n",
      "  File \"G:\\anaconda\\lib\\site-packages\\pkg_resources\\__init__.py\", line 3024, in _dep_map\n",
      "    return self.__dep_map\n",
      "  File \"G:\\anaconda\\lib\\site-packages\\pkg_resources\\__init__.py\", line 2821, in __getattr__\n",
      "    raise AttributeError(attr)\n",
      "AttributeError: _DistInfoDistribution__dep_map\n",
      "\n",
      "During handling of the above exception, another exception occurred:\n",
      "\n",
      "Traceback (most recent call last):\n",
      "  File \"G:\\anaconda\\lib\\site-packages\\pkg_resources\\__init__.py\", line 3015, in _parsed_pkg_info\n",
      "    return self._pkg_info\n",
      "  File \"G:\\anaconda\\lib\\site-packages\\pkg_resources\\__init__.py\", line 2821, in __getattr__\n",
      "    raise AttributeError(attr)\n",
      "AttributeError: _pkg_info\n",
      "\n",
      "During handling of the above exception, another exception occurred:\n",
      "\n",
      "Traceback (most recent call last):\n",
      "  File \"G:\\anaconda\\lib\\site-packages\\IPython\\core\\interactiveshell.py\", line 3369, in run_code\n",
      "    exec(code_obj, self.user_global_ns, self.user_ns)\n",
      "  File \"C:\\Users\\Admin\\AppData\\Local\\Temp\\ipykernel_23268\\1680113414.py\", line 11, in <cell line: 11>\n",
      "    from google.cloud import vision\n",
      "  File \"G:\\anaconda\\lib\\site-packages\\google\\cloud\\vision\\__init__.py\", line 18, in <module>\n",
      "    from google.cloud.vision_v1.services.image_annotator.async_client import (\n",
      "  File \"G:\\anaconda\\lib\\site-packages\\google\\cloud\\vision_v1\\services\\image_annotator\\__init__.py\", line 18, in <module>\n",
      "    from .client import ImageAnnotatorClient\n",
      "  File \"G:\\anaconda\\lib\\site-packages\\google\\cloud\\vision_v1\\services\\image_annotator\\client.py\", line 39, in <module>\n",
      "    from .transports.base import ImageAnnotatorTransport, DEFAULT_CLIENT_INFO\n",
      "  File \"G:\\anaconda\\lib\\site-packages\\google\\cloud\\vision_v1\\services\\image_annotator\\transports\\__init__.py\", line 21, in <module>\n",
      "    from .base import ImageAnnotatorTransport\n",
      "  File \"G:\\anaconda\\lib\\site-packages\\google\\cloud\\vision_v1\\services\\image_annotator\\transports\\base.py\", line 35, in <module>\n",
      "    gapic_version=pkg_resources.get_distribution(\"google-cloud-vision\",).version,\n",
      "  File \"G:\\anaconda\\lib\\site-packages\\pkg_resources\\__init__.py\", line 477, in get_distribution\n",
      "    dist = get_provider(dist)\n",
      "  File \"G:\\anaconda\\lib\\site-packages\\pkg_resources\\__init__.py\", line 353, in get_provider\n",
      "    return working_set.find(moduleOrReq) or require(str(moduleOrReq))[0]\n",
      "  File \"G:\\anaconda\\lib\\site-packages\\pkg_resources\\__init__.py\", line 897, in require\n",
      "    needed = self.resolve(parse_requirements(requirements))\n",
      "  File \"G:\\anaconda\\lib\\site-packages\\pkg_resources\\__init__.py\", line 791, in resolve\n",
      "    new_requirements = dist.requires(req.extras)[::-1]\n",
      "  File \"G:\\anaconda\\lib\\site-packages\\pkg_resources\\__init__.py\", line 2742, in requires\n",
      "    dm = self._dep_map\n",
      "  File \"G:\\anaconda\\lib\\site-packages\\pkg_resources\\__init__.py\", line 3026, in _dep_map\n",
      "    self.__dep_map = self._compute_dependencies()\n",
      "  File \"G:\\anaconda\\lib\\site-packages\\pkg_resources\\__init__.py\", line 3035, in _compute_dependencies\n",
      "    for req in self._parsed_pkg_info.get_all('Requires-Dist') or []:\n",
      "  File \"G:\\anaconda\\lib\\site-packages\\pkg_resources\\__init__.py\", line 3017, in _parsed_pkg_info\n",
      "    metadata = self.get_metadata(self.PKG_INFO)\n",
      "  File \"G:\\anaconda\\lib\\site-packages\\pkg_resources\\__init__.py\", line 1418, in get_metadata\n",
      "    value = self._get(path)\n",
      "  File \"G:\\anaconda\\lib\\site-packages\\pkg_resources\\__init__.py\", line 1622, in _get\n",
      "    with open(path, 'rb') as stream:\n",
      "FileNotFoundError: [Errno 2] No such file or directory: 'g:\\\\anaconda\\\\lib\\\\site-packages\\\\google_api_core-1.25.1.dist-info\\\\METADATA'\n",
      "\n",
      "During handling of the above exception, another exception occurred:\n",
      "\n",
      "Traceback (most recent call last):\n",
      "  File \"G:\\anaconda\\lib\\site-packages\\IPython\\core\\interactiveshell.py\", line 1982, in showtraceback\n",
      "    stb = self.InteractiveTB.structured_traceback(\n",
      "  File \"G:\\anaconda\\lib\\site-packages\\IPython\\core\\ultratb.py\", line 1118, in structured_traceback\n",
      "    return FormattedTB.structured_traceback(\n",
      "  File \"G:\\anaconda\\lib\\site-packages\\IPython\\core\\ultratb.py\", line 1012, in structured_traceback\n",
      "    return VerboseTB.structured_traceback(\n",
      "  File \"G:\\anaconda\\lib\\site-packages\\IPython\\core\\ultratb.py\", line 865, in structured_traceback\n",
      "    formatted_exception = self.format_exception_as_a_whole(etype, evalue, etb, number_of_lines_of_context,\n",
      "  File \"G:\\anaconda\\lib\\site-packages\\IPython\\core\\ultratb.py\", line 818, in format_exception_as_a_whole\n",
      "    frames.append(self.format_record(r))\n",
      "  File \"G:\\anaconda\\lib\\site-packages\\IPython\\core\\ultratb.py\", line 736, in format_record\n",
      "    result += ''.join(_format_traceback_lines(frame_info.lines, Colors, self.has_colors, lvals))\n",
      "  File \"G:\\anaconda\\lib\\site-packages\\stack_data\\utils.py\", line 145, in cached_property_wrapper\n",
      "    value = obj.__dict__[self.func.__name__] = self.func(obj)\n",
      "  File \"G:\\anaconda\\lib\\site-packages\\stack_data\\core.py\", line 698, in lines\n",
      "    pieces = self.included_pieces\n",
      "  File \"G:\\anaconda\\lib\\site-packages\\stack_data\\utils.py\", line 145, in cached_property_wrapper\n",
      "    value = obj.__dict__[self.func.__name__] = self.func(obj)\n",
      "  File \"G:\\anaconda\\lib\\site-packages\\stack_data\\core.py\", line 649, in included_pieces\n",
      "    pos = scope_pieces.index(self.executing_piece)\n",
      "  File \"G:\\anaconda\\lib\\site-packages\\stack_data\\utils.py\", line 145, in cached_property_wrapper\n",
      "    value = obj.__dict__[self.func.__name__] = self.func(obj)\n",
      "  File \"G:\\anaconda\\lib\\site-packages\\stack_data\\core.py\", line 628, in executing_piece\n",
      "    return only(\n",
      "  File \"G:\\anaconda\\lib\\site-packages\\executing\\executing.py\", line 164, in only\n",
      "    raise NotOneValueFound('Expected one value, found 0')\n",
      "executing.executing.NotOneValueFound: Expected one value, found 0\n"
     ]
    }
   ],
   "source": [
    "!pip install google-cloud-vision==2.0.0\n",
    "\n",
    "\n",
    "import io\n",
    "import os\n",
    "\n",
    "# Set environment variable\n",
    "os.environ[\"GOOGLE_APPLICATION_CREDENTIALS\"] = \"intense-digit-361206-bca479014843.json\"\n",
    "\n",
    "# Imports the Google Cloud client library\n",
    "from google.cloud import vision\n",
    "\n",
    "# Instantiates a client\n",
    "client = vision.ImageAnnotatorClient()\n",
    "\n",
    "# The name of the image file to annotate\n",
    "file_name = os.path.abspath('resources/picture1.png')\n",
    "\n",
    "# Loads the image into memory\n",
    "with io.open(file_name, 'rb') as image_file:\n",
    "    content = image_file.read()\n",
    "\n",
    "image = vision.Image(content=content)\n",
    "\n",
    "# Performs label detection on the image file\n",
    "response = client.label_detection(image=image)\n",
    "labels = response.label_annotations\n",
    "\n",
    "print('Labels:')\n",
    "for label in labels:\n",
    "    print(label.description)\n",
    "    \n",
    "# Performs text detection on the image file\n",
    "response = client.text_detection(image=image)\n",
    "texts = response.text_annotations\n",
    "\n",
    "print('Texts:')\n",
    "for text in texts:\n",
    "    print(text.description)"
   ]
  },
  {
   "cell_type": "code",
   "execution_count": 22,
   "id": "fd1ff628",
   "metadata": {
    "scrolled": true
   },
   "outputs": [
    {
     "name": "stdout",
     "output_type": "stream",
     "text": [
      "Requirement already satisfied: opencv-python in g:\\anaconda\\lib\\site-packages (4.6.0.66)\n",
      "Requirement already satisfied: numpy>=1.19.3 in g:\\anaconda\\lib\\site-packages (from opencv-python) (1.21.5)\n",
      "Note: you may need to restart the kernel to use updated packages.\n"
     ]
    }
   ],
   "source": [
    "pip install opencv-python"
   ]
  },
  {
   "cell_type": "code",
   "execution_count": 17,
   "id": "a380250b",
   "metadata": {
    "scrolled": true
   },
   "outputs": [
    {
     "name": "stdout",
     "output_type": "stream",
     "text": [
      "Requirement already satisfied: google-cloud-vision in g:\\anaconda\\lib\\site-packages (0.29.0)\n",
      "Requirement already satisfied: requests<3.0dev,>=2.18.4 in g:\\anaconda\\lib\\site-packages (from google-cloud-vision) (2.27.1)\n",
      "Requirement already satisfied: google-auth<2.0dev,>=1.0.2 in g:\\anaconda\\lib\\site-packages (from google-cloud-vision) (1.33.0)\n",
      "Requirement already satisfied: googleapis-common-protos[grpc]<2.0dev,>=1.5.2 in g:\\anaconda\\lib\\site-packages (from google-cloud-vision) (1.56.4)\n",
      "Requirement already satisfied: google-api-core<0.2.0dev,>=0.1.0 in g:\\anaconda\\lib\\site-packages (from google-cloud-vision) (0.1.4)\n",
      "Requirement already satisfied: six>=1.10.0 in g:\\anaconda\\lib\\site-packages (from google-api-core<0.2.0dev,>=0.1.0->google-cloud-vision) (1.16.0)\n",
      "Note: you may need to restart the kernel to use updated packages.\n",
      "Requirement already satisfied: protobuf>=3.0.0 in g:\\anaconda\\lib\\site-packages (from google-api-core<0.2.0dev,>=0.1.0->google-cloud-vision) (3.19.1)\n",
      "Requirement already satisfied: setuptools>=34.0.0 in g:\\anaconda\\lib\\site-packages (from google-api-core<0.2.0dev,>=0.1.0->google-cloud-vision) (61.2.0)\n",
      "Requirement already satisfied: pytz in g:\\anaconda\\lib\\site-packages (from google-api-core<0.2.0dev,>=0.1.0->google-cloud-vision) (2021.3)\n",
      "Requirement already satisfied: cachetools<5.0,>=2.0.0 in g:\\anaconda\\lib\\site-packages (from google-auth<2.0dev,>=1.0.2->google-cloud-vision) (4.2.2)\n",
      "Requirement already satisfied: pyasn1-modules>=0.2.1 in g:\\anaconda\\lib\\site-packages (from google-auth<2.0dev,>=1.0.2->google-cloud-vision) (0.2.8)\n",
      "Requirement already satisfied: rsa<5,>=3.1.4 in g:\\anaconda\\lib\\site-packages (from google-auth<2.0dev,>=1.0.2->google-cloud-vision) (4.7.2)\n",
      "Requirement already satisfied: grpcio<2.0.0dev,>=1.0.0 in g:\\anaconda\\lib\\site-packages (from googleapis-common-protos[grpc]<2.0dev,>=1.5.2->google-cloud-vision) (1.47.0)\n",
      "Requirement already satisfied: pyasn1<0.5.0,>=0.4.6 in g:\\anaconda\\lib\\site-packages (from pyasn1-modules>=0.2.1->google-auth<2.0dev,>=1.0.2->google-cloud-vision) (0.4.8)\n",
      "Requirement already satisfied: urllib3<1.27,>=1.21.1 in g:\\anaconda\\lib\\site-packages (from requests<3.0dev,>=2.18.4->google-cloud-vision) (1.26.9)\n",
      "Requirement already satisfied: certifi>=2017.4.17 in g:\\anaconda\\lib\\site-packages (from requests<3.0dev,>=2.18.4->google-cloud-vision) (2021.10.8)\n",
      "Requirement already satisfied: charset-normalizer~=2.0.0 in g:\\anaconda\\lib\\site-packages (from requests<3.0dev,>=2.18.4->google-cloud-vision) (2.0.4)\n",
      "Requirement already satisfied: idna<4,>=2.5 in g:\\anaconda\\lib\\site-packages (from requests<3.0dev,>=2.18.4->google-cloud-vision) (3.3)\n"
     ]
    }
   ],
   "source": [
    "pip install google-cloud-vision"
   ]
  },
  {
   "cell_type": "code",
   "execution_count": 5,
   "id": "99c6d0a4",
   "metadata": {
    "scrolled": true
   },
   "outputs": [
    {
     "name": "stdout",
     "output_type": "stream",
     "text": [
      "Collecting google-api-python-client\n",
      "  Downloading google_api_python_client-2.58.0-py2.py3-none-any.whl (9.0 MB)\n",
      "Collecting uritemplate<5,>=3.0.1\n",
      "  Downloading uritemplate-4.1.1-py2.py3-none-any.whl (10 kB)\n",
      "Requirement already satisfied: google-api-core!=2.0.*,!=2.1.*,!=2.2.*,!=2.3.0,<3.0.0dev,>=1.31.5 in g:\\anaconda\\lib\\site-packages (from google-api-python-client) (2.8.2)\n",
      "Collecting httplib2<1dev,>=0.15.0\n",
      "  Downloading httplib2-0.20.4-py3-none-any.whl (96 kB)\n",
      "Requirement already satisfied: google-auth<3.0.0dev,>=1.19.0 in g:\\anaconda\\lib\\site-packages (from google-api-python-client) (1.33.0)\n",
      "Collecting google-auth-httplib2>=0.1.0\n",
      "  Downloading google_auth_httplib2-0.1.0-py2.py3-none-any.whl (9.3 kB)\n",
      "Requirement already satisfied: protobuf<5.0.0dev,>=3.15.0 in g:\\anaconda\\lib\\site-packages (from google-api-core!=2.0.*,!=2.1.*,!=2.2.*,!=2.3.0,<3.0.0dev,>=1.31.5->google-api-python-client) (3.19.1)\n",
      "Requirement already satisfied: requests<3.0.0dev,>=2.18.0 in g:\\anaconda\\lib\\site-packages (from google-api-core!=2.0.*,!=2.1.*,!=2.2.*,!=2.3.0,<3.0.0dev,>=1.31.5->google-api-python-client) (2.27.1)\n",
      "Requirement already satisfied: googleapis-common-protos<2.0dev,>=1.56.2 in g:\\anaconda\\lib\\site-packages (from google-api-core!=2.0.*,!=2.1.*,!=2.2.*,!=2.3.0,<3.0.0dev,>=1.31.5->google-api-python-client) (1.56.4)\n",
      "Requirement already satisfied: cachetools<5.0,>=2.0.0 in g:\\anaconda\\lib\\site-packages (from google-auth<3.0.0dev,>=1.19.0->google-api-python-client) (4.2.2)\n",
      "Requirement already satisfied: pyasn1-modules>=0.2.1 in g:\\anaconda\\lib\\site-packages (from google-auth<3.0.0dev,>=1.19.0->google-api-python-client) (0.2.8)\n",
      "Requirement already satisfied: setuptools>=40.3.0 in g:\\anaconda\\lib\\site-packages (from google-auth<3.0.0dev,>=1.19.0->google-api-python-client) (61.2.0)\n",
      "Requirement already satisfied: six>=1.9.0 in g:\\anaconda\\lib\\site-packages (from google-auth<3.0.0dev,>=1.19.0->google-api-python-client) (1.16.0)\n",
      "Requirement already satisfied: rsa<5,>=3.1.4 in g:\\anaconda\\lib\\site-packages (from google-auth<3.0.0dev,>=1.19.0->google-api-python-client) (4.7.2)\n",
      "Requirement already satisfied: pyparsing!=3.0.0,!=3.0.1,!=3.0.2,!=3.0.3,<4,>=2.4.2 in g:\\anaconda\\lib\\site-packages (from httplib2<1dev,>=0.15.0->google-api-python-client) (3.0.4)\n",
      "Requirement already satisfied: pyasn1<0.5.0,>=0.4.6 in g:\\anaconda\\lib\\site-packages (from pyasn1-modules>=0.2.1->google-auth<3.0.0dev,>=1.19.0->google-api-python-client) (0.4.8)\n",
      "Requirement already satisfied: certifi>=2017.4.17 in g:\\anaconda\\lib\\site-packages (from requests<3.0.0dev,>=2.18.0->google-api-core!=2.0.*,!=2.1.*,!=2.2.*,!=2.3.0,<3.0.0dev,>=1.31.5->google-api-python-client) (2021.10.8)\n",
      "Requirement already satisfied: idna<4,>=2.5 in g:\\anaconda\\lib\\site-packages (from requests<3.0.0dev,>=2.18.0->google-api-core!=2.0.*,!=2.1.*,!=2.2.*,!=2.3.0,<3.0.0dev,>=1.31.5->google-api-python-client) (3.3)\n",
      "Requirement already satisfied: urllib3<1.27,>=1.21.1 in g:\\anaconda\\lib\\site-packages (from requests<3.0.0dev,>=2.18.0->google-api-core!=2.0.*,!=2.1.*,!=2.2.*,!=2.3.0,<3.0.0dev,>=1.31.5->google-api-python-client) (1.26.9)\n",
      "Requirement already satisfied: charset-normalizer~=2.0.0 in g:\\anaconda\\lib\\site-packages (from requests<3.0.0dev,>=2.18.0->google-api-core!=2.0.*,!=2.1.*,!=2.2.*,!=2.3.0,<3.0.0dev,>=1.31.5->google-api-python-client) (2.0.4)\n",
      "Installing collected packages: httplib2, uritemplate, google-auth-httplib2, google-api-python-client\n",
      "Successfully installed google-api-python-client-2.58.0 google-auth-httplib2-0.1.0 httplib2-0.20.4 uritemplate-4.1.1\n",
      "Note: you may need to restart the kernel to use updated packages.\n"
     ]
    }
   ],
   "source": [
    "pip install --upgrade google-api-python-client"
   ]
  },
  {
   "cell_type": "code",
   "execution_count": 6,
   "id": "5e54f8ea",
   "metadata": {},
   "outputs": [
    {
     "name": "stdout",
     "output_type": "stream",
     "text": [
      "Requirement already satisfied: google-cloud-vision in g:\\anaconda\\lib\\site-packages (3.1.1)\n",
      "Requirement already satisfied: protobuf<5.0.0dev,>=3.19.0 in g:\\anaconda\\lib\\site-packages (from google-cloud-vision) (3.19.1)\n",
      "Requirement already satisfied: proto-plus<2.0.0dev,>=1.22.0 in g:\\anaconda\\lib\\site-packages (from google-cloud-vision) (1.22.1)\n",
      "Requirement already satisfied: google-api-core[grpc]!=2.0.*,!=2.1.*,!=2.2.*,!=2.3.*,!=2.4.*,!=2.5.*,!=2.6.*,!=2.7.*,<3.0.0dev,>=1.32.0 in g:\\anaconda\\lib\\site-packages (from google-cloud-vision) (2.8.2)\n",
      "Requirement already satisfied: requests<3.0.0dev,>=2.18.0 in g:\\anaconda\\lib\\site-packages (from google-api-core[grpc]!=2.0.*,!=2.1.*,!=2.2.*,!=2.3.*,!=2.4.*,!=2.5.*,!=2.6.*,!=2.7.*,<3.0.0dev,>=1.32.0->google-cloud-vision) (2.27.1)\n",
      "Requirement already satisfied: googleapis-common-protos<2.0dev,>=1.56.2 in g:\\anaconda\\lib\\site-packages (from google-api-core[grpc]!=2.0.*,!=2.1.*,!=2.2.*,!=2.3.*,!=2.4.*,!=2.5.*,!=2.6.*,!=2.7.*,<3.0.0dev,>=1.32.0->google-cloud-vision) (1.56.4)\n",
      "Requirement already satisfied: google-auth<3.0dev,>=1.25.0 in g:\\anaconda\\lib\\site-packages (from google-api-core[grpc]!=2.0.*,!=2.1.*,!=2.2.*,!=2.3.*,!=2.4.*,!=2.5.*,!=2.6.*,!=2.7.*,<3.0.0dev,>=1.32.0->google-cloud-vision) (1.33.0)\n",
      "Requirement already satisfied: grpcio<2.0dev,>=1.33.2 in g:\\anaconda\\lib\\site-packages (from google-api-core[grpc]!=2.0.*,!=2.1.*,!=2.2.*,!=2.3.*,!=2.4.*,!=2.5.*,!=2.6.*,!=2.7.*,<3.0.0dev,>=1.32.0->google-cloud-vision) (1.47.0)\n",
      "Requirement already satisfied: grpcio-status<2.0dev,>=1.33.2 in g:\\anaconda\\lib\\site-packages (from google-api-core[grpc]!=2.0.*,!=2.1.*,!=2.2.*,!=2.3.*,!=2.4.*,!=2.5.*,!=2.6.*,!=2.7.*,<3.0.0dev,>=1.32.0->google-cloud-vision) (1.47.0)\n",
      "Requirement already satisfied: pyasn1-modules>=0.2.1 in g:\\anaconda\\lib\\site-packages (from google-auth<3.0dev,>=1.25.0->google-api-core[grpc]!=2.0.*,!=2.1.*,!=2.2.*,!=2.3.*,!=2.4.*,!=2.5.*,!=2.6.*,!=2.7.*,<3.0.0dev,>=1.32.0->google-cloud-vision) (0.2.8)\n",
      "Requirement already satisfied: cachetools<5.0,>=2.0.0 in g:\\anaconda\\lib\\site-packages (from google-auth<3.0dev,>=1.25.0->google-api-core[grpc]!=2.0.*,!=2.1.*,!=2.2.*,!=2.3.*,!=2.4.*,!=2.5.*,!=2.6.*,!=2.7.*,<3.0.0dev,>=1.32.0->google-cloud-vision) (4.2.2)\n",
      "Requirement already satisfied: setuptools>=40.3.0 in g:\\anaconda\\lib\\site-packages (from google-auth<3.0dev,>=1.25.0->google-api-core[grpc]!=2.0.*,!=2.1.*,!=2.2.*,!=2.3.*,!=2.4.*,!=2.5.*,!=2.6.*,!=2.7.*,<3.0.0dev,>=1.32.0->google-cloud-vision) (61.2.0)\n",
      "Requirement already satisfied: rsa<5,>=3.1.4 in g:\\anaconda\\lib\\site-packages (from google-auth<3.0dev,>=1.25.0->google-api-core[grpc]!=2.0.*,!=2.1.*,!=2.2.*,!=2.3.*,!=2.4.*,!=2.5.*,!=2.6.*,!=2.7.*,<3.0.0dev,>=1.32.0->google-cloud-vision) (4.7.2)\n",
      "Requirement already satisfied: six>=1.9.0 in g:\\anaconda\\lib\\site-packages (from google-auth<3.0dev,>=1.25.0->google-api-core[grpc]!=2.0.*,!=2.1.*,!=2.2.*,!=2.3.*,!=2.4.*,!=2.5.*,!=2.6.*,!=2.7.*,<3.0.0dev,>=1.32.0->google-cloud-vision) (1.16.0)\n",
      "Requirement already satisfied: pyasn1<0.5.0,>=0.4.6 in g:\\anaconda\\lib\\site-packages (from pyasn1-modules>=0.2.1->google-auth<3.0dev,>=1.25.0->google-api-core[grpc]!=2.0.*,!=2.1.*,!=2.2.*,!=2.3.*,!=2.4.*,!=2.5.*,!=2.6.*,!=2.7.*,<3.0.0dev,>=1.32.0->google-cloud-vision) (0.4.8)\n",
      "Requirement already satisfied: certifi>=2017.4.17 in g:\\anaconda\\lib\\site-packages (from requests<3.0.0dev,>=2.18.0->google-api-core[grpc]!=2.0.*,!=2.1.*,!=2.2.*,!=2.3.*,!=2.4.*,!=2.5.*,!=2.6.*,!=2.7.*,<3.0.0dev,>=1.32.0->google-cloud-vision) (2021.10.8)\n",
      "Requirement already satisfied: charset-normalizer~=2.0.0 in g:\\anaconda\\lib\\site-packages (from requests<3.0.0dev,>=2.18.0->google-api-core[grpc]!=2.0.*,!=2.1.*,!=2.2.*,!=2.3.*,!=2.4.*,!=2.5.*,!=2.6.*,!=2.7.*,<3.0.0dev,>=1.32.0->google-cloud-vision) (2.0.4)\n",
      "Requirement already satisfied: urllib3<1.27,>=1.21.1 in g:\\anaconda\\lib\\site-packages (from requests<3.0.0dev,>=2.18.0->google-api-core[grpc]!=2.0.*,!=2.1.*,!=2.2.*,!=2.3.*,!=2.4.*,!=2.5.*,!=2.6.*,!=2.7.*,<3.0.0dev,>=1.32.0->google-cloud-vision) (1.26.9)\n",
      "Requirement already satisfied: idna<4,>=2.5 in g:\\anaconda\\lib\\site-packages (from requests<3.0.0dev,>=2.18.0->google-api-core[grpc]!=2.0.*,!=2.1.*,!=2.2.*,!=2.3.*,!=2.4.*,!=2.5.*,!=2.6.*,!=2.7.*,<3.0.0dev,>=1.32.0->google-cloud-vision) (3.3)\n",
      "Note: you may need to restart the kernel to use updated packages.\n"
     ]
    }
   ],
   "source": [
    "pip install --upgrade google-cloud-vision"
   ]
  }
 ],
 "metadata": {
  "kernelspec": {
   "display_name": "Python 3 (ipykernel)",
   "language": "python",
   "name": "python3"
  },
  "language_info": {
   "codemirror_mode": {
    "name": "ipython",
    "version": 3
   },
   "file_extension": ".py",
   "mimetype": "text/x-python",
   "name": "python",
   "nbconvert_exporter": "python",
   "pygments_lexer": "ipython3",
   "version": "3.9.12"
  }
 },
 "nbformat": 4,
 "nbformat_minor": 5
}
